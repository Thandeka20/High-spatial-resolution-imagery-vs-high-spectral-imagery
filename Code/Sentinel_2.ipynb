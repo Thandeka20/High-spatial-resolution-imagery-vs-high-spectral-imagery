{
  "cells": [
    {
      "cell_type": "markdown",
      "metadata": {
        "id": "view-in-github",
        "colab_type": "text"
      },
      "source": [
        "<a href=\"https://colab.research.google.com/github/Thandeka20/High-spatial-resolution-imagery-vs-high-spectral-imagery/blob/main/Code/Sentinel_2.ipynb\" target=\"_parent\"><img src=\"https://colab.research.google.com/assets/colab-badge.svg\" alt=\"Open In Colab\"/></a>"
      ]
    },
    {
      "cell_type": "code",
      "execution_count": 42,
      "metadata": {
        "id": "TNEyh2QVsIkL",
        "colab": {
          "base_uri": "https://localhost:8080/",
          "height": 17
        },
        "outputId": "a76048e0-fd45-4151-81d2-462132d7d36e"
      },
      "outputs": [
        {
          "output_type": "display_data",
          "data": {
            "text/plain": [
              "<IPython.core.display.HTML object>"
            ],
            "text/html": [
              "\n",
              "            <style>\n",
              "                .geemap-dark {\n",
              "                    --jp-widgets-color: white;\n",
              "                    --jp-widgets-label-color: white;\n",
              "                    --jp-ui-font-color1: white;\n",
              "                    --jp-layout-color2: #454545;\n",
              "                    background-color: #383838;\n",
              "                }\n",
              "                    \n",
              "                .geemap-dark .jupyter-button {\n",
              "                    --jp-layout-color3: #383838;\n",
              "                }\n",
              "                \n",
              "                .geemap-colab {\n",
              "                    background-color: var(--colab-primary-surface-color, white);\n",
              "                }\n",
              "                    \n",
              "                .geemap-colab .jupyter-button {\n",
              "                    --jp-layout-color3: var(--colab-primary-surface-color, white);\n",
              "                }\n",
              "            </style>\n",
              "            "
            ]
          },
          "metadata": {}
        }
      ],
      "source": [
        "import ee"
      ]
    },
    {
      "cell_type": "code",
      "execution_count": 43,
      "metadata": {
        "id": "NMp9Ei9b0XXL",
        "colab": {
          "base_uri": "https://localhost:8080/",
          "height": 17
        },
        "outputId": "c1d1b8e4-2cd7-4d13-f482-ac4d0ef47ea8"
      },
      "outputs": [
        {
          "output_type": "display_data",
          "data": {
            "text/plain": [
              "<IPython.core.display.HTML object>"
            ],
            "text/html": [
              "\n",
              "            <style>\n",
              "                .geemap-dark {\n",
              "                    --jp-widgets-color: white;\n",
              "                    --jp-widgets-label-color: white;\n",
              "                    --jp-ui-font-color1: white;\n",
              "                    --jp-layout-color2: #454545;\n",
              "                    background-color: #383838;\n",
              "                }\n",
              "                    \n",
              "                .geemap-dark .jupyter-button {\n",
              "                    --jp-layout-color3: #383838;\n",
              "                }\n",
              "                \n",
              "                .geemap-colab {\n",
              "                    background-color: var(--colab-primary-surface-color, white);\n",
              "                }\n",
              "                    \n",
              "                .geemap-colab .jupyter-button {\n",
              "                    --jp-layout-color3: var(--colab-primary-surface-color, white);\n",
              "                }\n",
              "            </style>\n",
              "            "
            ]
          },
          "metadata": {}
        }
      ],
      "source": [
        "# Trigger the authentication flow.\n",
        "ee.Authenticate()\n",
        "\n",
        "# Initialize the library.\n",
        "ee.Initialize(project='thandeka-skosana')"
      ]
    },
    {
      "cell_type": "code",
      "execution_count": 44,
      "metadata": {
        "colab": {
          "base_uri": "https://localhost:8080/",
          "height": 238
        },
        "id": "CB3c_00ysyzX",
        "outputId": "e189d77c-e090-4d4b-d284-2af1384adfcb"
      },
      "outputs": [
        {
          "output_type": "display_data",
          "data": {
            "text/plain": [
              "<IPython.core.display.HTML object>"
            ],
            "text/html": [
              "\n",
              "            <style>\n",
              "                .geemap-dark {\n",
              "                    --jp-widgets-color: white;\n",
              "                    --jp-widgets-label-color: white;\n",
              "                    --jp-ui-font-color1: white;\n",
              "                    --jp-layout-color2: #454545;\n",
              "                    background-color: #383838;\n",
              "                }\n",
              "                    \n",
              "                .geemap-dark .jupyter-button {\n",
              "                    --jp-layout-color3: #383838;\n",
              "                }\n",
              "                \n",
              "                .geemap-colab {\n",
              "                    background-color: var(--colab-primary-surface-color, white);\n",
              "                }\n",
              "                    \n",
              "                .geemap-colab .jupyter-button {\n",
              "                    --jp-layout-color3: var(--colab-primary-surface-color, white);\n",
              "                }\n",
              "            </style>\n",
              "            "
            ]
          },
          "metadata": {}
        },
        {
          "output_type": "stream",
          "name": "stdout",
          "text": [
            "Requirement already satisfied: rasterio in /usr/local/lib/python3.10/dist-packages (1.3.9)\n",
            "Requirement already satisfied: affine in /usr/local/lib/python3.10/dist-packages (from rasterio) (2.4.0)\n",
            "Requirement already satisfied: attrs in /usr/local/lib/python3.10/dist-packages (from rasterio) (23.2.0)\n",
            "Requirement already satisfied: certifi in /usr/local/lib/python3.10/dist-packages (from rasterio) (2023.11.17)\n",
            "Requirement already satisfied: click>=4.0 in /usr/local/lib/python3.10/dist-packages (from rasterio) (8.1.7)\n",
            "Requirement already satisfied: cligj>=0.5 in /usr/local/lib/python3.10/dist-packages (from rasterio) (0.7.2)\n",
            "Requirement already satisfied: numpy in /usr/local/lib/python3.10/dist-packages (from rasterio) (1.23.5)\n",
            "Requirement already satisfied: snuggs>=1.4.1 in /usr/local/lib/python3.10/dist-packages (from rasterio) (1.4.7)\n",
            "Requirement already satisfied: click-plugins in /usr/local/lib/python3.10/dist-packages (from rasterio) (1.1.1)\n",
            "Requirement already satisfied: setuptools in /usr/local/lib/python3.10/dist-packages (from rasterio) (67.7.2)\n",
            "Requirement already satisfied: pyparsing>=2.1.6 in /usr/local/lib/python3.10/dist-packages (from snuggs>=1.4.1->rasterio) (3.1.1)\n"
          ]
        }
      ],
      "source": [
        "#import modules\n",
        "!pip install rasterio\n",
        "import rasterio\n",
        "import numpy as np\n",
        "import pandas as pd\n",
        "import geopandas as gpd\n",
        "import geemap\n",
        "import re\n",
        "import os\n",
        "from IPython.display import Image, display\n",
        "from google.colab import drive"
      ]
    },
    {
      "cell_type": "markdown",
      "metadata": {
        "id": "jc7NDM3DM8ah"
      },
      "source": [
        "**save_df_to_drive**\n",
        "Function that saves a Pandas DataFrame as a csv file to a Google Drive folder specified by a google drive file path"
      ]
    },
    {
      "cell_type": "code",
      "execution_count": 45,
      "metadata": {
        "colab": {
          "base_uri": "https://localhost:8080/",
          "height": 17
        },
        "id": "_S9T9MPoO4iO",
        "outputId": "cb2e00e1-66ca-4ee6-d49a-85fa89b3f972"
      },
      "outputs": [
        {
          "output_type": "display_data",
          "data": {
            "text/plain": [
              "<IPython.core.display.HTML object>"
            ],
            "text/html": [
              "\n",
              "            <style>\n",
              "                .geemap-dark {\n",
              "                    --jp-widgets-color: white;\n",
              "                    --jp-widgets-label-color: white;\n",
              "                    --jp-ui-font-color1: white;\n",
              "                    --jp-layout-color2: #454545;\n",
              "                    background-color: #383838;\n",
              "                }\n",
              "                    \n",
              "                .geemap-dark .jupyter-button {\n",
              "                    --jp-layout-color3: #383838;\n",
              "                }\n",
              "                \n",
              "                .geemap-colab {\n",
              "                    background-color: var(--colab-primary-surface-color, white);\n",
              "                }\n",
              "                    \n",
              "                .geemap-colab .jupyter-button {\n",
              "                    --jp-layout-color3: var(--colab-primary-surface-color, white);\n",
              "                }\n",
              "            </style>\n",
              "            "
            ]
          },
          "metadata": {}
        }
      ],
      "source": [
        "\n",
        "def save_df_to_drive(df, file_path_in_drive):\n",
        "    \"\"\"\n",
        "    Function that saves a Pandas DataFrame as a csv file to a Google Drive folder specified by a Google Drive file path\n",
        "\n",
        "    parameters:\n",
        "      df (pd.DataFrame): The Pandas DataFrame needing to be saved\n",
        "      file_path_in_drive (str): Google Drive folder file path that will store the CSV file\n",
        "    \"\"\"\n",
        "    try:\n",
        "        # Ensure the destination directory exists\n",
        "        drive.mount('/content/drive')  # Mount Google Drive to access files\n",
        "\n",
        "        # Get the absolute path in Google Drive\n",
        "        absolute_path_in_drive = os.path.join('/content/drive/My Drive', file_path_in_drive)\n",
        "\n",
        "        # Ensure the destination directory exists in Google Drive\n",
        "        os.makedirs(os.path.dirname(absolute_path_in_drive), exist_ok=True)\n",
        "\n",
        "        # Save the DataFrame to the specified file path in Google Drive\n",
        "        df.to_csv(absolute_path_in_drive, index=False)\n",
        "\n",
        "        print(f\"DataFrame saved to Google Drive at '{absolute_path_in_drive}'\")\n",
        "\n",
        "    except Exception as e:\n",
        "        print(\"An error occurred:\", str(e))\n",
        "\n",
        "# Example usage:\n",
        "# Assuming your file_path_in_drive is 'YourFolder/YourFile.csv'\n",
        "# Make sure to change it according to your actual folder structure\n",
        "#save_df_to_drive(your_dataframe, 'YourFolder/YourFile.csv')\n"
      ]
    },
    {
      "cell_type": "markdown",
      "metadata": {
        "id": "8dWSB6s-Zwlg"
      },
      "source": [
        "**Image collection**\n",
        "get_sentinel_images_ee\n",
        "Function that allows the download of Sentinel-2 images from GEE"
      ]
    },
    {
      "cell_type": "code",
      "execution_count": 46,
      "metadata": {
        "colab": {
          "base_uri": "https://localhost:8080/",
          "height": 17
        },
        "id": "Qn1qZ0zsaAR5",
        "outputId": "aa3b4562-7384-4aa9-83fb-f22466af2666"
      },
      "outputs": [
        {
          "output_type": "display_data",
          "data": {
            "text/plain": [
              "<IPython.core.display.HTML object>"
            ],
            "text/html": [
              "\n",
              "            <style>\n",
              "                .geemap-dark {\n",
              "                    --jp-widgets-color: white;\n",
              "                    --jp-widgets-label-color: white;\n",
              "                    --jp-ui-font-color1: white;\n",
              "                    --jp-layout-color2: #454545;\n",
              "                    background-color: #383838;\n",
              "                }\n",
              "                    \n",
              "                .geemap-dark .jupyter-button {\n",
              "                    --jp-layout-color3: #383838;\n",
              "                }\n",
              "                \n",
              "                .geemap-colab {\n",
              "                    background-color: var(--colab-primary-surface-color, white);\n",
              "                }\n",
              "                    \n",
              "                .geemap-colab .jupyter-button {\n",
              "                    --jp-layout-color3: var(--colab-primary-surface-color, white);\n",
              "                }\n",
              "            </style>\n",
              "            "
            ]
          },
          "metadata": {}
        }
      ],
      "source": [
        "#import ee\n",
        "#from datetime import datetime\n",
        "\n",
        "#def get_sentinel_images_ee(latitude, longitude, start_date, end_date):\n",
        "    #\"\"\"\n",
        "    #Function to search and download Sentinel-2 images using Google Earth Engine.\n",
        "\n",
        "    #Parameters:\n",
        "        #latitude (float): Latitude coordinate of the desired location.\n",
        "        #longitude (float): Longitude coordinate of the desired location.\n",
        "        #start_date (str): Start date of the date range in the format 'YYYY-MM-DD'.\n",
        "        #end_date (str): End date of the date range in the format 'YYYY-MM-DD'.\n",
        "\n",
        "    #Returns:\n",
        "        #List of image collection IDs for the retrieved Sentinel-2 images.\n",
        "    #\"\"\"\n",
        "    # Create a point geometry representing the location\n",
        "    #point = ee.Geometry.Point(longitude, latitude)\n",
        "\n",
        "    # Define the date range\n",
        "    #date_range = ee.DateRange(datetime.strptime(start_date, '%Y-%m-%d'), datetime.strptime(end_date, '%Y-%m-%d'))\n",
        "\n",
        "    # Filter Sentinel-2 data based on location and date range\n",
        "    #collection = (ee.ImageCollection('COPERNICUS/S2')\n",
        "                  #.filterBounds(point)\n",
        "                  #.filterDate(date_range))\n",
        "\n",
        "    # Get a list of image IDs in the collection\n",
        "    #image_ids = collection.aggregate_array('system:id').getInfo()\n",
        "\n",
        "    #return image_ids\n",
        "\n",
        "# Example usage:\n",
        "#latitude = -25.12  # Hazyview\n",
        "#longitude = 30.88  # Hazyview\n",
        "#start_date = '2023-07-27'\n",
        "#end_date = '2023-07-28'\n",
        "\n",
        "#result = get_sentinel_images_ee(latitude, longitude, start_date, end_date)\n",
        "#print(\"Image Collection IDs:\", result)"
      ]
    },
    {
      "cell_type": "code",
      "execution_count": 70,
      "metadata": {
        "colab": {
          "base_uri": "https://localhost:8080/",
          "height": 55
        },
        "id": "Mq9elXX8WXR8",
        "outputId": "b9413703-3ffa-4110-b186-5937b3f9ff2b"
      },
      "outputs": [
        {
          "output_type": "display_data",
          "data": {
            "text/plain": [
              "<IPython.core.display.HTML object>"
            ],
            "text/html": [
              "\n",
              "            <style>\n",
              "                .geemap-dark {\n",
              "                    --jp-widgets-color: white;\n",
              "                    --jp-widgets-label-color: white;\n",
              "                    --jp-ui-font-color1: white;\n",
              "                    --jp-layout-color2: #454545;\n",
              "                    background-color: #383838;\n",
              "                }\n",
              "                    \n",
              "                .geemap-dark .jupyter-button {\n",
              "                    --jp-layout-color3: #383838;\n",
              "                }\n",
              "                \n",
              "                .geemap-colab {\n",
              "                    background-color: var(--colab-primary-surface-color, white);\n",
              "                }\n",
              "                    \n",
              "                .geemap-colab .jupyter-button {\n",
              "                    --jp-layout-color3: var(--colab-primary-surface-color, white);\n",
              "                }\n",
              "            </style>\n",
              "            "
            ]
          },
          "metadata": {}
        },
        {
          "output_type": "stream",
          "name": "stdout",
          "text": [
            "{'B1': 0.2078000009059906, 'B2': 0.18129999935626984, 'B3': 0.1673000007867813, 'B4': 0.15109999477863312, 'B5': 0.17949999868869781, 'B6': 0.27399998903274536, 'B7': 0.3231000006198883, 'B8': 0.3228999972343445, 'B8A': 0.328900009393692, 'B9': 0.18970000743865967, 'B10': 0.10100000351667404, 'B11': 0.22550000250339508, 'B12': 0.16990000009536743, 'QA10': 0, 'QA20': 0, 'QA60': 0}\n"
          ]
        }
      ],
      "source": [
        "def get_sentinel2_bands(image_id, latitude, longitude):\n",
        "    \"\"\"\n",
        "    Function that extracts the multispectral bands from a Sentinel-2 satellite image of a specified location.\n",
        "\n",
        "    Parameters:\n",
        "        image_id (str): Unique Sentinel-2 image ID.\n",
        "        latitude (float): Latitude coordinate of the desired location.\n",
        "        longitude (float): Longitude coordinate of the desired location.\n",
        "\n",
        "    Returns:\n",
        "        band_dict (dict): Dictionary of multispectral band values for a specified location with labels B1 - B12.\n",
        "    \"\"\"\n",
        "    try:\n",
        "        # Load the Sentinel-2 image by its ID\n",
        "        sentinel2_image = ee.Image(image_id)\n",
        "\n",
        "        # Rescale image bands / 10,000\n",
        "        sentinel2_image = sentinel2_image.divide(10000)\n",
        "\n",
        "        # Define a point geometry for the specified latitude and longitude\n",
        "        point_geometry = ee.Geometry.Point([longitude, latitude])\n",
        "\n",
        "        # Use the .sample() method to extract pixel values at the specified geometry\n",
        "        # This will create a feature collection containing the pixel values\n",
        "        pixel_values = sentinel2_image.sample(point_geometry, 10)  # 10 meters scale for Sentinel-2\n",
        "\n",
        "        # Initialize an empty dictionary to store the band values\n",
        "        band_dict = {}\n",
        "\n",
        "        # Extract band values from the feature collection and add them to the dictionary\n",
        "        for band_name in sentinel2_image.bandNames().getInfo():\n",
        "            band_value = pixel_values.first().get(band_name).getInfo()\n",
        "            band_dict[band_name] = band_value\n",
        "\n",
        "        return band_dict\n",
        "\n",
        "    except ee.EEException as e:\n",
        "        return {\"error\": \"An Earth Engine exception occurred: \" + str(e)}\n",
        "    except Exception as e:\n",
        "        return {\"error\": \"An unexpected error occurred: \" + str(e)}\n",
        "\n",
        "# -----------------------------------------------------------------------------------------------------------------\n",
        "# Example usage:\n",
        "sentinel2_image_id = 'COPERNICUS/S2/20230727T073621_20230727T075808_T36JTT'\n",
        "latitude = -25.12\n",
        "longitude = 30.88\n",
        "\n",
        "band_data = get_sentinel2_bands(sentinel2_image_id, latitude, longitude)\n",
        "print(band_data)\n"
      ]
    },
    {
      "cell_type": "code",
      "execution_count": 71,
      "metadata": {
        "colab": {
          "base_uri": "https://localhost:8080/",
          "height": 521
        },
        "id": "_O0uI5FZD_uZ",
        "outputId": "ba63c25a-2e68-4458-d012-731e750473d3"
      },
      "outputs": [
        {
          "output_type": "display_data",
          "data": {
            "text/plain": [
              "<IPython.core.display.HTML object>"
            ],
            "text/html": [
              "\n",
              "            <style>\n",
              "                .geemap-dark {\n",
              "                    --jp-widgets-color: white;\n",
              "                    --jp-widgets-label-color: white;\n",
              "                    --jp-ui-font-color1: white;\n",
              "                    --jp-layout-color2: #454545;\n",
              "                    background-color: #383838;\n",
              "                }\n",
              "                    \n",
              "                .geemap-dark .jupyter-button {\n",
              "                    --jp-layout-color3: #383838;\n",
              "                }\n",
              "                \n",
              "                .geemap-colab {\n",
              "                    background-color: var(--colab-primary-surface-color, white);\n",
              "                }\n",
              "                    \n",
              "                .geemap-colab .jupyter-button {\n",
              "                    --jp-layout-color3: var(--colab-primary-surface-color, white);\n",
              "                }\n",
              "            </style>\n",
              "            "
            ]
          },
          "metadata": {}
        },
        {
          "output_type": "display_data",
          "data": {
            "text/html": [
              "<img src=\"https://earthengine.googleapis.com/v1/projects/thandeka-skosana/thumbnails/7424742d976f833afd3ddecf0f0de4f5-6c4059e74a7509f779a3187065735039:getPixels\"/>"
            ],
            "text/plain": [
              "<IPython.core.display.Image object>"
            ]
          },
          "metadata": {}
        }
      ],
      "source": [
        "#visualize the Sentinel-2 scene\n",
        "# Define the bands to use for visualization\n",
        "bands = ee.List([\"B4\", \"B3\", \"B2\"])\n",
        "\n",
        "# Define visualization parameters\n",
        "vis_params = {\n",
        "    'bands': ['B4', 'B3', 'B2'],\n",
        "    'min': 0,\n",
        "    'max': 3000,\n",
        "}\n",
        "\n",
        "# Example: Display an image using the defined visualization parameters\n",
        "image = ee.Image('COPERNICUS/S2/20230727T073621_20230727T075808_T36JTT')\n",
        "display_image = Image(url=image.visualize(**vis_params).getThumbURL({'dimensions': '500x500'}))\n",
        "display(display_image)"
      ]
    },
    {
      "cell_type": "markdown",
      "metadata": {
        "id": "PveC9KwKSMvj"
      },
      "source": [
        "Extracting Sentinel-2 bands\n"
      ]
    },
    {
      "cell_type": "markdown",
      "metadata": {
        "id": "iBhT28Rlzc_W"
      },
      "source": [
        "**Calculating indices**"
      ]
    },
    {
      "cell_type": "code",
      "execution_count": 48,
      "metadata": {
        "colab": {
          "base_uri": "https://localhost:8080/",
          "height": 17
        },
        "id": "KrM7_O8qzgWx",
        "outputId": "36882108-9aaf-48a6-95c4-0bb3fadfce43"
      },
      "outputs": [
        {
          "output_type": "display_data",
          "data": {
            "text/plain": [
              "<IPython.core.display.HTML object>"
            ],
            "text/html": [
              "\n",
              "            <style>\n",
              "                .geemap-dark {\n",
              "                    --jp-widgets-color: white;\n",
              "                    --jp-widgets-label-color: white;\n",
              "                    --jp-ui-font-color1: white;\n",
              "                    --jp-layout-color2: #454545;\n",
              "                    background-color: #383838;\n",
              "                }\n",
              "                    \n",
              "                .geemap-dark .jupyter-button {\n",
              "                    --jp-layout-color3: #383838;\n",
              "                }\n",
              "                \n",
              "                .geemap-colab {\n",
              "                    background-color: var(--colab-primary-surface-color, white);\n",
              "                }\n",
              "                    \n",
              "                .geemap-colab .jupyter-button {\n",
              "                    --jp-layout-color3: var(--colab-primary-surface-color, white);\n",
              "                }\n",
              "            </style>\n",
              "            "
            ]
          },
          "metadata": {}
        }
      ],
      "source": [
        "# Load the Sentinel-2 image using the provided image_id\n",
        "image = ee.Image('COPERNICUS/S2/20230727T073621_20230727T075808_T36JTT')\n",
        "\n",
        "# Adding Indices\n",
        "\n",
        "# 1. NDVI (Normalized Difference Vegetation Index)\n",
        "NDVI = image.expression('(NIR - RED) / (NIR + RED)', {\n",
        "    'NIR': image.select('B8'),\n",
        "    'RED': image.select('B4')\n",
        "}).rename('NDVI')\n",
        "\n",
        "# 2. Chlogreen (Chlorophyll Green Index)\n",
        "Chlogreen = image.expression('(NIRnarrow) / (Green + REDedge1)', {\n",
        "    'NIRnarrow': image.select('B8A'),\n",
        "    'Green': image.select('B3'),\n",
        "    'REDedge1': image.select('B5')\n",
        "}).rename('Chlogreen')\n",
        "\n",
        "# 3. LAnthoC (Leaf Anthocyanin Content)\n",
        "LAnthoC = image.expression('(REDedge3) / (Green + REDedge1)', {\n",
        "    'REDedge3': image.select('B7'),\n",
        "    'Green': image.select('B3'),\n",
        "    'REDedge1': image.select('B5')\n",
        "}).rename('LAnthoC')\n",
        "\n",
        "# 4. LChloC (Leaf Chlorophyll Content)\n",
        "LChloC = image.expression('(REDedge3) / (REDedge1)', {\n",
        "    'REDedge3': image.select('B7'),\n",
        "    'REDedge1': image.select('B5')\n",
        "}).rename('LChloC')\n",
        "\n",
        "# 5. LCaroC (Leaf Carotenoid Content)\n",
        "LCaroC = image.expression('(REDedge3) / (Blue - REDedge1)', {\n",
        "    'REDedge3': image.select('B7'),\n",
        "    'Blue': image.select('B2'),\n",
        "    'REDedge1': image.select('B5')\n",
        "}).rename('LCaroC')\n",
        "\n",
        "# 6. BAI (Built-up Area Index)\n",
        "BAI = image.expression('(Blue - NIR) / (Blue + NIR)', {\n",
        "    'Blue': image.select('B2'),\n",
        "    'NIR': image.select('B8')\n",
        "}).rename('BAI')\n",
        "\n",
        "# 7. GI (Grazing index)\n",
        "GI = image.expression('(Green / Red)', {\n",
        "    'Green': image.select('B3'),\n",
        "    'Red': image.select('B4')\n",
        "}).rename('GI')\n",
        "\n",
        "# 8. gNDVI (Green Normalized Difference Vegetation)\n",
        "gNDVI = image.expression('(NIR - Green) / (NIR + Green)', {\n",
        "    'Green': image.select('B3'),\n",
        "    'NIR': image.select('B8')\n",
        "}).rename('gNDVI')\n",
        "\n",
        "# 9. MSI (Multispectral Instrument)\n",
        "MSI = image.expression('(SWIR1 / NIR)', {\n",
        "    'SWIR1': image.select('B11'),\n",
        "    'NIR': image.select('B8')\n",
        "}).rename('MSI')\n",
        "\n",
        "# 10. NDrededgeSWIR\n",
        "NDrededgeSWIR = image.expression('(Rededge2 - SWIR2) / (Rededge2 + SWIR2)', {\n",
        "    'Rededge2': image.select('B6'),\n",
        "    'SWIR2': image.select('B12')\n",
        "}).rename('NDrededgeSWIR')\n",
        "\n",
        "# 11. NDTI (Normalized Difference Tillage Index)\n",
        "NDTI = image.expression('(SWIR1 - SWIR2) / (SWIR1 + SWIR2)', {\n",
        "    'SWIR1': image.select('B11'),\n",
        "    'SWIR2': image.select('B12')\n",
        "}).rename('NDTI')\n",
        "\n",
        "# 12. NDVIre (Red-edge normalized difference vegetation index)\n",
        "NDVIre = image.expression('(NIR - Rededge1) / (NIR + Rededge1)', {\n",
        "    'NIR': image.select('B8'),\n",
        "    'Rededge1': image.select('B5')\n",
        "}).rename('NDVIre')\n",
        "\n",
        "# 13. NDVI1\n",
        "NDVI1 = image.expression('(NIR - SWIR1) / (NIR + SWIR1)', {\n",
        "    'NIR': image.select('B8'),\n",
        "    'SWIR1': image.select('B11')\n",
        "}).rename('NDVI1')\n",
        "\n",
        "# 14. NDVI2\n",
        "NDVI2 = image.expression('(Green - NIR) / (Green + NIR)', {\n",
        "    'NIR': image.select('B8'),\n",
        "    'Green': image.select('B3')\n",
        "}).rename('NDVI2')\n",
        "\n",
        "# 15. NHI (Normalized Humidity Index)\n",
        "NHI = image.expression('(SWIR1 - Green) / (SWIR1 + Green)', {\n",
        "    'SWIR1': image.select('B11'),\n",
        "    'Green': image.select('B3')\n",
        "}).rename('NHI')\n",
        "\n",
        "# 16. EVI (Enhanced Vegetation Index 1)\n",
        "EVI = image.expression('2.5 * ((NIR - Red) / (NIR + 6 * Red - 7.5 * Blue) + 1)', {\n",
        "    'NIR': image.select('B8'),\n",
        "    'Red': image.select('B4'),\n",
        "    'Blue': image.select('B2')\n",
        "}).rename('EVI')\n",
        "\n",
        "# 17. EVI2 (Enhanced Vegetation Index 2)\n",
        "EVI2 = image.expression('2.4 * ((NIR - Red) / (NIR + Red + 1))', {\n",
        "    'NIR': image.select('B8'),\n",
        "    'Red': image.select('B4')\n",
        "}).rename('EVI2')\n",
        "\n",
        "# 18. EVI2_2 (2-band Enhanced Vegetation Index)\n",
        "EVI2_2 = image.expression('2.5 * ((NIR - Red) / (NIR + 2.4 * Red + 1))', {\n",
        "    'NIR': image.select('B8'),\n",
        "    'Red': image.select('B4')\n",
        "}).rename('EVI2_2')\n",
        "\n",
        "# 19. MSAVI (Modified Soil Adjusted Vegetation Index)\n",
        "MSAVI = image.expression('(2 * NIR + 1 - sqrt(pow((2 * NIR + 1), 2) - 8 * (NIR - Red))) / 2', {\n",
        "    'NIR': image.select('B8'),\n",
        "    'Red': image.select('B4')\n",
        "}).rename('MSAVI')\n",
        "\n",
        "# 20. Norm_G (Normalized Green)\n",
        "Norm_G = image.expression('(Green) / (NIRwide + Red + Green)', {\n",
        "    'NIRwide': image.select('B8'),\n",
        "    'Green': image.select('B3'),\n",
        "    'Red': image.select('B4')\n",
        "}).rename('Norm_G')\n",
        "\n",
        "# 21. Norm-NIR (Normalized NIR)\n",
        "Norm_NIR = image.expression('(NIRwide) / (NIRwide + Red + Green)', {\n",
        "    'NIRwide': image.select('B8'),\n",
        "    'Green': image.select('B3'),\n",
        "    'Red': image.select('B4')\n",
        "}).rename('Norm_NIR')\n",
        "\n",
        "# 22. Norm-R (Normalized Red)\n",
        "Norm_Red = image.expression('(Red) / (NIRwide + Red + Green)', {\n",
        "    'NIRwide': image.select('B8'),\n",
        "    'Green': image.select('B3'),\n",
        "    'Red': image.select('B4')\n",
        "}).rename('Norm_Red')\n",
        "\n",
        "# 23. RededgePeakArea (Red-edge peak area)\n",
        "RededgePeakArea = image.expression('(Red + Rededge1 + Rededge2 + Rededge3 + NIRnarrow)', {\n",
        "    'NIRnarrow': image.select('B8A'),\n",
        "    'Rededge1': image.select('B5'),\n",
        "    'Rededge2': image.select('B6'),\n",
        "    'Rededge3': image.select('B7'),\n",
        "    'Red': image.select('B4')\n",
        "}).rename('RededgePeakArea')\n",
        "\n",
        "# 24. RedSWIR1 (Bands difference)\n",
        "RedSWIR1 = image.expression('(Red - SWIR)', {\n",
        "    'SWIR': image.select('B11'),\n",
        "    'Red': image.select('B4')\n",
        "}).rename('RedSWIR1')\n",
        "\n",
        "# 25. RTVIcore (Red-edge Triangular Vegetation Index)\n",
        "RTVIcore = image.expression('(100 * (NIRnarrow - Rededge1) - 10 * (NIRnarrow - Green))', {\n",
        "    'NIRnarrow': image.select('B8A'),\n",
        "    'Rededge1': image.select('B5'),\n",
        "    'Green': image.select('B3')\n",
        "}).rename('RTVIcore')\n",
        "\n",
        "# 26. SAVI (Soil Adjusted Vegetation Index)\n",
        "SAVI = image.expression('((NIRnarrow - Red) / (NIRnarrow + Red + 0.5) * 1.5)', {\n",
        "    'NIRnarrow': image.select('B8A'),\n",
        "    'Red': image.select('B4')\n",
        "}).rename('SAVI')\n",
        "\n",
        "# 27. SR-BlueRededge1 (Simple Blue and Red-edge 1 Ratio)\n",
        "SRBlueRededge1 = image.expression('(Blue / Rededge1)', {\n",
        "    'Blue': image.select('B2'),\n",
        "    'Rededge1': image.select('B5')\n",
        "}).rename('SRBlueRededge1')\n",
        "\n",
        "# 28. SR-BlueRededge2 (Simple Blue and Red-edge 2 Ratio)\n",
        "SRBlueRededge2 = image.expression('(Blue / Rededge2)', {\n",
        "    'Blue': image.select('B2'),\n",
        "    'Rededge2': image.select('B6')\n",
        "}).rename('SRBlueRededge2')\n",
        "\n",
        "# 29. SR-BlueRededge3 (Simple Blue and Red-edge 3 Ratio)\n",
        "SRBlueRededge3 = image.expression('(Blue / Rededge3)', {\n",
        "    'Blue': image.select('B2'),\n",
        "    'Rededge3': image.select('B7')\n",
        "}).rename('SRBlueRededge3')\n",
        "\n",
        "# 30. SR-NIRnarrowBlue (Simple ratio NIR narrow and Blue)\n",
        "SRNIRnarrowBlue = image.expression('(NIRnarrow / Blue)', {\n",
        "    'NIRnarrow': image.select('B8A'),\n",
        "    'Blue': image.select('B2')\n",
        "}).rename('SRNIRnarrowBlue')\n",
        "\n",
        "# 31. SR-NIRnarrowGreen (Simple ratio NIR narrow and Green)\n",
        "SRNIRnarrowGreen = image.expression('(NIRnarrow / Green)', {\n",
        "    'NIRnarrow': image.select('B8A'),\n",
        "    'Green': image.select('B3')\n",
        "}).rename('SRNIRnarrowGreen')\n",
        "\n",
        "# 32. SR-NIRnarrowRed (Simple ratio NIR narrow and Red)\n",
        "SRNIRnarrowRed = image.expression('(NIRnarrow / Red)', {\n",
        "    'NIRnarrow': image.select('B8A'),\n",
        "    'Red': image.select('B4')\n",
        "}).rename('SRNIRnarrowRed')\n",
        "\n",
        "# 33. SR-NIRnarrowRededge1 (Simple NIR and Red-edge 1 Ratio)\n",
        "SRNIRnarrowRededge1 = image.expression('(NIRnarrow / Rededge1)', {\n",
        "    'NIRnarrow': image.select('B8A'),\n",
        "    'Rededge1': image.select('B5')\n",
        "}).rename('SRNIRnarrowRededge1')\n",
        "\n",
        "# 34. SR-NIRnarrowRededge2 (Simple NIR and Red-edge 2 Ratio)\n",
        "SRNIRnarrowRededge2 = image.expression('(NIRnarrow / Rededge2)', {\n",
        "    'NIRnarrow': image.select('B8A'),\n",
        "    'Rededge2': image.select('B6')\n",
        "}).rename('SRNIRnarrowRededge2')\n",
        "\n",
        "# 35. SR-NIRnarrowRededge3 (Simple NIR and Red-edge 3 Ratio)\n",
        "SRNIRnarrowRededge3 = image.expression('(NIRnarrow / Rededge3)', {\n",
        "    'NIRnarrow': image.select('B8A'),\n",
        "    'Rededge3': image.select('B7')\n",
        "}).rename('SRNIRnarrowRededge3')\n",
        "\n",
        "# 36. STI (Soil Tillage Index)\n",
        "STI = image.expression('(SWIR1 / SWIR2)', {\n",
        "    'SWIR1': image.select('B11'),\n",
        "    'SWIR2': image.select('B12')\n",
        "}).rename('STI')\n",
        "\n",
        "# 37. WBI (Water Body Index)\n",
        "WBI = image.expression('(Blue - Red) / (Blue + Red)', {\n",
        "    'Blue': image.select('B2'),\n",
        "    'Red': image.select('B4')\n",
        "}).rename('WBI')\n",
        "\n",
        "# 38. NDMI (Normalized Difference Moisture Index)\n",
        "NDMI = image.expression('(NIR - SWIR) / (NIR + SWIR)', {\n",
        "    'NIR': image.select('B8'),\n",
        "    'SWIR': image.select('B11')\n",
        "}).rename('NDMI')\n",
        "\n",
        "# 39. NDBR (Normalized Difference Burning Ratio) (also referred to as NBR)\n",
        "NDBR = image.expression('(NIR - MIR) / (NIR + MIR)', {\n",
        "    'NIR': image.select('B8'),\n",
        "    'MIR': image.select('B12')\n",
        "}).rename('NDBR')\n"
      ]
    },
    {
      "cell_type": "markdown",
      "metadata": {
        "id": "MvfKUnjM4IOt"
      },
      "source": [
        "Displaying the results"
      ]
    },
    {
      "cell_type": "code",
      "execution_count": 49,
      "metadata": {
        "colab": {
          "base_uri": "https://localhost:8080/",
          "height": 748
        },
        "id": "G7-QxzXo4LFU",
        "outputId": "63e34f94-b485-4a65-8034-a79d16b80986"
      },
      "outputs": [
        {
          "output_type": "display_data",
          "data": {
            "text/plain": [
              "<IPython.core.display.HTML object>"
            ],
            "text/html": [
              "\n",
              "            <style>\n",
              "                .geemap-dark {\n",
              "                    --jp-widgets-color: white;\n",
              "                    --jp-widgets-label-color: white;\n",
              "                    --jp-ui-font-color1: white;\n",
              "                    --jp-layout-color2: #454545;\n",
              "                    background-color: #383838;\n",
              "                }\n",
              "                    \n",
              "                .geemap-dark .jupyter-button {\n",
              "                    --jp-layout-color3: #383838;\n",
              "                }\n",
              "                \n",
              "                .geemap-colab {\n",
              "                    background-color: var(--colab-primary-surface-color, white);\n",
              "                }\n",
              "                    \n",
              "                .geemap-colab .jupyter-button {\n",
              "                    --jp-layout-color3: var(--colab-primary-surface-color, white);\n",
              "                }\n",
              "            </style>\n",
              "            "
            ]
          },
          "metadata": {}
        },
        {
          "output_type": "stream",
          "name": "stdout",
          "text": [
            "{'type': 'Image', 'bands': [{'id': 'NDVI', 'data_type': {'type': 'PixelType', 'precision': 'float'}, 'dimensions': [10980, 10980], 'crs': 'EPSG:32736', 'crs_transform': [10, 0, 199980, 0, -10, 7300000]}]}\n",
            "{'type': 'Image', 'bands': [{'id': 'Chlogreen', 'data_type': {'type': 'PixelType', 'precision': 'float'}, 'dimensions': [5490, 5490], 'crs': 'EPSG:32736', 'crs_transform': [20, 0, 199980, 0, -20, 7300000]}]}\n",
            "{'type': 'Image', 'bands': [{'id': 'LAnthoC', 'data_type': {'type': 'PixelType', 'precision': 'float'}, 'dimensions': [5490, 5490], 'crs': 'EPSG:32736', 'crs_transform': [20, 0, 199980, 0, -20, 7300000]}]}\n",
            "{'type': 'Image', 'bands': [{'id': 'LChloC', 'data_type': {'type': 'PixelType', 'precision': 'float'}, 'dimensions': [5490, 5490], 'crs': 'EPSG:32736', 'crs_transform': [20, 0, 199980, 0, -20, 7300000]}]}\n",
            "{'type': 'Image', 'bands': [{'id': 'LCaroC', 'data_type': {'type': 'PixelType', 'precision': 'float'}, 'dimensions': [5490, 5490], 'crs': 'EPSG:32736', 'crs_transform': [20, 0, 199980, 0, -20, 7300000]}]}\n",
            "{'type': 'Image', 'bands': [{'id': 'BAI', 'data_type': {'type': 'PixelType', 'precision': 'float'}, 'dimensions': [10980, 10980], 'crs': 'EPSG:32736', 'crs_transform': [10, 0, 199980, 0, -10, 7300000]}]}\n",
            "{'type': 'Image', 'bands': [{'id': 'GI', 'data_type': {'type': 'PixelType', 'precision': 'float'}, 'dimensions': [10980, 10980], 'crs': 'EPSG:32736', 'crs_transform': [10, 0, 199980, 0, -10, 7300000]}]}\n",
            "{'type': 'Image', 'bands': [{'id': 'gNDVI', 'data_type': {'type': 'PixelType', 'precision': 'float'}, 'dimensions': [10980, 10980], 'crs': 'EPSG:32736', 'crs_transform': [10, 0, 199980, 0, -10, 7300000]}]}\n",
            "{'type': 'Image', 'bands': [{'id': 'MSI', 'data_type': {'type': 'PixelType', 'precision': 'float'}, 'dimensions': [5490, 5490], 'crs': 'EPSG:32736', 'crs_transform': [20, 0, 199980, 0, -20, 7300000]}]}\n",
            "{'type': 'Image', 'bands': [{'id': 'NDrededgeSWIR', 'data_type': {'type': 'PixelType', 'precision': 'float'}, 'dimensions': [5490, 5490], 'crs': 'EPSG:32736', 'crs_transform': [20, 0, 199980, 0, -20, 7300000]}]}\n",
            "{'type': 'Image', 'bands': [{'id': 'NDTI', 'data_type': {'type': 'PixelType', 'precision': 'float'}, 'dimensions': [5490, 5490], 'crs': 'EPSG:32736', 'crs_transform': [20, 0, 199980, 0, -20, 7300000]}]}\n",
            "{'type': 'Image', 'bands': [{'id': 'NDVIre', 'data_type': {'type': 'PixelType', 'precision': 'float'}, 'dimensions': [10980, 10980], 'crs': 'EPSG:32736', 'crs_transform': [10, 0, 199980, 0, -10, 7300000]}]}\n",
            "{'type': 'Image', 'bands': [{'id': 'NDVI1', 'data_type': {'type': 'PixelType', 'precision': 'float'}, 'dimensions': [10980, 10980], 'crs': 'EPSG:32736', 'crs_transform': [10, 0, 199980, 0, -10, 7300000]}]}\n",
            "{'type': 'Image', 'bands': [{'id': 'NDVI2', 'data_type': {'type': 'PixelType', 'precision': 'float'}, 'dimensions': [10980, 10980], 'crs': 'EPSG:32736', 'crs_transform': [10, 0, 199980, 0, -10, 7300000]}]}\n",
            "{'type': 'Image', 'bands': [{'id': 'NHI', 'data_type': {'type': 'PixelType', 'precision': 'float'}, 'dimensions': [5490, 5490], 'crs': 'EPSG:32736', 'crs_transform': [20, 0, 199980, 0, -20, 7300000]}]}\n",
            "{'type': 'Image', 'bands': [{'id': 'EVI', 'data_type': {'type': 'PixelType', 'precision': 'double'}, 'dimensions': [10980, 10980], 'crs': 'EPSG:32736', 'crs_transform': [10, 0, 199980, 0, -10, 7300000]}]}\n",
            "{'type': 'Image', 'bands': [{'id': 'EVI2', 'data_type': {'type': 'PixelType', 'precision': 'double', 'min': -157284, 'max': 157284}, 'dimensions': [10980, 10980], 'crs': 'EPSG:32736', 'crs_transform': [10, 0, 199980, 0, -10, 7300000]}]}\n",
            "{'type': 'Image', 'bands': [{'id': 'EVI2_2', 'data_type': {'type': 'PixelType', 'precision': 'double', 'min': -163837.5, 'max': 163837.5}, 'dimensions': [10980, 10980], 'crs': 'EPSG:32736', 'crs_transform': [10, 0, 199980, 0, -10, 7300000]}]}\n",
            "{'type': 'Image', 'bands': [{'id': 'MSAVI', 'data_type': {'type': 'PixelType', 'precision': 'double'}, 'dimensions': [10980, 10980], 'crs': 'EPSG:32736', 'crs_transform': [10, 0, 199980, 0, -10, 7300000]}]}\n",
            "{'type': 'Image', 'bands': [{'id': 'Norm_G', 'data_type': {'type': 'PixelType', 'precision': 'float'}, 'dimensions': [10980, 10980], 'crs': 'EPSG:32736', 'crs_transform': [10, 0, 199980, 0, -10, 7300000]}]}\n",
            "{'type': 'Image', 'bands': [{'id': 'Norm_NIR', 'data_type': {'type': 'PixelType', 'precision': 'float'}, 'dimensions': [10980, 10980], 'crs': 'EPSG:32736', 'crs_transform': [10, 0, 199980, 0, -10, 7300000]}]}\n",
            "{'type': 'Image', 'bands': [{'id': 'Norm_Red', 'data_type': {'type': 'PixelType', 'precision': 'float'}, 'dimensions': [10980, 10980], 'crs': 'EPSG:32736', 'crs_transform': [10, 0, 199980, 0, -10, 7300000]}]}\n",
            "{'type': 'Image', 'bands': [{'id': 'RededgePeakArea', 'data_type': {'type': 'PixelType', 'precision': 'int', 'min': 0, 'max': 327675}, 'dimensions': [10980, 10980], 'crs': 'EPSG:32736', 'crs_transform': [10, 0, 199980, 0, -10, 7300000]}]}\n",
            "{'type': 'Image', 'bands': [{'id': 'RedSWIR1', 'data_type': {'type': 'PixelType', 'precision': 'int', 'min': -65535, 'max': 65535}, 'dimensions': [10980, 10980], 'crs': 'EPSG:32736', 'crs_transform': [10, 0, 199980, 0, -10, 7300000]}]}\n",
            "{'type': 'Image', 'bands': [{'id': 'RTVIcore', 'data_type': {'type': 'PixelType', 'precision': 'int', 'min': -7208850, 'max': 7208850}, 'dimensions': [5490, 5490], 'crs': 'EPSG:32736', 'crs_transform': [20, 0, 199980, 0, -20, 7300000]}]}\n",
            "{'type': 'Image', 'bands': [{'id': 'SAVI', 'data_type': {'type': 'PixelType', 'precision': 'double', 'min': -196605, 'max': 196605}, 'dimensions': [5490, 5490], 'crs': 'EPSG:32736', 'crs_transform': [20, 0, 199980, 0, -20, 7300000]}]}\n",
            "{'type': 'Image', 'bands': [{'id': 'SRBlueRededge1', 'data_type': {'type': 'PixelType', 'precision': 'float'}, 'dimensions': [10980, 10980], 'crs': 'EPSG:32736', 'crs_transform': [10, 0, 199980, 0, -10, 7300000]}]}\n",
            "{'type': 'Image', 'bands': [{'id': 'SRBlueRededge2', 'data_type': {'type': 'PixelType', 'precision': 'float'}, 'dimensions': [10980, 10980], 'crs': 'EPSG:32736', 'crs_transform': [10, 0, 199980, 0, -10, 7300000]}]}\n",
            "{'type': 'Image', 'bands': [{'id': 'SRBlueRededge3', 'data_type': {'type': 'PixelType', 'precision': 'float'}, 'dimensions': [10980, 10980], 'crs': 'EPSG:32736', 'crs_transform': [10, 0, 199980, 0, -10, 7300000]}]}\n",
            "{'type': 'Image', 'bands': [{'id': 'SRNIRnarrowBlue', 'data_type': {'type': 'PixelType', 'precision': 'float'}, 'dimensions': [5490, 5490], 'crs': 'EPSG:32736', 'crs_transform': [20, 0, 199980, 0, -20, 7300000]}]}\n",
            "{'type': 'Image', 'bands': [{'id': 'SRNIRnarrowGreen', 'data_type': {'type': 'PixelType', 'precision': 'float'}, 'dimensions': [5490, 5490], 'crs': 'EPSG:32736', 'crs_transform': [20, 0, 199980, 0, -20, 7300000]}]}\n",
            "{'type': 'Image', 'bands': [{'id': 'SRNIRnarrowRed', 'data_type': {'type': 'PixelType', 'precision': 'float'}, 'dimensions': [5490, 5490], 'crs': 'EPSG:32736', 'crs_transform': [20, 0, 199980, 0, -20, 7300000]}]}\n",
            "{'type': 'Image', 'bands': [{'id': 'SRNIRnarrowRededge1', 'data_type': {'type': 'PixelType', 'precision': 'float'}, 'dimensions': [5490, 5490], 'crs': 'EPSG:32736', 'crs_transform': [20, 0, 199980, 0, -20, 7300000]}]}\n",
            "{'type': 'Image', 'bands': [{'id': 'SRNIRnarrowRededge2', 'data_type': {'type': 'PixelType', 'precision': 'float'}, 'dimensions': [5490, 5490], 'crs': 'EPSG:32736', 'crs_transform': [20, 0, 199980, 0, -20, 7300000]}]}\n",
            "{'type': 'Image', 'bands': [{'id': 'SRNIRnarrowRededge3', 'data_type': {'type': 'PixelType', 'precision': 'float'}, 'dimensions': [5490, 5490], 'crs': 'EPSG:32736', 'crs_transform': [20, 0, 199980, 0, -20, 7300000]}]}\n",
            "{'type': 'Image', 'bands': [{'id': 'STI', 'data_type': {'type': 'PixelType', 'precision': 'float'}, 'dimensions': [5490, 5490], 'crs': 'EPSG:32736', 'crs_transform': [20, 0, 199980, 0, -20, 7300000]}]}\n",
            "{'type': 'Image', 'bands': [{'id': 'WBI', 'data_type': {'type': 'PixelType', 'precision': 'float'}, 'dimensions': [10980, 10980], 'crs': 'EPSG:32736', 'crs_transform': [10, 0, 199980, 0, -10, 7300000]}]}\n",
            "{'type': 'Image', 'bands': [{'id': 'NDMI', 'data_type': {'type': 'PixelType', 'precision': 'float'}, 'dimensions': [10980, 10980], 'crs': 'EPSG:32736', 'crs_transform': [10, 0, 199980, 0, -10, 7300000]}]}\n",
            "{'type': 'Image', 'bands': [{'id': 'NDBR', 'data_type': {'type': 'PixelType', 'precision': 'float'}, 'dimensions': [10980, 10980], 'crs': 'EPSG:32736', 'crs_transform': [10, 0, 199980, 0, -10, 7300000]}]}\n"
          ]
        }
      ],
      "source": [
        "# Displaying the results\n",
        "print(NDVI.getInfo())\n",
        "print(Chlogreen.getInfo())\n",
        "print(LAnthoC.getInfo())\n",
        "print(LChloC.getInfo())\n",
        "print(LCaroC.getInfo())\n",
        "print(BAI.getInfo())\n",
        "print(GI.getInfo())\n",
        "print(gNDVI.getInfo())\n",
        "print(MSI.getInfo())\n",
        "print(NDrededgeSWIR.getInfo())\n",
        "print(NDTI.getInfo())\n",
        "print(NDVIre.getInfo())\n",
        "print(NDVI1.getInfo())\n",
        "print(NDVI2.getInfo())\n",
        "print(NHI.getInfo())\n",
        "print(EVI.getInfo())\n",
        "print(EVI2.getInfo())\n",
        "print(EVI2_2.getInfo())\n",
        "print(MSAVI.getInfo())\n",
        "print(Norm_G.getInfo())\n",
        "print(Norm_NIR.getInfo())\n",
        "print(Norm_Red.getInfo())\n",
        "print(RededgePeakArea.getInfo())\n",
        "print(RedSWIR1.getInfo())\n",
        "print(RTVIcore.getInfo())\n",
        "print(SAVI.getInfo())\n",
        "print(SRBlueRededge1.getInfo())\n",
        "print(SRBlueRededge2.getInfo())\n",
        "print(SRBlueRededge3.getInfo())\n",
        "print(SRNIRnarrowBlue.getInfo())\n",
        "print(SRNIRnarrowGreen.getInfo())\n",
        "print(SRNIRnarrowRed.getInfo())\n",
        "print(SRNIRnarrowRededge1.getInfo())\n",
        "print(SRNIRnarrowRededge2.getInfo())\n",
        "print(SRNIRnarrowRededge3.getInfo())\n",
        "print(STI.getInfo())\n",
        "print(WBI.getInfo())\n",
        "print(NDMI.getInfo())\n",
        "print(NDBR.getInfo())"
      ]
    },
    {
      "cell_type": "markdown",
      "metadata": {
        "id": "yQLRSi2Y9Uce"
      },
      "source": [
        "Adding indicies to image"
      ]
    },
    {
      "cell_type": "code",
      "execution_count": 50,
      "metadata": {
        "colab": {
          "base_uri": "https://localhost:8080/",
          "height": 55
        },
        "id": "TSmmrLwM9ZTD",
        "outputId": "702f9fdd-31c4-43d8-ff57-9bcedceef2d6"
      },
      "outputs": [
        {
          "output_type": "display_data",
          "data": {
            "text/plain": [
              "<IPython.core.display.HTML object>"
            ],
            "text/html": [
              "\n",
              "            <style>\n",
              "                .geemap-dark {\n",
              "                    --jp-widgets-color: white;\n",
              "                    --jp-widgets-label-color: white;\n",
              "                    --jp-ui-font-color1: white;\n",
              "                    --jp-layout-color2: #454545;\n",
              "                    background-color: #383838;\n",
              "                }\n",
              "                    \n",
              "                .geemap-dark .jupyter-button {\n",
              "                    --jp-layout-color3: #383838;\n",
              "                }\n",
              "                \n",
              "                .geemap-colab {\n",
              "                    background-color: var(--colab-primary-surface-color, white);\n",
              "                }\n",
              "                    \n",
              "                .geemap-colab .jupyter-button {\n",
              "                    --jp-layout-color3: var(--colab-primary-surface-color, white);\n",
              "                }\n",
              "            </style>\n",
              "            "
            ]
          },
          "metadata": {}
        },
        {
          "output_type": "stream",
          "name": "stdout",
          "text": [
            "{'type': 'Image', 'bands': [{'id': 'B1', 'data_type': {'type': 'PixelType', 'precision': 'int', 'min': 0, 'max': 65535}, 'dimensions': [1830, 1830], 'crs': 'EPSG:32736', 'crs_transform': [60, 0, 199980, 0, -60, 7300000]}, {'id': 'B2', 'data_type': {'type': 'PixelType', 'precision': 'int', 'min': 0, 'max': 65535}, 'dimensions': [10980, 10980], 'crs': 'EPSG:32736', 'crs_transform': [10, 0, 199980, 0, -10, 7300000]}, {'id': 'B3', 'data_type': {'type': 'PixelType', 'precision': 'int', 'min': 0, 'max': 65535}, 'dimensions': [10980, 10980], 'crs': 'EPSG:32736', 'crs_transform': [10, 0, 199980, 0, -10, 7300000]}, {'id': 'B4', 'data_type': {'type': 'PixelType', 'precision': 'int', 'min': 0, 'max': 65535}, 'dimensions': [10980, 10980], 'crs': 'EPSG:32736', 'crs_transform': [10, 0, 199980, 0, -10, 7300000]}, {'id': 'B5', 'data_type': {'type': 'PixelType', 'precision': 'int', 'min': 0, 'max': 65535}, 'dimensions': [5490, 5490], 'crs': 'EPSG:32736', 'crs_transform': [20, 0, 199980, 0, -20, 7300000]}, {'id': 'B6', 'data_type': {'type': 'PixelType', 'precision': 'int', 'min': 0, 'max': 65535}, 'dimensions': [5490, 5490], 'crs': 'EPSG:32736', 'crs_transform': [20, 0, 199980, 0, -20, 7300000]}, {'id': 'B7', 'data_type': {'type': 'PixelType', 'precision': 'int', 'min': 0, 'max': 65535}, 'dimensions': [5490, 5490], 'crs': 'EPSG:32736', 'crs_transform': [20, 0, 199980, 0, -20, 7300000]}, {'id': 'B8', 'data_type': {'type': 'PixelType', 'precision': 'int', 'min': 0, 'max': 65535}, 'dimensions': [10980, 10980], 'crs': 'EPSG:32736', 'crs_transform': [10, 0, 199980, 0, -10, 7300000]}, {'id': 'B8A', 'data_type': {'type': 'PixelType', 'precision': 'int', 'min': 0, 'max': 65535}, 'dimensions': [5490, 5490], 'crs': 'EPSG:32736', 'crs_transform': [20, 0, 199980, 0, -20, 7300000]}, {'id': 'B9', 'data_type': {'type': 'PixelType', 'precision': 'int', 'min': 0, 'max': 65535}, 'dimensions': [1830, 1830], 'crs': 'EPSG:32736', 'crs_transform': [60, 0, 199980, 0, -60, 7300000]}, {'id': 'B10', 'data_type': {'type': 'PixelType', 'precision': 'int', 'min': 0, 'max': 65535}, 'dimensions': [1830, 1830], 'crs': 'EPSG:32736', 'crs_transform': [60, 0, 199980, 0, -60, 7300000]}, {'id': 'B11', 'data_type': {'type': 'PixelType', 'precision': 'int', 'min': 0, 'max': 65535}, 'dimensions': [5490, 5490], 'crs': 'EPSG:32736', 'crs_transform': [20, 0, 199980, 0, -20, 7300000]}, {'id': 'B12', 'data_type': {'type': 'PixelType', 'precision': 'int', 'min': 0, 'max': 65535}, 'dimensions': [5490, 5490], 'crs': 'EPSG:32736', 'crs_transform': [20, 0, 199980, 0, -20, 7300000]}, {'id': 'QA10', 'data_type': {'type': 'PixelType', 'precision': 'int', 'min': 0, 'max': 65535}, 'dimensions': [10980, 10980], 'crs': 'EPSG:32736', 'crs_transform': [10, 0, 199980, 0, -10, 7300000]}, {'id': 'QA20', 'data_type': {'type': 'PixelType', 'precision': 'int', 'min': 0, 'max': 4294967295}, 'dimensions': [5490, 5490], 'crs': 'EPSG:32736', 'crs_transform': [20, 0, 199980, 0, -20, 7300000]}, {'id': 'QA60', 'data_type': {'type': 'PixelType', 'precision': 'int', 'min': 0, 'max': 65535}, 'dimensions': [1830, 1830], 'crs': 'EPSG:32736', 'crs_transform': [60, 0, 199980, 0, -60, 7300000]}, {'id': 'NDVI', 'data_type': {'type': 'PixelType', 'precision': 'float'}, 'dimensions': [10980, 10980], 'crs': 'EPSG:32736', 'crs_transform': [10, 0, 199980, 0, -10, 7300000]}, {'id': 'Chlogreen', 'data_type': {'type': 'PixelType', 'precision': 'float'}, 'dimensions': [5490, 5490], 'crs': 'EPSG:32736', 'crs_transform': [20, 0, 199980, 0, -20, 7300000]}, {'id': 'LAnthoC', 'data_type': {'type': 'PixelType', 'precision': 'float'}, 'dimensions': [5490, 5490], 'crs': 'EPSG:32736', 'crs_transform': [20, 0, 199980, 0, -20, 7300000]}, {'id': 'LChloC', 'data_type': {'type': 'PixelType', 'precision': 'float'}, 'dimensions': [5490, 5490], 'crs': 'EPSG:32736', 'crs_transform': [20, 0, 199980, 0, -20, 7300000]}, {'id': 'LCaroC', 'data_type': {'type': 'PixelType', 'precision': 'float'}, 'dimensions': [5490, 5490], 'crs': 'EPSG:32736', 'crs_transform': [20, 0, 199980, 0, -20, 7300000]}, {'id': 'BAI', 'data_type': {'type': 'PixelType', 'precision': 'float'}, 'dimensions': [10980, 10980], 'crs': 'EPSG:32736', 'crs_transform': [10, 0, 199980, 0, -10, 7300000]}, {'id': 'GI', 'data_type': {'type': 'PixelType', 'precision': 'float'}, 'dimensions': [10980, 10980], 'crs': 'EPSG:32736', 'crs_transform': [10, 0, 199980, 0, -10, 7300000]}, {'id': 'gNDVI', 'data_type': {'type': 'PixelType', 'precision': 'float'}, 'dimensions': [10980, 10980], 'crs': 'EPSG:32736', 'crs_transform': [10, 0, 199980, 0, -10, 7300000]}, {'id': 'MSI', 'data_type': {'type': 'PixelType', 'precision': 'float'}, 'dimensions': [5490, 5490], 'crs': 'EPSG:32736', 'crs_transform': [20, 0, 199980, 0, -20, 7300000]}, {'id': 'NDrededgeSWIR', 'data_type': {'type': 'PixelType', 'precision': 'float'}, 'dimensions': [5490, 5490], 'crs': 'EPSG:32736', 'crs_transform': [20, 0, 199980, 0, -20, 7300000]}, {'id': 'NDTI', 'data_type': {'type': 'PixelType', 'precision': 'float'}, 'dimensions': [5490, 5490], 'crs': 'EPSG:32736', 'crs_transform': [20, 0, 199980, 0, -20, 7300000]}, {'id': 'NDVIre', 'data_type': {'type': 'PixelType', 'precision': 'float'}, 'dimensions': [10980, 10980], 'crs': 'EPSG:32736', 'crs_transform': [10, 0, 199980, 0, -10, 7300000]}, {'id': 'NDVI1', 'data_type': {'type': 'PixelType', 'precision': 'float'}, 'dimensions': [10980, 10980], 'crs': 'EPSG:32736', 'crs_transform': [10, 0, 199980, 0, -10, 7300000]}, {'id': 'NDVI2', 'data_type': {'type': 'PixelType', 'precision': 'float'}, 'dimensions': [10980, 10980], 'crs': 'EPSG:32736', 'crs_transform': [10, 0, 199980, 0, -10, 7300000]}, {'id': 'NHI', 'data_type': {'type': 'PixelType', 'precision': 'float'}, 'dimensions': [5490, 5490], 'crs': 'EPSG:32736', 'crs_transform': [20, 0, 199980, 0, -20, 7300000]}, {'id': 'EVI', 'data_type': {'type': 'PixelType', 'precision': 'double'}, 'dimensions': [10980, 10980], 'crs': 'EPSG:32736', 'crs_transform': [10, 0, 199980, 0, -10, 7300000]}, {'id': 'EVI2', 'data_type': {'type': 'PixelType', 'precision': 'double', 'min': -157284, 'max': 157284}, 'dimensions': [10980, 10980], 'crs': 'EPSG:32736', 'crs_transform': [10, 0, 199980, 0, -10, 7300000]}, {'id': 'EVI2_2', 'data_type': {'type': 'PixelType', 'precision': 'double', 'min': -163837.5, 'max': 163837.5}, 'dimensions': [10980, 10980], 'crs': 'EPSG:32736', 'crs_transform': [10, 0, 199980, 0, -10, 7300000]}, {'id': 'MSAVI', 'data_type': {'type': 'PixelType', 'precision': 'double'}, 'dimensions': [10980, 10980], 'crs': 'EPSG:32736', 'crs_transform': [10, 0, 199980, 0, -10, 7300000]}, {'id': 'Norm_G', 'data_type': {'type': 'PixelType', 'precision': 'float'}, 'dimensions': [10980, 10980], 'crs': 'EPSG:32736', 'crs_transform': [10, 0, 199980, 0, -10, 7300000]}, {'id': 'Norm_NIR', 'data_type': {'type': 'PixelType', 'precision': 'float'}, 'dimensions': [10980, 10980], 'crs': 'EPSG:32736', 'crs_transform': [10, 0, 199980, 0, -10, 7300000]}, {'id': 'Norm_Red', 'data_type': {'type': 'PixelType', 'precision': 'float'}, 'dimensions': [10980, 10980], 'crs': 'EPSG:32736', 'crs_transform': [10, 0, 199980, 0, -10, 7300000]}, {'id': 'RededgePeakArea', 'data_type': {'type': 'PixelType', 'precision': 'int', 'min': 0, 'max': 327675}, 'dimensions': [10980, 10980], 'crs': 'EPSG:32736', 'crs_transform': [10, 0, 199980, 0, -10, 7300000]}, {'id': 'RedSWIR1', 'data_type': {'type': 'PixelType', 'precision': 'int', 'min': -65535, 'max': 65535}, 'dimensions': [10980, 10980], 'crs': 'EPSG:32736', 'crs_transform': [10, 0, 199980, 0, -10, 7300000]}, {'id': 'RTVIcore', 'data_type': {'type': 'PixelType', 'precision': 'int', 'min': -7208850, 'max': 7208850}, 'dimensions': [5490, 5490], 'crs': 'EPSG:32736', 'crs_transform': [20, 0, 199980, 0, -20, 7300000]}, {'id': 'SAVI', 'data_type': {'type': 'PixelType', 'precision': 'double', 'min': -196605, 'max': 196605}, 'dimensions': [5490, 5490], 'crs': 'EPSG:32736', 'crs_transform': [20, 0, 199980, 0, -20, 7300000]}, {'id': 'SRBlueRededge1', 'data_type': {'type': 'PixelType', 'precision': 'float'}, 'dimensions': [10980, 10980], 'crs': 'EPSG:32736', 'crs_transform': [10, 0, 199980, 0, -10, 7300000]}, {'id': 'SRBlueRededge2', 'data_type': {'type': 'PixelType', 'precision': 'float'}, 'dimensions': [10980, 10980], 'crs': 'EPSG:32736', 'crs_transform': [10, 0, 199980, 0, -10, 7300000]}, {'id': 'SRBlueRededge3', 'data_type': {'type': 'PixelType', 'precision': 'float'}, 'dimensions': [10980, 10980], 'crs': 'EPSG:32736', 'crs_transform': [10, 0, 199980, 0, -10, 7300000]}, {'id': 'SRNIRnarrowBlue', 'data_type': {'type': 'PixelType', 'precision': 'float'}, 'dimensions': [5490, 5490], 'crs': 'EPSG:32736', 'crs_transform': [20, 0, 199980, 0, -20, 7300000]}, {'id': 'SRNIRnarrowGreen', 'data_type': {'type': 'PixelType', 'precision': 'float'}, 'dimensions': [5490, 5490], 'crs': 'EPSG:32736', 'crs_transform': [20, 0, 199980, 0, -20, 7300000]}, {'id': 'SRNIRnarrowRed', 'data_type': {'type': 'PixelType', 'precision': 'float'}, 'dimensions': [5490, 5490], 'crs': 'EPSG:32736', 'crs_transform': [20, 0, 199980, 0, -20, 7300000]}, {'id': 'SRNIRnarrowRededge1', 'data_type': {'type': 'PixelType', 'precision': 'float'}, 'dimensions': [5490, 5490], 'crs': 'EPSG:32736', 'crs_transform': [20, 0, 199980, 0, -20, 7300000]}, {'id': 'SRNIRnarrowRededge2', 'data_type': {'type': 'PixelType', 'precision': 'float'}, 'dimensions': [5490, 5490], 'crs': 'EPSG:32736', 'crs_transform': [20, 0, 199980, 0, -20, 7300000]}, {'id': 'SRNIRnarrowRededge3', 'data_type': {'type': 'PixelType', 'precision': 'float'}, 'dimensions': [5490, 5490], 'crs': 'EPSG:32736', 'crs_transform': [20, 0, 199980, 0, -20, 7300000]}, {'id': 'STI', 'data_type': {'type': 'PixelType', 'precision': 'float'}, 'dimensions': [5490, 5490], 'crs': 'EPSG:32736', 'crs_transform': [20, 0, 199980, 0, -20, 7300000]}, {'id': 'WBI', 'data_type': {'type': 'PixelType', 'precision': 'float'}, 'dimensions': [10980, 10980], 'crs': 'EPSG:32736', 'crs_transform': [10, 0, 199980, 0, -10, 7300000]}, {'id': 'NDMI', 'data_type': {'type': 'PixelType', 'precision': 'float'}, 'dimensions': [10980, 10980], 'crs': 'EPSG:32736', 'crs_transform': [10, 0, 199980, 0, -10, 7300000]}, {'id': 'NDBR', 'data_type': {'type': 'PixelType', 'precision': 'float'}, 'dimensions': [10980, 10980], 'crs': 'EPSG:32736', 'crs_transform': [10, 0, 199980, 0, -10, 7300000]}], 'id': 'COPERNICUS/S2/20230727T073621_20230727T075808_T36JTT', 'version': 1690499611260706, 'properties': {'DATATAKE_IDENTIFIER': 'GS2A_20230727T073621_042274_N05.09', 'SPACECRAFT_NAME': 'Sentinel-2A', 'RADIO_ADD_OFFSET_B8A': -1000, 'MEAN_INCIDENCE_AZIMUTH_ANGLE_B8A': 102.330999254942, 'RADIO_ADD_OFFSET_B10': -1000, 'MEAN_SOLAR_AZIMUTH_ANGLE': 35.5773272191598, 'system:footprint': {'type': 'LinearRing', 'coordinates': [[30.408705760231133, -24.39116058356096], [30.408614315368347, -24.391207487348776], [30.406702223639556, -24.39769413414109], [30.356646395141283, -24.585820253680808], [30.33670012670602, -24.660738469620505], [30.299887670504294, -24.801410449520798], [30.281118283462966, -24.873087184891123], [30.2272401632356, -25.07893211357397], [30.15484874314754, -25.35422800896685], [30.14957376565402, -25.375791800579055], [30.149540463253395, -25.37720900713081], [30.149811992107743, -25.37733908973084], [31.10891167731808, -25.39280244324963], [31.109012313465282, -25.392734133173043], [31.11663313540934, -24.897276889821313], [31.12405353627625, -24.401804990833163], [31.123978527636876, -24.401714000614206], [30.408705760231133, -24.39116058356096]]}, 'SOLAR_IRRADIANCE_B12': 85.25, 'SOLAR_IRRADIANCE_B10': 367.15, 'SENSOR_QUALITY': 'PASSED', 'SOLAR_IRRADIANCE_B11': 245.59, 'GENERATION_TIME': 1690450811000, 'RADIO_ADD_OFFSET_B12': -1000, 'RADIO_ADD_OFFSET_B11': -1000, 'SOLAR_IRRADIANCE_B8A': 955.32, 'FORMAT_CORRECTNESS': 'PASSED', 'CLOUD_COVERAGE_ASSESSMENT': 0, 'system:time_end': 1690445229783, 'SNOW_PIXEL_PERCENTAGE': 0, 'system:time_start': 1690445229783, 'RADIO_ADD_OFFSET_B1': -1000, 'RADIO_ADD_OFFSET_B2': -1000, 'DATASTRIP_ID': 'S2A_OPER_MSI_L1C_DS_2APS_20230727T094011_S20230727T075808_N05.09', 'RADIO_ADD_OFFSET_B3': -1000, 'RADIO_ADD_OFFSET_B4': -1000, 'RADIO_ADD_OFFSET_B5': -1000, 'PROCESSING_BASELINE': '05.09', 'SENSING_ORBIT_NUMBER': 92, 'RADIO_ADD_OFFSET_B6': -1000, 'RADIO_ADD_OFFSET_B7': -1000, 'SENSING_ORBIT_DIRECTION': 'DESCENDING', 'GENERAL_QUALITY': 'PASSED', 'GRANULE_ID': 'L1C_T36JTT_A042274_20230727T075808', 'REFLECTANCE_CONVERSION_CORRECTION': 0.968903366708066, 'MEAN_INCIDENCE_AZIMUTH_ANGLE_B8': 101.487982955465, 'DATATAKE_TYPE': 'INS-NOBS', 'MEAN_INCIDENCE_AZIMUTH_ANGLE_B9': 102.633296918515, 'MEAN_INCIDENCE_AZIMUTH_ANGLE_B6': 102.079162296747, 'MEAN_INCIDENCE_AZIMUTH_ANGLE_B7': 102.206963546775, 'MEAN_INCIDENCE_AZIMUTH_ANGLE_B4': 101.81207721526, 'MEAN_INCIDENCE_ZENITH_ANGLE_B1': 8.56293217156715, 'RADIO_ADD_OFFSET_B8': -1000, 'MEAN_INCIDENCE_AZIMUTH_ANGLE_B5': 101.963058282258, 'RADIOMETRIC_QUALITY': 'PASSED', 'RADIO_ADD_OFFSET_B9': -1000, 'MEAN_INCIDENCE_AZIMUTH_ANGLE_B2': 101.370190612672, 'MEAN_INCIDENCE_AZIMUTH_ANGLE_B3': 101.59882387088, 'MEAN_INCIDENCE_ZENITH_ANGLE_B5': 8.4503463618781, 'MEAN_INCIDENCE_AZIMUTH_ANGLE_B1': 102.509540628094, 'MEAN_INCIDENCE_ZENITH_ANGLE_B4': 8.42936874958265, 'MEAN_INCIDENCE_ZENITH_ANGLE_B3': 8.39975724271938, 'MEAN_INCIDENCE_ZENITH_ANGLE_B2': 8.38513939175962, 'MEAN_INCIDENCE_ZENITH_ANGLE_B9': 8.59525316469495, 'MEAN_INCIDENCE_ZENITH_ANGLE_B8': 8.39515661068746, 'MEAN_INCIDENCE_ZENITH_ANGLE_B7': 8.49689657531987, 'MEAN_INCIDENCE_ZENITH_ANGLE_B6': 8.47242766994218, 'MEAN_SOLAR_ZENITH_ANGLE': 52.5288710584069, 'MEAN_INCIDENCE_ZENITH_ANGLE_B8A': 8.52860770340278, 'MGRS_TILE': '36JTT', 'CLOUDY_PIXEL_PERCENTAGE': 0, 'PRODUCT_ID': 'S2A_MSIL1C_20230727T073621_N0509_R092_T36JTT_20230727T094011', 'MEAN_INCIDENCE_ZENITH_ANGLE_B10': 8.42108247809941, 'SOLAR_IRRADIANCE_B9': 812.92, 'DEGRADED_MSI_DATA_PERCENTAGE': 0.0145, 'MEAN_INCIDENCE_ZENITH_ANGLE_B11': 8.4479695012074, 'MEAN_INCIDENCE_ZENITH_ANGLE_B12': 8.50952250075892, 'SOLAR_IRRADIANCE_B6': 1287.61, 'MEAN_INCIDENCE_AZIMUTH_ANGLE_B10': 101.81713272803, 'SOLAR_IRRADIANCE_B5': 1424.64, 'MEAN_INCIDENCE_AZIMUTH_ANGLE_B11': 102.092925935794, 'SOLAR_IRRADIANCE_B8': 1041.63, 'MEAN_INCIDENCE_AZIMUTH_ANGLE_B12': 102.38406509117, 'SOLAR_IRRADIANCE_B7': 1162.08, 'SOLAR_IRRADIANCE_B2': 1959.66, 'SOLAR_IRRADIANCE_B1': 1884.69, 'SOLAR_IRRADIANCE_B4': 1512.06, 'GEOMETRIC_QUALITY': 'PASSED', 'SOLAR_IRRADIANCE_B3': 1823.24, 'system:asset_size': 973850913, 'system:index': '20230727T073621_20230727T075808_T36JTT'}}\n"
          ]
        }
      ],
      "source": [
        "# Adding bands to the image\n",
        "image_final = (image.addBands([\n",
        "    NDVI, Chlogreen, LAnthoC, LChloC, LCaroC, BAI, GI, gNDVI, MSI, NDrededgeSWIR,\n",
        "    NDTI, NDVIre, NDVI1, NDVI2, NHI, EVI, EVI2, EVI2_2, MSAVI, Norm_G, Norm_NIR,\n",
        "    Norm_Red, RededgePeakArea, RedSWIR1, RTVIcore, SAVI, SRBlueRededge1, SRBlueRededge2,\n",
        "    SRBlueRededge3, SRNIRnarrowBlue, SRNIRnarrowGreen, SRNIRnarrowRed, SRNIRnarrowRededge1,\n",
        "    SRNIRnarrowRededge2, SRNIRnarrowRededge3, STI, WBI, NDMI, NDBR\n",
        "]))\n",
        "\n",
        "# Print the image with added bands\n",
        "print(image_final.getInfo())"
      ]
    },
    {
      "cell_type": "markdown",
      "metadata": {
        "id": "GpH4hD5oZebs"
      },
      "source": [
        "Maybe turn data into a panda datasheet???"
      ]
    },
    {
      "cell_type": "markdown",
      "metadata": {
        "id": "FT5lNQE7Dteg"
      },
      "source": [
        "Importing training data\n",
        "Upload the shapefile as a zipped folder into google colab"
      ]
    },
    {
      "cell_type": "markdown",
      "source": [
        "Loading training data from GEE"
      ],
      "metadata": {
        "id": "RefjwJQjgpfu"
      }
    },
    {
      "cell_type": "code",
      "source": [
        "\n",
        "# Load the training data (e.g., a FeatureCollection) from GEE\n",
        "training_data = ee.FeatureCollection('projects/mapwaps-sabiecroc/assets/Training_setSc')\n",
        "\n",
        "# Convert the training data to a GeoDataFrame\n",
        "features = training_data.getInfo()['features']\n",
        "training_subset = gpd.GeoDataFrame.from_features(features)\n",
        "\n",
        "# Display the GeoDataFrame\n",
        "print(training_subset.head())\n",
        "\n"
      ],
      "metadata": {
        "id": "RrFSeqrOiT38"
      },
      "execution_count": null,
      "outputs": []
    },
    {
      "cell_type": "code",
      "source": [
        "#select bands\n",
        "bands= ['B2', 'B3', 'B4', 'B5', 'B6', 'B7','B8','B8A', 'B9', 'B11', 'B12','NDVI','LAnthoC', 'LChloC', 'LCaroC', 'BAI', 'GI', 'gNDVI', 'MSI', 'NDrededgeSWIR', 'NDTI',\n",
        "'NDVIre', 'NDVI1', 'NDVI2', 'NHI', 'EVI', 'EVI2', 'EVI2_2','MSAVI', 'Norm_G', 'Norm_NIR', 'Norm_Red', 'RededgePeakArea', 'RedSWIR1', 'RTVIcore', 'SAVI', 'SRBlueRededge1', 'SRBlueRededge2', 'SRBlueRededge3',\n",
        "'SRNIRnarrowBlue', 'SRNIRnarrowGreen', 'SRNIRnarrowRed', 'SRNIRnarrowRededge1', 'SRNIRnarrowRededge2', 'SRNIRnarrowRededge3', 'STI', 'WBI', 'NDMI', 'NDBR',];\n",
        "\n",
        "# Sample regions from the image at training feature locations\n",
        "training_subset = image_final.select(bands).sampleRegions(\n",
        "    collection=training_data,\n",
        "    properties=['ID', 'LULC_Class'],\n",
        "    scale=10\n",
        ")"
      ],
      "metadata": {
        "id": "i8571Vj0_4lQ",
        "outputId": "b700d179-7482-49a4-d027-83052d93b440",
        "colab": {
          "base_uri": "https://localhost:8080/",
          "height": 17
        }
      },
      "execution_count": 75,
      "outputs": [
        {
          "output_type": "display_data",
          "data": {
            "text/plain": [
              "<IPython.core.display.HTML object>"
            ],
            "text/html": [
              "\n",
              "            <style>\n",
              "                .geemap-dark {\n",
              "                    --jp-widgets-color: white;\n",
              "                    --jp-widgets-label-color: white;\n",
              "                    --jp-ui-font-color1: white;\n",
              "                    --jp-layout-color2: #454545;\n",
              "                    background-color: #383838;\n",
              "                }\n",
              "                    \n",
              "                .geemap-dark .jupyter-button {\n",
              "                    --jp-layout-color3: #383838;\n",
              "                }\n",
              "                \n",
              "                .geemap-colab {\n",
              "                    background-color: var(--colab-primary-surface-color, white);\n",
              "                }\n",
              "                    \n",
              "                .geemap-colab .jupyter-button {\n",
              "                    --jp-layout-color3: var(--colab-primary-surface-color, white);\n",
              "                }\n",
              "            </style>\n",
              "            "
            ]
          },
          "metadata": {}
        }
      ]
    },
    {
      "cell_type": "markdown",
      "metadata": {
        "id": "pg9JEdLaWDAg"
      },
      "source": [
        "Classification using random forest"
      ]
    },
    {
      "cell_type": "code",
      "execution_count": 76,
      "metadata": {
        "id": "mcFyxVKHjCTm",
        "colab": {
          "base_uri": "https://localhost:8080/",
          "height": 17
        },
        "outputId": "ebad4b23-3e0c-4f9b-db1f-8b4fc8384138"
      },
      "outputs": [
        {
          "output_type": "display_data",
          "data": {
            "text/plain": [
              "<IPython.core.display.HTML object>"
            ],
            "text/html": [
              "\n",
              "            <style>\n",
              "                .geemap-dark {\n",
              "                    --jp-widgets-color: white;\n",
              "                    --jp-widgets-label-color: white;\n",
              "                    --jp-ui-font-color1: white;\n",
              "                    --jp-layout-color2: #454545;\n",
              "                    background-color: #383838;\n",
              "                }\n",
              "                    \n",
              "                .geemap-dark .jupyter-button {\n",
              "                    --jp-layout-color3: #383838;\n",
              "                }\n",
              "                \n",
              "                .geemap-colab {\n",
              "                    background-color: var(--colab-primary-surface-color, white);\n",
              "                }\n",
              "                    \n",
              "                .geemap-colab .jupyter-button {\n",
              "                    --jp-layout-color3: var(--colab-primary-surface-color, white);\n",
              "                }\n",
              "            </style>\n",
              "            "
            ]
          },
          "metadata": {}
        }
      ],
      "source": [
        "#Classification\n",
        "classifier = ee.Classifier.smileRandomForest(100).train(\n",
        "    features=training_subset,\n",
        "    classProperty='ID',\n",
        "    inputProperties=bands\n",
        ")\n",
        "classified = image_final.select(bands).classify(classifier)"
      ]
    },
    {
      "cell_type": "markdown",
      "metadata": {
        "id": "OnCOaAGEjFJ6"
      },
      "source": [
        "Defining a colour palette for the classified map"
      ]
    },
    {
      "cell_type": "code",
      "execution_count": 79,
      "metadata": {
        "id": "yxYPV1JzjxQR",
        "colab": {
          "base_uri": "https://localhost:8080/",
          "height": 621,
          "referenced_widgets": [
            "27a3dc6850e0460d96a27e11e68157da",
            "2fce5a0005db466f85716d69bc1ba0fb",
            "ae752e322f70475182b4a4d7259bd405",
            "64db2ba78a734603b363605e8c22fd21",
            "bdb76828cd274a94968c4689ad785d3f",
            "0c0856043d714a029f5e131daba3953f",
            "102784b45d7c40099a344dac316571a2",
            "968abbc662744646a48a10c6f3662627",
            "915430bc273d4bc9a01aca3f1d424358",
            "fb75a6c5d86847cb81cb2db60893a88d",
            "4f4a603dbb1b43619f0d0cbe6b4f6e72",
            "335c638d09fb42eebb72cd580cf0f5e0",
            "f6fee3a2bedb435891c127304977712c",
            "c63bfc6265f140129dd74e15527de80d",
            "b4814a478764492ca5c2459fe66a001d",
            "215dfb6fc1214fa2ad3bd18eb079f4bf",
            "9515ee4bb2c942caab31cf13fa1641bf",
            "07ed33e2457d42fc80120cc3c1633c4c",
            "d0c3e056701a4d4399c2163fa9fa6e3b",
            "df161362aeec42378901d9aa0e11f029",
            "6fd8c4e23e2547c5bb13b18ce70efd35",
            "a57ffb554f55435483a621cd01b4fbc0",
            "561201de32374611aecd932048b549d8",
            "22f4ec84affe49a282d9c21c1767988a",
            "1bff2e7df84b4da9a24b300edd36339a",
            "bcb36eeb746a4555984f58f4eec57a59",
            "635e86d452e04f18802e844b897e071e",
            "57de4dbe41124b4db29a25f6c06656ca",
            "aa4a9e0ccc274406b776eb5f35371f30",
            "f416c74e4b174a2f8a79e72b484f055b",
            "1429c1f8bba442ce9dcfe995ea44592a",
            "fc3f635945384531a2d5db41a52a2e1a",
            "acfeb787d3f940cebf29205149f9d9d8",
            "3cd6337af0e24dd2a635b089fa526686",
            "a9263f99ff734423b3ee6f1fef9f1a9f",
            "51e67ece1d2943b5a0d62a1cb8617b8c",
            "628d64b50207492b81cf29d1ac442d22",
            "fb95d887c5574c14b1c3e26a0d571a91",
            "d972b7c020be415883e4a16fde162fce",
            "c986f7599236472393df68562a772d89",
            "b42487b846604973a66905b50b82c585",
            "3bb8b2034efa4d1ca4f72ae0ff423265"
          ]
        },
        "outputId": "87cbf385-fb21-4cf4-915b-8df2429641d2"
      },
      "outputs": [
        {
          "output_type": "display_data",
          "data": {
            "text/plain": [
              "<IPython.core.display.HTML object>"
            ],
            "text/html": [
              "\n",
              "            <style>\n",
              "                .geemap-dark {\n",
              "                    --jp-widgets-color: white;\n",
              "                    --jp-widgets-label-color: white;\n",
              "                    --jp-ui-font-color1: white;\n",
              "                    --jp-layout-color2: #454545;\n",
              "                    background-color: #383838;\n",
              "                }\n",
              "                    \n",
              "                .geemap-dark .jupyter-button {\n",
              "                    --jp-layout-color3: #383838;\n",
              "                }\n",
              "                \n",
              "                .geemap-colab {\n",
              "                    background-color: var(--colab-primary-surface-color, white);\n",
              "                }\n",
              "                    \n",
              "                .geemap-colab .jupyter-button {\n",
              "                    --jp-layout-color3: var(--colab-primary-surface-color, white);\n",
              "                }\n",
              "            </style>\n",
              "            "
            ]
          },
          "metadata": {}
        },
        {
          "output_type": "display_data",
          "data": {
            "text/plain": [
              "Map(center=[20, 0], controls=(WidgetControl(options=['position', 'transparent_bg'], widget=SearchDataGUI(child…"
            ],
            "application/vnd.jupyter.widget-view+json": {
              "version_major": 2,
              "version_minor": 0,
              "model_id": "27a3dc6850e0460d96a27e11e68157da"
            }
          },
          "metadata": {
            "application/vnd.jupyter.widget-view+json": {
              "colab": {
                "custom_widget_manager": {
                  "url": "https://ssl.gstatic.com/colaboratory-static/widgets/colab-cdn-widget-manager/b3e629b1971e1542/manager.min.js"
                }
              }
            }
          }
        }
      ],
      "source": [
        "# Define the palette\n",
        "SabieCrocPalette = [\n",
        "    '351C75', 'F91DF9', '980A7D', '741b47', 'fd0618', 'E06666', 'ffcc99', 'ffffff', '999999', 'a8a800',\n",
        "    '6aa84f', '14870e', 'DB992D', 'ff7f00', '000000', '0a14f9', '08f3e4'\n",
        "]\n",
        "\n",
        "# Visualization parameters\n",
        "viz = {\n",
        "    'min': 1,\n",
        "    'max': 17,\n",
        "    'palette': SabieCrocPalette\n",
        "}\n",
        "\n",
        "# Create a Map object using geemap\n",
        "m = geemap.Map(center=[20, 0], zoom=3)\n",
        "\n",
        "# Add the classified image to the map\n",
        "m.addLayer(classified, viz, 'Classification')\n",
        "\n",
        "# Display the legend\n",
        "m.add_legend(title='Classification', colors=SabieCrocPalette, labels=[str(i) for i in range(1, 18)])\n",
        "\n",
        "# Display the map\n",
        "m\n",
        "\n",
        "\n"
      ]
    }
  ],
  "metadata": {
    "colab": {
      "provenance": [],
      "authorship_tag": "ABX9TyNAdhJVWFDcYAXcwRb2dS4y",
      "include_colab_link": true
    },
    "kernelspec": {
      "display_name": "Python 3",
      "name": "python3"
    },
    "language_info": {
      "name": "python"
    },
    "widgets": {
      "application/vnd.jupyter.widget-state+json": {
        "27a3dc6850e0460d96a27e11e68157da": {
          "model_module": "jupyter-leaflet",
          "model_name": "LeafletMapModel",
          "model_module_version": "^0.18",
          "state": {
            "_dom_classes": [],
            "_model_module": "jupyter-leaflet",
            "_model_module_version": "^0.18",
            "_model_name": "LeafletMapModel",
            "_view_count": null,
            "_view_module": "jupyter-leaflet",
            "_view_module_version": "^0.18",
            "_view_name": "LeafletMapView",
            "bottom": 599498,
            "bounce_at_zoom_limits": true,
            "box_zoom": true,
            "center": [
              -24.89577942913762,
              31.011530599993108
            ],
            "close_popup_on_click": true,
            "controls": [
              "IPY_MODEL_2fce5a0005db466f85716d69bc1ba0fb",
              "IPY_MODEL_ae752e322f70475182b4a4d7259bd405",
              "IPY_MODEL_64db2ba78a734603b363605e8c22fd21",
              "IPY_MODEL_bdb76828cd274a94968c4689ad785d3f",
              "IPY_MODEL_0c0856043d714a029f5e131daba3953f",
              "IPY_MODEL_102784b45d7c40099a344dac316571a2",
              "IPY_MODEL_968abbc662744646a48a10c6f3662627",
              "IPY_MODEL_915430bc273d4bc9a01aca3f1d424358",
              "IPY_MODEL_fb75a6c5d86847cb81cb2db60893a88d"
            ],
            "crs": {
              "name": "EPSG3857",
              "custom": false
            },
            "default_style": "IPY_MODEL_4f4a603dbb1b43619f0d0cbe6b4f6e72",
            "double_click_zoom": true,
            "dragging": true,
            "dragging_style": "IPY_MODEL_335c638d09fb42eebb72cd580cf0f5e0",
            "east": 31.176840505998968,
            "fullscreen": false,
            "inertia": true,
            "inertia_deceleration": 3000,
            "inertia_max_speed": 1500,
            "interpolation": "bilinear",
            "keyboard": true,
            "keyboard_pan_offset": 80,
            "keyboard_zoom_offset": 1,
            "layers": [
              "IPY_MODEL_f6fee3a2bedb435891c127304977712c",
              "IPY_MODEL_c63bfc6265f140129dd74e15527de80d"
            ],
            "layout": "IPY_MODEL_b4814a478764492ca5c2459fe66a001d",
            "left": 614134.1297511621,
            "max_zoom": 24,
            "min_zoom": null,
            "modisdate": "2024-01-23",
            "north": -24.802318262910557,
            "options": [
              "bounce_at_zoom_limits",
              "box_zoom",
              "center",
              "close_popup_on_click",
              "double_click_zoom",
              "dragging",
              "fullscreen",
              "inertia",
              "inertia_deceleration",
              "inertia_max_speed",
              "interpolation",
              "keyboard",
              "keyboard_pan_offset",
              "keyboard_zoom_offset",
              "max_zoom",
              "min_zoom",
              "prefer_canvas",
              "scroll_wheel_zoom",
              "tap",
              "tap_tolerance",
              "touch_zoom",
              "world_copy_jump",
              "zoom",
              "zoom_animation_threshold",
              "zoom_delta",
              "zoom_snap"
            ],
            "panes": {},
            "prefer_canvas": false,
            "right": 615097.1297511621,
            "scroll_wheel_zoom": true,
            "south": -24.989169895608825,
            "style": "IPY_MODEL_4f4a603dbb1b43619f0d0cbe6b4f6e72",
            "tap": true,
            "tap_tolerance": 15,
            "top": 598898,
            "touch_zoom": true,
            "west": 30.84622069398725,
            "window_url": "https://6qjhub724rh-496ff2e9c6d22116-0-colab.googleusercontent.com/outputframe.html?vrz=colab_20240119-060151_RC00_599733137",
            "world_copy_jump": false,
            "zoom": 12,
            "zoom_animation_threshold": 4,
            "zoom_delta": 1,
            "zoom_snap": 1
          }
        },
        "2fce5a0005db466f85716d69bc1ba0fb": {
          "model_module": "jupyter-leaflet",
          "model_name": "LeafletWidgetControlModel",
          "model_module_version": "^0.18",
          "state": {
            "_model_module": "jupyter-leaflet",
            "_model_module_version": "^0.18",
            "_model_name": "LeafletWidgetControlModel",
            "_view_count": null,
            "_view_module": "jupyter-leaflet",
            "_view_module_version": "^0.18",
            "_view_name": "LeafletWidgetControlView",
            "max_height": null,
            "max_width": null,
            "min_height": null,
            "min_width": null,
            "options": [
              "position",
              "transparent_bg"
            ],
            "position": "topleft",
            "transparent_bg": false,
            "widget": "IPY_MODEL_9515ee4bb2c942caab31cf13fa1641bf"
          }
        },
        "ae752e322f70475182b4a4d7259bd405": {
          "model_module": "jupyter-leaflet",
          "model_name": "LeafletZoomControlModel",
          "model_module_version": "^0.18",
          "state": {
            "_model_module": "jupyter-leaflet",
            "_model_module_version": "^0.18",
            "_model_name": "LeafletZoomControlModel",
            "_view_count": null,
            "_view_module": "jupyter-leaflet",
            "_view_module_version": "^0.18",
            "_view_name": "LeafletZoomControlView",
            "options": [
              "position",
              "zoom_in_text",
              "zoom_in_title",
              "zoom_out_text",
              "zoom_out_title"
            ],
            "position": "topleft",
            "zoom_in_text": "+",
            "zoom_in_title": "Zoom in",
            "zoom_out_text": "-",
            "zoom_out_title": "Zoom out"
          }
        },
        "64db2ba78a734603b363605e8c22fd21": {
          "model_module": "jupyter-leaflet",
          "model_name": "LeafletFullScreenControlModel",
          "model_module_version": "^0.18",
          "state": {
            "_model_module": "jupyter-leaflet",
            "_model_module_version": "^0.18",
            "_model_name": "LeafletFullScreenControlModel",
            "_view_count": null,
            "_view_module": "jupyter-leaflet",
            "_view_module_version": "^0.18",
            "_view_name": "LeafletFullScreenControlView",
            "options": [
              "position"
            ],
            "position": "topleft"
          }
        },
        "bdb76828cd274a94968c4689ad785d3f": {
          "model_module": "jupyter-leaflet",
          "model_name": "LeafletDrawControlModel",
          "model_module_version": "^0.18",
          "state": {
            "_model_module": "jupyter-leaflet",
            "_model_module_version": "^0.18",
            "_model_name": "LeafletDrawControlModel",
            "_view_count": null,
            "_view_module": "jupyter-leaflet",
            "_view_module_version": "^0.18",
            "_view_name": "LeafletDrawControlView",
            "circle": {},
            "circlemarker": {},
            "data": [],
            "edit": true,
            "marker": {
              "shapeOptions": {
                "color": "#3388ff"
              }
            },
            "options": [
              "position"
            ],
            "polygon": {
              "shapeOptions": {}
            },
            "polyline": {
              "shapeOptions": {}
            },
            "position": "topleft",
            "rectangle": {
              "shapeOptions": {
                "color": "#3388ff"
              }
            },
            "remove": true
          }
        },
        "0c0856043d714a029f5e131daba3953f": {
          "model_module": "jupyter-leaflet",
          "model_name": "LeafletScaleControlModel",
          "model_module_version": "^0.18",
          "state": {
            "_model_module": "jupyter-leaflet",
            "_model_module_version": "^0.18",
            "_model_name": "LeafletScaleControlModel",
            "_view_count": null,
            "_view_module": "jupyter-leaflet",
            "_view_module_version": "^0.18",
            "_view_name": "LeafletScaleControlView",
            "imperial": true,
            "max_width": 100,
            "metric": true,
            "options": [
              "imperial",
              "max_width",
              "metric",
              "position",
              "update_when_idle"
            ],
            "position": "bottomleft",
            "update_when_idle": false
          }
        },
        "102784b45d7c40099a344dac316571a2": {
          "model_module": "jupyter-leaflet",
          "model_name": "LeafletMeasureControlModel",
          "model_module_version": "^0.18",
          "state": {
            "_custom_units": {},
            "_model_module": "jupyter-leaflet",
            "_model_module_version": "^0.18",
            "_model_name": "LeafletMeasureControlModel",
            "_view_count": null,
            "_view_module": "jupyter-leaflet",
            "_view_module_version": "^0.18",
            "_view_name": "LeafletMeasureControlView",
            "active_color": "orange",
            "capture_z_index": 10000,
            "completed_color": "#C8F2BE",
            "options": [
              "active_color",
              "capture_z_index",
              "completed_color",
              "popup_options",
              "position",
              "primary_area_unit",
              "primary_length_unit",
              "secondary_area_unit",
              "secondary_length_unit"
            ],
            "popup_options": {
              "className": "leaflet-measure-resultpopup",
              "autoPanPadding": [
                10,
                10
              ]
            },
            "position": "bottomleft",
            "primary_area_unit": "acres",
            "primary_length_unit": "kilometers",
            "secondary_area_unit": null,
            "secondary_length_unit": null
          }
        },
        "968abbc662744646a48a10c6f3662627": {
          "model_module": "jupyter-leaflet",
          "model_name": "LeafletWidgetControlModel",
          "model_module_version": "^0.18",
          "state": {
            "_model_module": "jupyter-leaflet",
            "_model_module_version": "^0.18",
            "_model_name": "LeafletWidgetControlModel",
            "_view_count": null,
            "_view_module": "jupyter-leaflet",
            "_view_module_version": "^0.18",
            "_view_name": "LeafletWidgetControlView",
            "max_height": null,
            "max_width": null,
            "min_height": null,
            "min_width": null,
            "options": [
              "position",
              "transparent_bg"
            ],
            "position": "topright",
            "transparent_bg": false,
            "widget": "IPY_MODEL_07ed33e2457d42fc80120cc3c1633c4c"
          }
        },
        "915430bc273d4bc9a01aca3f1d424358": {
          "model_module": "jupyter-leaflet",
          "model_name": "LeafletAttributionControlModel",
          "model_module_version": "^0.18",
          "state": {
            "_model_module": "jupyter-leaflet",
            "_model_module_version": "^0.18",
            "_model_name": "LeafletAttributionControlModel",
            "_view_count": null,
            "_view_module": "jupyter-leaflet",
            "_view_module_version": "^0.18",
            "_view_name": "LeafletAttributionControlView",
            "options": [
              "position",
              "prefix"
            ],
            "position": "bottomright",
            "prefix": "ipyleaflet"
          }
        },
        "fb75a6c5d86847cb81cb2db60893a88d": {
          "model_module": "jupyter-leaflet",
          "model_name": "LeafletWidgetControlModel",
          "model_module_version": "^0.18",
          "state": {
            "_model_module": "jupyter-leaflet",
            "_model_module_version": "^0.18",
            "_model_name": "LeafletWidgetControlModel",
            "_view_count": null,
            "_view_module": "jupyter-leaflet",
            "_view_module_version": "^0.18",
            "_view_name": "LeafletWidgetControlView",
            "max_height": null,
            "max_width": null,
            "min_height": null,
            "min_width": null,
            "options": [
              "position",
              "transparent_bg"
            ],
            "position": "bottomright",
            "transparent_bg": false,
            "widget": "IPY_MODEL_d0c3e056701a4d4399c2163fa9fa6e3b"
          }
        },
        "4f4a603dbb1b43619f0d0cbe6b4f6e72": {
          "model_module": "jupyter-leaflet",
          "model_name": "LeafletMapStyleModel",
          "model_module_version": "^0.18",
          "state": {
            "_model_module": "jupyter-leaflet",
            "_model_module_version": "^0.18",
            "_model_name": "LeafletMapStyleModel",
            "_view_count": null,
            "_view_module": "@jupyter-widgets/base",
            "_view_module_version": "1.2.0",
            "_view_name": "StyleView",
            "cursor": "grab"
          }
        },
        "335c638d09fb42eebb72cd580cf0f5e0": {
          "model_module": "jupyter-leaflet",
          "model_name": "LeafletMapStyleModel",
          "model_module_version": "^0.18",
          "state": {
            "_model_module": "jupyter-leaflet",
            "_model_module_version": "^0.18",
            "_model_name": "LeafletMapStyleModel",
            "_view_count": null,
            "_view_module": "@jupyter-widgets/base",
            "_view_module_version": "1.2.0",
            "_view_name": "StyleView",
            "cursor": "move"
          }
        },
        "f6fee3a2bedb435891c127304977712c": {
          "model_module": "jupyter-leaflet",
          "model_name": "LeafletTileLayerModel",
          "model_module_version": "^0.18",
          "state": {
            "_model_module": "jupyter-leaflet",
            "_model_module_version": "^0.18",
            "_model_name": "LeafletTileLayerModel",
            "_view_count": null,
            "_view_module": "jupyter-leaflet",
            "_view_module_version": "^0.18",
            "_view_name": "LeafletTileLayerView",
            "attribution": "&copy; <a href=\"https://www.openstreetmap.org/copyright\">OpenStreetMap</a> contributors",
            "base": true,
            "bottom": true,
            "bounds": null,
            "detect_retina": false,
            "loading": false,
            "max_native_zoom": null,
            "max_zoom": 19,
            "min_native_zoom": null,
            "min_zoom": 1,
            "name": "OpenStreetMap.Mapnik",
            "no_wrap": false,
            "opacity": 1,
            "options": [
              "attribution",
              "bounds",
              "detect_retina",
              "max_native_zoom",
              "max_zoom",
              "min_native_zoom",
              "min_zoom",
              "no_wrap",
              "tile_size",
              "tms",
              "zoom_offset"
            ],
            "pane": "",
            "popup": null,
            "popup_max_height": null,
            "popup_max_width": 300,
            "popup_min_width": 50,
            "show_loading": false,
            "subitems": [],
            "tile_size": 256,
            "tms": false,
            "url": "https://tile.openstreetmap.org/{z}/{x}/{y}.png",
            "visible": true,
            "zoom_offset": 0
          }
        },
        "c63bfc6265f140129dd74e15527de80d": {
          "model_module": "jupyter-leaflet",
          "model_name": "LeafletTileLayerModel",
          "model_module_version": "^0.18",
          "state": {
            "_model_module": "jupyter-leaflet",
            "_model_module_version": "^0.18",
            "_model_name": "LeafletTileLayerModel",
            "_view_count": null,
            "_view_module": "jupyter-leaflet",
            "_view_module_version": "^0.18",
            "_view_name": "LeafletTileLayerView",
            "attribution": "Google Earth Engine",
            "base": false,
            "bottom": true,
            "bounds": null,
            "detect_retina": false,
            "loading": false,
            "max_native_zoom": null,
            "max_zoom": 24,
            "min_native_zoom": null,
            "min_zoom": 0,
            "name": "Classification",
            "no_wrap": false,
            "opacity": 1,
            "options": [
              "attribution",
              "bounds",
              "detect_retina",
              "max_native_zoom",
              "max_zoom",
              "min_native_zoom",
              "min_zoom",
              "no_wrap",
              "tile_size",
              "tms",
              "zoom_offset"
            ],
            "pane": "",
            "popup": null,
            "popup_max_height": null,
            "popup_max_width": 300,
            "popup_min_width": 50,
            "show_loading": false,
            "subitems": [],
            "tile_size": 256,
            "tms": false,
            "url": "https://earthengine.googleapis.com/v1/projects/thandeka-skosana/maps/e77a28d48df61bfcea3484afa7b8606d-14529bc208441db7e46f213b3eab533f/tiles/{z}/{x}/{y}",
            "visible": true,
            "zoom_offset": 0
          }
        },
        "b4814a478764492ca5c2459fe66a001d": {
          "model_module": "@jupyter-widgets/base",
          "model_name": "LayoutModel",
          "model_module_version": "1.2.0",
          "state": {
            "_model_module": "@jupyter-widgets/base",
            "_model_module_version": "1.2.0",
            "_model_name": "LayoutModel",
            "_view_count": null,
            "_view_module": "@jupyter-widgets/base",
            "_view_module_version": "1.2.0",
            "_view_name": "LayoutView",
            "align_content": null,
            "align_items": null,
            "align_self": null,
            "border": null,
            "bottom": null,
            "display": null,
            "flex": null,
            "flex_flow": null,
            "grid_area": null,
            "grid_auto_columns": null,
            "grid_auto_flow": null,
            "grid_auto_rows": null,
            "grid_column": null,
            "grid_gap": null,
            "grid_row": null,
            "grid_template_areas": null,
            "grid_template_columns": null,
            "grid_template_rows": null,
            "height": "600px",
            "justify_content": null,
            "justify_items": null,
            "left": null,
            "margin": null,
            "max_height": null,
            "max_width": null,
            "min_height": null,
            "min_width": null,
            "object_fit": null,
            "object_position": null,
            "order": null,
            "overflow": null,
            "overflow_x": null,
            "overflow_y": null,
            "padding": null,
            "right": null,
            "top": null,
            "visibility": null,
            "width": null
          }
        },
        "215dfb6fc1214fa2ad3bd18eb079f4bf": {
          "model_module": "jupyter-leaflet",
          "model_name": "LeafletMapStyleModel",
          "model_module_version": "^0.18",
          "state": {
            "_model_module": "jupyter-leaflet",
            "_model_module_version": "^0.18",
            "_model_name": "LeafletMapStyleModel",
            "_view_count": null,
            "_view_module": "@jupyter-widgets/base",
            "_view_module_version": "1.2.0",
            "_view_name": "StyleView",
            "cursor": "grab"
          }
        },
        "9515ee4bb2c942caab31cf13fa1641bf": {
          "model_module": "@jupyter-widgets/controls",
          "model_name": "HBoxModel",
          "model_module_version": "1.5.0",
          "state": {
            "_dom_classes": [
              "geemap-colab"
            ],
            "_model_module": "@jupyter-widgets/controls",
            "_model_module_version": "1.5.0",
            "_model_name": "HBoxModel",
            "_view_count": null,
            "_view_module": "@jupyter-widgets/controls",
            "_view_module_version": "1.5.0",
            "_view_name": "HBoxView",
            "box_style": "",
            "children": [
              "IPY_MODEL_df161362aeec42378901d9aa0e11f029"
            ],
            "layout": "IPY_MODEL_6fd8c4e23e2547c5bb13b18ce70efd35"
          }
        },
        "07ed33e2457d42fc80120cc3c1633c4c": {
          "model_module": "@jupyter-widgets/controls",
          "model_name": "VBoxModel",
          "model_module_version": "1.5.0",
          "state": {
            "_dom_classes": [
              "geemap-colab"
            ],
            "_model_module": "@jupyter-widgets/controls",
            "_model_module_version": "1.5.0",
            "_model_name": "VBoxModel",
            "_view_count": null,
            "_view_module": "@jupyter-widgets/controls",
            "_view_module_version": "1.5.0",
            "_view_name": "VBoxView",
            "box_style": "",
            "children": [
              "IPY_MODEL_a57ffb554f55435483a621cd01b4fbc0"
            ],
            "layout": "IPY_MODEL_561201de32374611aecd932048b549d8"
          }
        },
        "d0c3e056701a4d4399c2163fa9fa6e3b": {
          "model_module": "@jupyter-widgets/controls",
          "model_name": "VBoxModel",
          "model_module_version": "1.5.0",
          "state": {
            "_dom_classes": [
              "geemap-colab"
            ],
            "_model_module": "@jupyter-widgets/controls",
            "_model_module_version": "1.5.0",
            "_model_name": "VBoxModel",
            "_view_count": null,
            "_view_module": "@jupyter-widgets/controls",
            "_view_module_version": "1.5.0",
            "_view_name": "VBoxView",
            "box_style": "",
            "children": [
              "IPY_MODEL_22f4ec84affe49a282d9c21c1767988a"
            ],
            "layout": "IPY_MODEL_1bff2e7df84b4da9a24b300edd36339a"
          }
        },
        "df161362aeec42378901d9aa0e11f029": {
          "model_module": "@jupyter-widgets/controls",
          "model_name": "ToggleButtonModel",
          "model_module_version": "1.5.0",
          "state": {
            "_dom_classes": [],
            "_model_module": "@jupyter-widgets/controls",
            "_model_module_version": "1.5.0",
            "_model_name": "ToggleButtonModel",
            "_view_count": null,
            "_view_module": "@jupyter-widgets/controls",
            "_view_module_version": "1.5.0",
            "_view_name": "ToggleButtonView",
            "button_style": "",
            "description": "",
            "description_tooltip": null,
            "disabled": false,
            "icon": "globe",
            "layout": "IPY_MODEL_bcb36eeb746a4555984f58f4eec57a59",
            "style": "IPY_MODEL_635e86d452e04f18802e844b897e071e",
            "tooltip": "Search location/data",
            "value": false
          }
        },
        "6fd8c4e23e2547c5bb13b18ce70efd35": {
          "model_module": "@jupyter-widgets/base",
          "model_name": "LayoutModel",
          "model_module_version": "1.2.0",
          "state": {
            "_model_module": "@jupyter-widgets/base",
            "_model_module_version": "1.2.0",
            "_model_name": "LayoutModel",
            "_view_count": null,
            "_view_module": "@jupyter-widgets/base",
            "_view_module_version": "1.2.0",
            "_view_name": "LayoutView",
            "align_content": null,
            "align_items": null,
            "align_self": null,
            "border": null,
            "bottom": null,
            "display": null,
            "flex": null,
            "flex_flow": null,
            "grid_area": null,
            "grid_auto_columns": null,
            "grid_auto_flow": null,
            "grid_auto_rows": null,
            "grid_column": null,
            "grid_gap": null,
            "grid_row": null,
            "grid_template_areas": null,
            "grid_template_columns": null,
            "grid_template_rows": null,
            "height": null,
            "justify_content": null,
            "justify_items": null,
            "left": null,
            "margin": null,
            "max_height": null,
            "max_width": null,
            "min_height": null,
            "min_width": null,
            "object_fit": null,
            "object_position": null,
            "order": null,
            "overflow": null,
            "overflow_x": null,
            "overflow_y": null,
            "padding": null,
            "right": null,
            "top": null,
            "visibility": null,
            "width": null
          }
        },
        "a57ffb554f55435483a621cd01b4fbc0": {
          "model_module": "@jupyter-widgets/controls",
          "model_name": "ToggleButtonModel",
          "model_module_version": "1.5.0",
          "state": {
            "_dom_classes": [],
            "_model_module": "@jupyter-widgets/controls",
            "_model_module_version": "1.5.0",
            "_model_name": "ToggleButtonModel",
            "_view_count": null,
            "_view_module": "@jupyter-widgets/controls",
            "_view_module_version": "1.5.0",
            "_view_name": "ToggleButtonView",
            "button_style": "",
            "description": "",
            "description_tooltip": null,
            "disabled": false,
            "icon": "wrench",
            "layout": "IPY_MODEL_57de4dbe41124b4db29a25f6c06656ca",
            "style": "IPY_MODEL_aa4a9e0ccc274406b776eb5f35371f30",
            "tooltip": "Toolbar",
            "value": false
          }
        },
        "561201de32374611aecd932048b549d8": {
          "model_module": "@jupyter-widgets/base",
          "model_name": "LayoutModel",
          "model_module_version": "1.2.0",
          "state": {
            "_model_module": "@jupyter-widgets/base",
            "_model_module_version": "1.2.0",
            "_model_name": "LayoutModel",
            "_view_count": null,
            "_view_module": "@jupyter-widgets/base",
            "_view_module_version": "1.2.0",
            "_view_name": "LayoutView",
            "align_content": null,
            "align_items": null,
            "align_self": null,
            "border": null,
            "bottom": null,
            "display": null,
            "flex": null,
            "flex_flow": null,
            "grid_area": null,
            "grid_auto_columns": null,
            "grid_auto_flow": null,
            "grid_auto_rows": null,
            "grid_column": null,
            "grid_gap": null,
            "grid_row": null,
            "grid_template_areas": null,
            "grid_template_columns": null,
            "grid_template_rows": null,
            "height": null,
            "justify_content": null,
            "justify_items": null,
            "left": null,
            "margin": null,
            "max_height": null,
            "max_width": null,
            "min_height": null,
            "min_width": null,
            "object_fit": null,
            "object_position": null,
            "order": null,
            "overflow": null,
            "overflow_x": null,
            "overflow_y": null,
            "padding": null,
            "right": null,
            "top": null,
            "visibility": null,
            "width": null
          }
        },
        "22f4ec84affe49a282d9c21c1767988a": {
          "model_module": "@jupyter-widgets/controls",
          "model_name": "VBoxModel",
          "model_module_version": "1.5.0",
          "state": {
            "_dom_classes": [],
            "_model_module": "@jupyter-widgets/controls",
            "_model_module_version": "1.5.0",
            "_model_name": "VBoxModel",
            "_view_count": null,
            "_view_module": "@jupyter-widgets/controls",
            "_view_module_version": "1.5.0",
            "_view_name": "VBoxView",
            "box_style": "",
            "children": [
              "IPY_MODEL_f416c74e4b174a2f8a79e72b484f055b",
              "IPY_MODEL_1429c1f8bba442ce9dcfe995ea44592a"
            ],
            "layout": "IPY_MODEL_fc3f635945384531a2d5db41a52a2e1a"
          }
        },
        "1bff2e7df84b4da9a24b300edd36339a": {
          "model_module": "@jupyter-widgets/base",
          "model_name": "LayoutModel",
          "model_module_version": "1.2.0",
          "state": {
            "_model_module": "@jupyter-widgets/base",
            "_model_module_version": "1.2.0",
            "_model_name": "LayoutModel",
            "_view_count": null,
            "_view_module": "@jupyter-widgets/base",
            "_view_module_version": "1.2.0",
            "_view_name": "LayoutView",
            "align_content": null,
            "align_items": null,
            "align_self": null,
            "border": null,
            "bottom": null,
            "display": null,
            "flex": null,
            "flex_flow": null,
            "grid_area": null,
            "grid_auto_columns": null,
            "grid_auto_flow": null,
            "grid_auto_rows": null,
            "grid_column": null,
            "grid_gap": null,
            "grid_row": null,
            "grid_template_areas": null,
            "grid_template_columns": null,
            "grid_template_rows": null,
            "height": null,
            "justify_content": null,
            "justify_items": null,
            "left": null,
            "margin": null,
            "max_height": null,
            "max_width": null,
            "min_height": null,
            "min_width": null,
            "object_fit": null,
            "object_position": null,
            "order": null,
            "overflow": null,
            "overflow_x": null,
            "overflow_y": null,
            "padding": null,
            "right": null,
            "top": null,
            "visibility": null,
            "width": null
          }
        },
        "bcb36eeb746a4555984f58f4eec57a59": {
          "model_module": "@jupyter-widgets/base",
          "model_name": "LayoutModel",
          "model_module_version": "1.2.0",
          "state": {
            "_model_module": "@jupyter-widgets/base",
            "_model_module_version": "1.2.0",
            "_model_name": "LayoutModel",
            "_view_count": null,
            "_view_module": "@jupyter-widgets/base",
            "_view_module_version": "1.2.0",
            "_view_name": "LayoutView",
            "align_content": null,
            "align_items": null,
            "align_self": null,
            "border": null,
            "bottom": null,
            "display": null,
            "flex": null,
            "flex_flow": null,
            "grid_area": null,
            "grid_auto_columns": null,
            "grid_auto_flow": null,
            "grid_auto_rows": null,
            "grid_column": null,
            "grid_gap": null,
            "grid_row": null,
            "grid_template_areas": null,
            "grid_template_columns": null,
            "grid_template_rows": null,
            "height": "28px",
            "justify_content": null,
            "justify_items": null,
            "left": null,
            "margin": null,
            "max_height": null,
            "max_width": null,
            "min_height": null,
            "min_width": null,
            "object_fit": null,
            "object_position": null,
            "order": null,
            "overflow": null,
            "overflow_x": null,
            "overflow_y": null,
            "padding": "0px 0px 0px 4px",
            "right": null,
            "top": null,
            "visibility": null,
            "width": "28px"
          }
        },
        "635e86d452e04f18802e844b897e071e": {
          "model_module": "@jupyter-widgets/controls",
          "model_name": "DescriptionStyleModel",
          "model_module_version": "1.5.0",
          "state": {
            "_model_module": "@jupyter-widgets/controls",
            "_model_module_version": "1.5.0",
            "_model_name": "DescriptionStyleModel",
            "_view_count": null,
            "_view_module": "@jupyter-widgets/base",
            "_view_module_version": "1.2.0",
            "_view_name": "StyleView",
            "description_width": ""
          }
        },
        "57de4dbe41124b4db29a25f6c06656ca": {
          "model_module": "@jupyter-widgets/base",
          "model_name": "LayoutModel",
          "model_module_version": "1.2.0",
          "state": {
            "_model_module": "@jupyter-widgets/base",
            "_model_module_version": "1.2.0",
            "_model_name": "LayoutModel",
            "_view_count": null,
            "_view_module": "@jupyter-widgets/base",
            "_view_module_version": "1.2.0",
            "_view_name": "LayoutView",
            "align_content": null,
            "align_items": null,
            "align_self": null,
            "border": null,
            "bottom": null,
            "display": null,
            "flex": null,
            "flex_flow": null,
            "grid_area": null,
            "grid_auto_columns": null,
            "grid_auto_flow": null,
            "grid_auto_rows": null,
            "grid_column": null,
            "grid_gap": null,
            "grid_row": null,
            "grid_template_areas": null,
            "grid_template_columns": null,
            "grid_template_rows": null,
            "height": "28px",
            "justify_content": null,
            "justify_items": null,
            "left": null,
            "margin": null,
            "max_height": null,
            "max_width": null,
            "min_height": null,
            "min_width": null,
            "object_fit": null,
            "object_position": null,
            "order": null,
            "overflow": null,
            "overflow_x": null,
            "overflow_y": null,
            "padding": "0px 0px 0px 4px",
            "right": null,
            "top": null,
            "visibility": null,
            "width": "28px"
          }
        },
        "aa4a9e0ccc274406b776eb5f35371f30": {
          "model_module": "@jupyter-widgets/controls",
          "model_name": "DescriptionStyleModel",
          "model_module_version": "1.5.0",
          "state": {
            "_model_module": "@jupyter-widgets/controls",
            "_model_module_version": "1.5.0",
            "_model_name": "DescriptionStyleModel",
            "_view_count": null,
            "_view_module": "@jupyter-widgets/base",
            "_view_module_version": "1.2.0",
            "_view_name": "StyleView",
            "description_width": ""
          }
        },
        "f416c74e4b174a2f8a79e72b484f055b": {
          "model_module": "@jupyter-widgets/controls",
          "model_name": "HBoxModel",
          "model_module_version": "1.5.0",
          "state": {
            "_dom_classes": [],
            "_model_module": "@jupyter-widgets/controls",
            "_model_module_version": "1.5.0",
            "_model_name": "HBoxModel",
            "_view_count": null,
            "_view_module": "@jupyter-widgets/controls",
            "_view_module_version": "1.5.0",
            "_view_name": "HBoxView",
            "box_style": "",
            "children": [
              "IPY_MODEL_acfeb787d3f940cebf29205149f9d9d8"
            ],
            "layout": "IPY_MODEL_3cd6337af0e24dd2a635b089fa526686"
          }
        },
        "1429c1f8bba442ce9dcfe995ea44592a": {
          "model_module": "@jupyter-widgets/controls",
          "model_name": "VBoxModel",
          "model_module_version": "1.5.0",
          "state": {
            "_dom_classes": [],
            "_model_module": "@jupyter-widgets/controls",
            "_model_module_version": "1.5.0",
            "_model_name": "VBoxModel",
            "_view_count": null,
            "_view_module": "@jupyter-widgets/controls",
            "_view_module_version": "1.5.0",
            "_view_name": "VBoxView",
            "box_style": "",
            "children": [
              "IPY_MODEL_a9263f99ff734423b3ee6f1fef9f1a9f"
            ],
            "layout": "IPY_MODEL_51e67ece1d2943b5a0d62a1cb8617b8c"
          }
        },
        "fc3f635945384531a2d5db41a52a2e1a": {
          "model_module": "@jupyter-widgets/base",
          "model_name": "LayoutModel",
          "model_module_version": "1.2.0",
          "state": {
            "_model_module": "@jupyter-widgets/base",
            "_model_module_version": "1.2.0",
            "_model_name": "LayoutModel",
            "_view_count": null,
            "_view_module": "@jupyter-widgets/base",
            "_view_module_version": "1.2.0",
            "_view_name": "LayoutView",
            "align_content": null,
            "align_items": null,
            "align_self": null,
            "border": null,
            "bottom": null,
            "display": null,
            "flex": null,
            "flex_flow": null,
            "grid_area": null,
            "grid_auto_columns": null,
            "grid_auto_flow": null,
            "grid_auto_rows": null,
            "grid_column": null,
            "grid_gap": null,
            "grid_row": null,
            "grid_template_areas": null,
            "grid_template_columns": null,
            "grid_template_rows": null,
            "height": null,
            "justify_content": null,
            "justify_items": null,
            "left": null,
            "margin": null,
            "max_height": null,
            "max_width": null,
            "min_height": null,
            "min_width": null,
            "object_fit": null,
            "object_position": null,
            "order": null,
            "overflow": null,
            "overflow_x": null,
            "overflow_y": null,
            "padding": null,
            "right": null,
            "top": null,
            "visibility": null,
            "width": null
          }
        },
        "acfeb787d3f940cebf29205149f9d9d8": {
          "model_module": "@jupyter-widgets/controls",
          "model_name": "ToggleButtonModel",
          "model_module_version": "1.5.0",
          "state": {
            "_dom_classes": [],
            "_model_module": "@jupyter-widgets/controls",
            "_model_module_version": "1.5.0",
            "_model_name": "ToggleButtonModel",
            "_view_count": null,
            "_view_module": "@jupyter-widgets/controls",
            "_view_module_version": "1.5.0",
            "_view_name": "ToggleButtonView",
            "button_style": "",
            "description": "",
            "description_tooltip": null,
            "disabled": false,
            "icon": "bars",
            "layout": "IPY_MODEL_628d64b50207492b81cf29d1ac442d22",
            "style": "IPY_MODEL_fb95d887c5574c14b1c3e26a0d571a91",
            "tooltip": "Toolbar",
            "value": true
          }
        },
        "3cd6337af0e24dd2a635b089fa526686": {
          "model_module": "@jupyter-widgets/base",
          "model_name": "LayoutModel",
          "model_module_version": "1.2.0",
          "state": {
            "_model_module": "@jupyter-widgets/base",
            "_model_module_version": "1.2.0",
            "_model_name": "LayoutModel",
            "_view_count": null,
            "_view_module": "@jupyter-widgets/base",
            "_view_module_version": "1.2.0",
            "_view_name": "LayoutView",
            "align_content": null,
            "align_items": null,
            "align_self": null,
            "border": null,
            "bottom": null,
            "display": null,
            "flex": null,
            "flex_flow": null,
            "grid_area": null,
            "grid_auto_columns": null,
            "grid_auto_flow": null,
            "grid_auto_rows": null,
            "grid_column": null,
            "grid_gap": null,
            "grid_row": null,
            "grid_template_areas": null,
            "grid_template_columns": null,
            "grid_template_rows": null,
            "height": null,
            "justify_content": null,
            "justify_items": null,
            "left": null,
            "margin": null,
            "max_height": null,
            "max_width": null,
            "min_height": null,
            "min_width": null,
            "object_fit": null,
            "object_position": null,
            "order": null,
            "overflow": null,
            "overflow_x": null,
            "overflow_y": null,
            "padding": null,
            "right": null,
            "top": null,
            "visibility": null,
            "width": null
          }
        },
        "a9263f99ff734423b3ee6f1fef9f1a9f": {
          "model_module": "@jupyter-widgets/output",
          "model_name": "OutputModel",
          "model_module_version": "1.0.0",
          "state": {
            "_dom_classes": [],
            "_model_module": "@jupyter-widgets/output",
            "_model_module_version": "1.0.0",
            "_model_name": "OutputModel",
            "_view_count": null,
            "_view_module": "@jupyter-widgets/output",
            "_view_module_version": "1.0.0",
            "_view_name": "OutputView",
            "layout": "IPY_MODEL_d972b7c020be415883e4a16fde162fce",
            "msg_id": "",
            "outputs": [
              {
                "output_type": "display_data",
                "data": {
                  "text/plain": "HTML(value=\"<html>\\n<body>\\n  <div class='my-legend'>\\n  <div class='legend-title'>Classification</div>\\n  <di…",
                  "application/vnd.jupyter.widget-view+json": {
                    "version_major": 2,
                    "version_minor": 0,
                    "model_id": "c986f7599236472393df68562a772d89"
                  }
                },
                "metadata": {
                  "application/vnd.jupyter.widget-view+json": {
                    "colab": {
                      "custom_widget_manager": {
                        "url": "https://ssl.gstatic.com/colaboratory-static/widgets/colab-cdn-widget-manager/b3e629b1971e1542/manager.min.js"
                      }
                    }
                  }
                }
              }
            ]
          }
        },
        "51e67ece1d2943b5a0d62a1cb8617b8c": {
          "model_module": "@jupyter-widgets/base",
          "model_name": "LayoutModel",
          "model_module_version": "1.2.0",
          "state": {
            "_model_module": "@jupyter-widgets/base",
            "_model_module_version": "1.2.0",
            "_model_name": "LayoutModel",
            "_view_count": null,
            "_view_module": "@jupyter-widgets/base",
            "_view_module_version": "1.2.0",
            "_view_name": "LayoutView",
            "align_content": null,
            "align_items": null,
            "align_self": null,
            "border": null,
            "bottom": null,
            "display": null,
            "flex": null,
            "flex_flow": null,
            "grid_area": null,
            "grid_auto_columns": null,
            "grid_auto_flow": null,
            "grid_auto_rows": null,
            "grid_column": null,
            "grid_gap": null,
            "grid_row": null,
            "grid_template_areas": null,
            "grid_template_columns": null,
            "grid_template_rows": null,
            "height": null,
            "justify_content": null,
            "justify_items": null,
            "left": null,
            "margin": null,
            "max_height": null,
            "max_width": null,
            "min_height": null,
            "min_width": null,
            "object_fit": null,
            "object_position": null,
            "order": null,
            "overflow": null,
            "overflow_x": null,
            "overflow_y": null,
            "padding": null,
            "right": null,
            "top": null,
            "visibility": null,
            "width": null
          }
        },
        "628d64b50207492b81cf29d1ac442d22": {
          "model_module": "@jupyter-widgets/base",
          "model_name": "LayoutModel",
          "model_module_version": "1.2.0",
          "state": {
            "_model_module": "@jupyter-widgets/base",
            "_model_module_version": "1.2.0",
            "_model_name": "LayoutModel",
            "_view_count": null,
            "_view_module": "@jupyter-widgets/base",
            "_view_module_version": "1.2.0",
            "_view_name": "LayoutView",
            "align_content": null,
            "align_items": null,
            "align_self": null,
            "border": null,
            "bottom": null,
            "display": null,
            "flex": null,
            "flex_flow": null,
            "grid_area": null,
            "grid_auto_columns": null,
            "grid_auto_flow": null,
            "grid_auto_rows": null,
            "grid_column": null,
            "grid_gap": null,
            "grid_row": null,
            "grid_template_areas": null,
            "grid_template_columns": null,
            "grid_template_rows": null,
            "height": "28px",
            "justify_content": null,
            "justify_items": null,
            "left": null,
            "margin": null,
            "max_height": null,
            "max_width": null,
            "min_height": null,
            "min_width": null,
            "object_fit": null,
            "object_position": null,
            "order": null,
            "overflow": null,
            "overflow_x": null,
            "overflow_y": null,
            "padding": "0px 0px 0px 4px",
            "right": null,
            "top": null,
            "visibility": null,
            "width": "28px"
          }
        },
        "fb95d887c5574c14b1c3e26a0d571a91": {
          "model_module": "@jupyter-widgets/controls",
          "model_name": "DescriptionStyleModel",
          "model_module_version": "1.5.0",
          "state": {
            "_model_module": "@jupyter-widgets/controls",
            "_model_module_version": "1.5.0",
            "_model_name": "DescriptionStyleModel",
            "_view_count": null,
            "_view_module": "@jupyter-widgets/base",
            "_view_module_version": "1.2.0",
            "_view_name": "StyleView",
            "description_width": ""
          }
        },
        "d972b7c020be415883e4a16fde162fce": {
          "model_module": "@jupyter-widgets/base",
          "model_name": "LayoutModel",
          "model_module_version": "1.2.0",
          "state": {
            "_model_module": "@jupyter-widgets/base",
            "_model_module_version": "1.2.0",
            "_model_name": "LayoutModel",
            "_view_count": null,
            "_view_module": "@jupyter-widgets/base",
            "_view_module_version": "1.2.0",
            "_view_name": "LayoutView",
            "align_content": null,
            "align_items": null,
            "align_self": null,
            "border": null,
            "bottom": null,
            "display": null,
            "flex": null,
            "flex_flow": null,
            "grid_area": null,
            "grid_auto_columns": null,
            "grid_auto_flow": null,
            "grid_auto_rows": null,
            "grid_column": null,
            "grid_gap": null,
            "grid_row": null,
            "grid_template_areas": null,
            "grid_template_columns": null,
            "grid_template_rows": null,
            "height": null,
            "justify_content": null,
            "justify_items": null,
            "left": null,
            "margin": null,
            "max_height": "400px",
            "max_width": "300px",
            "min_height": null,
            "min_width": null,
            "object_fit": null,
            "object_position": null,
            "order": null,
            "overflow": "scroll",
            "overflow_x": null,
            "overflow_y": null,
            "padding": null,
            "right": null,
            "top": null,
            "visibility": null,
            "width": null
          }
        },
        "c986f7599236472393df68562a772d89": {
          "model_module": "@jupyter-widgets/controls",
          "model_name": "HTMLModel",
          "model_module_version": "1.5.0",
          "state": {
            "_dom_classes": [],
            "_model_module": "@jupyter-widgets/controls",
            "_model_module_version": "1.5.0",
            "_model_name": "HTMLModel",
            "_view_count": null,
            "_view_module": "@jupyter-widgets/controls",
            "_view_module_version": "1.5.0",
            "_view_name": "HTMLView",
            "description": "",
            "description_tooltip": null,
            "layout": "IPY_MODEL_b42487b846604973a66905b50b82c585",
            "placeholder": "​",
            "style": "IPY_MODEL_3bb8b2034efa4d1ca4f72ae0ff423265",
            "value": "<html>\n<body>\n  <div class='my-legend'>\n  <div class='legend-title'>Classification</div>\n  <div class='legend-scale'>\n    <ul class='legend-labels'>\n<li><span style='background:#351C75;'></span>1</li>\n<li><span style='background:#F91DF9;'></span>2</li>\n<li><span style='background:#980A7D;'></span>3</li>\n<li><span style='background:#741b47;'></span>4</li>\n<li><span style='background:#fd0618;'></span>5</li>\n<li><span style='background:#E06666;'></span>6</li>\n<li><span style='background:#ffcc99;'></span>7</li>\n<li><span style='background:#ffffff;'></span>8</li>\n<li><span style='background:#999999;'></span>9</li>\n<li><span style='background:#a8a800;'></span>10</li>\n<li><span style='background:#6aa84f;'></span>11</li>\n<li><span style='background:#14870e;'></span>12</li>\n<li><span style='background:#DB992D;'></span>13</li>\n<li><span style='background:#ff7f00;'></span>14</li>\n<li><span style='background:#000000;'></span>15</li>\n<li><span style='background:#0a14f9;'></span>16</li>\n<li><span style='background:#08f3e4;'></span>17</li>\n    </ul>\n  </div>\n  </div>\n\n  <style type='text/css'>\n    .my-legend .legend-title {\n      text-align: left;\n      margin-bottom: 2px;\n      margin-left: 2px;\n      font-weight: bold;\n      font-size: 90%;\n      }\n    .my-legend .legend-scale ul {\n      margin: 0;\n      margin-bottom: 5px;\n      padding: 0;\n      float: left;\n      list-style: none;\n      }\n    .my-legend .legend-scale ul li {\n      font-size: 80%;\n      list-style: none;\n      margin-left: 1px;\n      line-height: 18px;\n      margin-bottom: 2px;\n      }\n    .my-legend ul.legend-labels li span {\n      display: block;\n      float: left;\n      height: 16px;\n      width: 30px;\n      margin-right: 5px;\n      margin-left: 2px;\n      border: 1px solid #999;\n      }\n    .my-legend .legend-source {\n      font-size: 70%;\n      color: #999;\n      clear: both;\n      }\n    .my-legend a {\n      color: #777;\n      }\n  </style>\n</body>\n</html>\n"
          }
        },
        "b42487b846604973a66905b50b82c585": {
          "model_module": "@jupyter-widgets/base",
          "model_name": "LayoutModel",
          "model_module_version": "1.2.0",
          "state": {
            "_model_module": "@jupyter-widgets/base",
            "_model_module_version": "1.2.0",
            "_model_name": "LayoutModel",
            "_view_count": null,
            "_view_module": "@jupyter-widgets/base",
            "_view_module_version": "1.2.0",
            "_view_name": "LayoutView",
            "align_content": null,
            "align_items": null,
            "align_self": null,
            "border": null,
            "bottom": null,
            "display": null,
            "flex": null,
            "flex_flow": null,
            "grid_area": null,
            "grid_auto_columns": null,
            "grid_auto_flow": null,
            "grid_auto_rows": null,
            "grid_column": null,
            "grid_gap": null,
            "grid_row": null,
            "grid_template_areas": null,
            "grid_template_columns": null,
            "grid_template_rows": null,
            "height": null,
            "justify_content": null,
            "justify_items": null,
            "left": null,
            "margin": null,
            "max_height": null,
            "max_width": null,
            "min_height": null,
            "min_width": null,
            "object_fit": null,
            "object_position": null,
            "order": null,
            "overflow": null,
            "overflow_x": null,
            "overflow_y": null,
            "padding": null,
            "right": null,
            "top": null,
            "visibility": null,
            "width": null
          }
        },
        "3bb8b2034efa4d1ca4f72ae0ff423265": {
          "model_module": "@jupyter-widgets/controls",
          "model_name": "DescriptionStyleModel",
          "model_module_version": "1.5.0",
          "state": {
            "_model_module": "@jupyter-widgets/controls",
            "_model_module_version": "1.5.0",
            "_model_name": "DescriptionStyleModel",
            "_view_count": null,
            "_view_module": "@jupyter-widgets/base",
            "_view_module_version": "1.2.0",
            "_view_name": "StyleView",
            "description_width": ""
          }
        }
      }
    }
  },
  "nbformat": 4,
  "nbformat_minor": 0
}