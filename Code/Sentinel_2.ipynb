{
  "cells": [
    {
      "cell_type": "markdown",
      "metadata": {
        "id": "view-in-github",
        "colab_type": "text"
      },
      "source": [
        "<a href=\"https://colab.research.google.com/github/Thandeka20/High-spatial-resolution-imagery-vs-high-spectral-imagery/blob/main/Code/Sentinel_2.ipynb\" target=\"_parent\"><img src=\"https://colab.research.google.com/assets/colab-badge.svg\" alt=\"Open In Colab\"/></a>"
      ]
    },
    {
      "cell_type": "markdown",
      "source": [
        "**Import google earth engine API**"
      ],
      "metadata": {
        "id": "5olsCEz3I4-K"
      }
    },
    {
      "cell_type": "code",
      "execution_count": 2,
      "metadata": {
        "id": "TNEyh2QVsIkL"
      },
      "outputs": [],
      "source": [
        "import ee"
      ]
    },
    {
      "cell_type": "markdown",
      "source": [
        "**Authenticate google earth engine and your intialize the cloud project**"
      ],
      "metadata": {
        "id": "EMkTL9L0JBzB"
      }
    },
    {
      "cell_type": "code",
      "execution_count": 3,
      "metadata": {
        "id": "NMp9Ei9b0XXL"
      },
      "outputs": [],
      "source": [
        "# Trigger the authentication flow.\n",
        "ee.Authenticate()\n",
        "\n",
        "# Initialize the library.\n",
        "ee.Initialize(project='thandeka-skosana')"
      ]
    },
    {
      "cell_type": "markdown",
      "source": [
        "**Import libraries needed to run the code**"
      ],
      "metadata": {
        "id": "4AYSNlZDJUSV"
      }
    },
    {
      "cell_type": "code",
      "execution_count": 4,
      "metadata": {
        "colab": {
          "base_uri": "https://localhost:8080/",
          "height": 329
        },
        "id": "CB3c_00ysyzX",
        "outputId": "e702f559-93f7-469f-bfe0-c6c86416dc32"
      },
      "outputs": [
        {
          "output_type": "stream",
          "name": "stdout",
          "text": [
            "Collecting rasterio\n",
            "  Downloading rasterio-1.3.9-cp310-cp310-manylinux2014_x86_64.whl (20.6 MB)\n",
            "\u001b[2K     \u001b[90m━━━━━━━━━━━━━━━━━━━━━━━━━━━━━━━━━━━━━━━━\u001b[0m \u001b[32m20.6/20.6 MB\u001b[0m \u001b[31m40.0 MB/s\u001b[0m eta \u001b[36m0:00:00\u001b[0m\n",
            "\u001b[?25hCollecting affine (from rasterio)\n",
            "  Downloading affine-2.4.0-py3-none-any.whl (15 kB)\n",
            "Requirement already satisfied: attrs in /usr/local/lib/python3.10/dist-packages (from rasterio) (23.2.0)\n",
            "Requirement already satisfied: certifi in /usr/local/lib/python3.10/dist-packages (from rasterio) (2024.2.2)\n",
            "Requirement already satisfied: click>=4.0 in /usr/local/lib/python3.10/dist-packages (from rasterio) (8.1.7)\n",
            "Requirement already satisfied: cligj>=0.5 in /usr/local/lib/python3.10/dist-packages (from rasterio) (0.7.2)\n",
            "Requirement already satisfied: numpy in /usr/local/lib/python3.10/dist-packages (from rasterio) (1.23.5)\n",
            "Collecting snuggs>=1.4.1 (from rasterio)\n",
            "  Downloading snuggs-1.4.7-py3-none-any.whl (5.4 kB)\n",
            "Requirement already satisfied: click-plugins in /usr/local/lib/python3.10/dist-packages (from rasterio) (1.1.1)\n",
            "Requirement already satisfied: setuptools in /usr/local/lib/python3.10/dist-packages (from rasterio) (67.7.2)\n",
            "Requirement already satisfied: pyparsing>=2.1.6 in /usr/local/lib/python3.10/dist-packages (from snuggs>=1.4.1->rasterio) (3.1.1)\n",
            "Installing collected packages: snuggs, affine, rasterio\n",
            "Successfully installed affine-2.4.0 rasterio-1.3.9 snuggs-1.4.7\n",
            "Mounted at /content/drive\n"
          ]
        }
      ],
      "source": [
        "#import modules\n",
        "!pip install rasterio\n",
        "import rasterio\n",
        "import numpy as np\n",
        "import pandas as pd\n",
        "import geopandas as gpd\n",
        "import geemap\n",
        "import re\n",
        "import os\n",
        "import gdown\n",
        "from IPython.display import Image, display\n",
        "from google.colab import drive\n",
        "drive.mount('/content/drive')"
      ]
    },
    {
      "cell_type": "markdown",
      "source": [
        "**Visualize Sentinel-2 Scene**"
      ],
      "metadata": {
        "id": "5VY9DrEWJi6V"
      }
    },
    {
      "cell_type": "code",
      "execution_count": 5,
      "metadata": {
        "colab": {
          "base_uri": "https://localhost:8080/",
          "height": 522
        },
        "id": "_O0uI5FZD_uZ",
        "outputId": "5349b593-e752-486e-d0d5-8ffb2fa1c010"
      },
      "outputs": [
        {
          "output_type": "display_data",
          "data": {
            "text/plain": [
              "<IPython.core.display.HTML object>"
            ],
            "text/html": [
              "\n",
              "            <style>\n",
              "                .geemap-dark {\n",
              "                    --jp-widgets-color: white;\n",
              "                    --jp-widgets-label-color: white;\n",
              "                    --jp-ui-font-color1: white;\n",
              "                    --jp-layout-color2: #454545;\n",
              "                    background-color: #383838;\n",
              "                }\n",
              "                    \n",
              "                .geemap-dark .jupyter-button {\n",
              "                    --jp-layout-color3: #383838;\n",
              "                }\n",
              "                \n",
              "                .geemap-colab {\n",
              "                    background-color: var(--colab-primary-surface-color, white);\n",
              "                }\n",
              "                    \n",
              "                .geemap-colab .jupyter-button {\n",
              "                    --jp-layout-color3: var(--colab-primary-surface-color, white);\n",
              "                }\n",
              "            </style>\n",
              "            "
            ]
          },
          "metadata": {}
        },
        {
          "output_type": "display_data",
          "data": {
            "text/html": [
              "<img src=\"https://earthengine.googleapis.com/v1/projects/thandeka-skosana/thumbnails/ccf4510fcf3846ac657b00371890975e-54a6837c658d2a8aaaaf20f5a2e9e4e3:getPixels\"/>"
            ],
            "text/plain": [
              "<IPython.core.display.Image object>"
            ]
          },
          "metadata": {}
        }
      ],
      "source": [
        "#visualize the Sentinel-2 scene\n",
        "# Define the bands to use for visualization\n",
        "bands = ee.List([\"B4\", \"B3\", \"B2\"])\n",
        "\n",
        "# Define visualization parameters\n",
        "vis_params = {\n",
        "    'bands': ['B4', 'B3', 'B2'],\n",
        "    'min': 0,\n",
        "    'max': 3000,\n",
        "}\n",
        "\n",
        "# Example: Display an image using the defined visualization parameters\n",
        "image = ee.Image('COPERNICUS/S2/20230727T073621_20230727T075808_T36JTT')\n",
        "display_image = Image(url=image.visualize(**vis_params).getThumbURL({'dimensions': '500x500'}))\n",
        "display(display_image)"
      ]
    },
    {
      "cell_type": "markdown",
      "metadata": {
        "id": "iBhT28Rlzc_W"
      },
      "source": [
        "**Compute vegetation indices**"
      ]
    },
    {
      "cell_type": "code",
      "execution_count": 6,
      "metadata": {
        "id": "8O_RSN1wUo4w",
        "colab": {
          "base_uri": "https://localhost:8080/",
          "height": 54
        },
        "outputId": "4dc3c30b-c4bf-4d8d-e5d8-b2edd4afe815"
      },
      "outputs": [
        {
          "output_type": "display_data",
          "data": {
            "text/plain": [
              "<IPython.core.display.HTML object>"
            ],
            "text/html": [
              "\n",
              "            <style>\n",
              "                .geemap-dark {\n",
              "                    --jp-widgets-color: white;\n",
              "                    --jp-widgets-label-color: white;\n",
              "                    --jp-ui-font-color1: white;\n",
              "                    --jp-layout-color2: #454545;\n",
              "                    background-color: #383838;\n",
              "                }\n",
              "                    \n",
              "                .geemap-dark .jupyter-button {\n",
              "                    --jp-layout-color3: #383838;\n",
              "                }\n",
              "                \n",
              "                .geemap-colab {\n",
              "                    background-color: var(--colab-primary-surface-color, white);\n",
              "                }\n",
              "                    \n",
              "                .geemap-colab .jupyter-button {\n",
              "                    --jp-layout-color3: var(--colab-primary-surface-color, white);\n",
              "                }\n",
              "            </style>\n",
              "            "
            ]
          },
          "metadata": {}
        },
        {
          "output_type": "stream",
          "name": "stdout",
          "text": [
            "{'type': 'Image', 'bands': [{'id': 'B1', 'data_type': {'type': 'PixelType', 'precision': 'int', 'min': 0, 'max': 65535}, 'dimensions': [1830, 1830], 'crs': 'EPSG:32736', 'crs_transform': [60, 0, 199980, 0, -60, 7300000]}, {'id': 'B2', 'data_type': {'type': 'PixelType', 'precision': 'int', 'min': 0, 'max': 65535}, 'dimensions': [10980, 10980], 'crs': 'EPSG:32736', 'crs_transform': [10, 0, 199980, 0, -10, 7300000]}, {'id': 'B3', 'data_type': {'type': 'PixelType', 'precision': 'int', 'min': 0, 'max': 65535}, 'dimensions': [10980, 10980], 'crs': 'EPSG:32736', 'crs_transform': [10, 0, 199980, 0, -10, 7300000]}, {'id': 'B4', 'data_type': {'type': 'PixelType', 'precision': 'int', 'min': 0, 'max': 65535}, 'dimensions': [10980, 10980], 'crs': 'EPSG:32736', 'crs_transform': [10, 0, 199980, 0, -10, 7300000]}, {'id': 'B5', 'data_type': {'type': 'PixelType', 'precision': 'int', 'min': 0, 'max': 65535}, 'dimensions': [5490, 5490], 'crs': 'EPSG:32736', 'crs_transform': [20, 0, 199980, 0, -20, 7300000]}, {'id': 'B6', 'data_type': {'type': 'PixelType', 'precision': 'int', 'min': 0, 'max': 65535}, 'dimensions': [5490, 5490], 'crs': 'EPSG:32736', 'crs_transform': [20, 0, 199980, 0, -20, 7300000]}, {'id': 'B7', 'data_type': {'type': 'PixelType', 'precision': 'int', 'min': 0, 'max': 65535}, 'dimensions': [5490, 5490], 'crs': 'EPSG:32736', 'crs_transform': [20, 0, 199980, 0, -20, 7300000]}, {'id': 'B8', 'data_type': {'type': 'PixelType', 'precision': 'int', 'min': 0, 'max': 65535}, 'dimensions': [10980, 10980], 'crs': 'EPSG:32736', 'crs_transform': [10, 0, 199980, 0, -10, 7300000]}, {'id': 'B8A', 'data_type': {'type': 'PixelType', 'precision': 'int', 'min': 0, 'max': 65535}, 'dimensions': [5490, 5490], 'crs': 'EPSG:32736', 'crs_transform': [20, 0, 199980, 0, -20, 7300000]}, {'id': 'B9', 'data_type': {'type': 'PixelType', 'precision': 'int', 'min': 0, 'max': 65535}, 'dimensions': [1830, 1830], 'crs': 'EPSG:32736', 'crs_transform': [60, 0, 199980, 0, -60, 7300000]}, {'id': 'B10', 'data_type': {'type': 'PixelType', 'precision': 'int', 'min': 0, 'max': 65535}, 'dimensions': [1830, 1830], 'crs': 'EPSG:32736', 'crs_transform': [60, 0, 199980, 0, -60, 7300000]}, {'id': 'B11', 'data_type': {'type': 'PixelType', 'precision': 'int', 'min': 0, 'max': 65535}, 'dimensions': [5490, 5490], 'crs': 'EPSG:32736', 'crs_transform': [20, 0, 199980, 0, -20, 7300000]}, {'id': 'B12', 'data_type': {'type': 'PixelType', 'precision': 'int', 'min': 0, 'max': 65535}, 'dimensions': [5490, 5490], 'crs': 'EPSG:32736', 'crs_transform': [20, 0, 199980, 0, -20, 7300000]}, {'id': 'QA10', 'data_type': {'type': 'PixelType', 'precision': 'int', 'min': 0, 'max': 65535}, 'dimensions': [10980, 10980], 'crs': 'EPSG:32736', 'crs_transform': [10, 0, 199980, 0, -10, 7300000]}, {'id': 'QA20', 'data_type': {'type': 'PixelType', 'precision': 'int', 'min': 0, 'max': 4294967295}, 'dimensions': [5490, 5490], 'crs': 'EPSG:32736', 'crs_transform': [20, 0, 199980, 0, -20, 7300000]}, {'id': 'QA60', 'data_type': {'type': 'PixelType', 'precision': 'int', 'min': 0, 'max': 65535}, 'dimensions': [1830, 1830], 'crs': 'EPSG:32736', 'crs_transform': [60, 0, 199980, 0, -60, 7300000]}, {'id': 'GI', 'data_type': {'type': 'PixelType', 'precision': 'float'}, 'dimensions': [10980, 10980], 'crs': 'EPSG:32736', 'crs_transform': [10, 0, 199980, 0, -10, 7300000]}, {'id': 'IRG', 'data_type': {'type': 'PixelType', 'precision': 'int', 'min': -65535, 'max': 65535}, 'dimensions': [10980, 10980], 'crs': 'EPSG:32736', 'crs_transform': [10, 0, 199980, 0, -10, 7300000]}, {'id': 'NGRDI', 'data_type': {'type': 'PixelType', 'precision': 'float'}, 'dimensions': [10980, 10980], 'crs': 'EPSG:32736', 'crs_transform': [10, 0, 199980, 0, -10, 7300000]}, {'id': 'VARI', 'data_type': {'type': 'PixelType', 'precision': 'float'}, 'dimensions': [10980, 10980], 'crs': 'EPSG:32736', 'crs_transform': [10, 0, 199980, 0, -10, 7300000]}, {'id': 'VDVI', 'data_type': {'type': 'PixelType', 'precision': 'float'}, 'dimensions': [10980, 10980], 'crs': 'EPSG:32736', 'crs_transform': [10, 0, 199980, 0, -10, 7300000]}, {'id': 'WBI', 'data_type': {'type': 'PixelType', 'precision': 'float'}, 'dimensions': [10980, 10980], 'crs': 'EPSG:32736', 'crs_transform': [10, 0, 199980, 0, -10, 7300000]}], 'id': 'COPERNICUS/S2/20230727T073621_20230727T075808_T36JTT', 'version': 1690499611260706, 'properties': {'DATATAKE_IDENTIFIER': 'GS2A_20230727T073621_042274_N05.09', 'SPACECRAFT_NAME': 'Sentinel-2A', 'RADIO_ADD_OFFSET_B8A': -1000, 'MEAN_INCIDENCE_AZIMUTH_ANGLE_B8A': 102.330999254942, 'RADIO_ADD_OFFSET_B10': -1000, 'MEAN_SOLAR_AZIMUTH_ANGLE': 35.5773272191598, 'system:footprint': {'type': 'LinearRing', 'coordinates': [[30.408705760231133, -24.39116058356096], [30.408614315368347, -24.391207487348776], [30.406702223639556, -24.39769413414109], [30.356646395141283, -24.585820253680808], [30.33670012670602, -24.660738469620505], [30.299887670504294, -24.801410449520798], [30.281118283462966, -24.873087184891123], [30.2272401632356, -25.07893211357397], [30.15484874314754, -25.35422800896685], [30.14957376565402, -25.375791800579055], [30.149540463253395, -25.37720900713081], [30.149811992107743, -25.37733908973084], [31.10891167731808, -25.39280244324963], [31.109012313465282, -25.392734133173043], [31.11663313540934, -24.897276889821313], [31.12405353627625, -24.401804990833163], [31.123978527636876, -24.401714000614206], [30.408705760231133, -24.39116058356096]]}, 'SOLAR_IRRADIANCE_B12': 85.25, 'SOLAR_IRRADIANCE_B10': 367.15, 'SENSOR_QUALITY': 'PASSED', 'SOLAR_IRRADIANCE_B11': 245.59, 'GENERATION_TIME': 1690450811000, 'RADIO_ADD_OFFSET_B12': -1000, 'RADIO_ADD_OFFSET_B11': -1000, 'SOLAR_IRRADIANCE_B8A': 955.32, 'FORMAT_CORRECTNESS': 'PASSED', 'CLOUD_COVERAGE_ASSESSMENT': 0, 'system:time_end': 1690445229783, 'SNOW_PIXEL_PERCENTAGE': 0, 'system:time_start': 1690445229783, 'RADIO_ADD_OFFSET_B1': -1000, 'RADIO_ADD_OFFSET_B2': -1000, 'DATASTRIP_ID': 'S2A_OPER_MSI_L1C_DS_2APS_20230727T094011_S20230727T075808_N05.09', 'RADIO_ADD_OFFSET_B3': -1000, 'RADIO_ADD_OFFSET_B4': -1000, 'RADIO_ADD_OFFSET_B5': -1000, 'PROCESSING_BASELINE': '05.09', 'SENSING_ORBIT_NUMBER': 92, 'RADIO_ADD_OFFSET_B6': -1000, 'RADIO_ADD_OFFSET_B7': -1000, 'SENSING_ORBIT_DIRECTION': 'DESCENDING', 'GENERAL_QUALITY': 'PASSED', 'GRANULE_ID': 'L1C_T36JTT_A042274_20230727T075808', 'REFLECTANCE_CONVERSION_CORRECTION': 0.968903366708066, 'MEAN_INCIDENCE_AZIMUTH_ANGLE_B8': 101.487982955465, 'DATATAKE_TYPE': 'INS-NOBS', 'MEAN_INCIDENCE_AZIMUTH_ANGLE_B9': 102.633296918515, 'MEAN_INCIDENCE_AZIMUTH_ANGLE_B6': 102.079162296747, 'MEAN_INCIDENCE_AZIMUTH_ANGLE_B7': 102.206963546775, 'MEAN_INCIDENCE_AZIMUTH_ANGLE_B4': 101.81207721526, 'MEAN_INCIDENCE_ZENITH_ANGLE_B1': 8.56293217156715, 'RADIO_ADD_OFFSET_B8': -1000, 'MEAN_INCIDENCE_AZIMUTH_ANGLE_B5': 101.963058282258, 'RADIOMETRIC_QUALITY': 'PASSED', 'RADIO_ADD_OFFSET_B9': -1000, 'MEAN_INCIDENCE_AZIMUTH_ANGLE_B2': 101.370190612672, 'MEAN_INCIDENCE_AZIMUTH_ANGLE_B3': 101.59882387088, 'MEAN_INCIDENCE_ZENITH_ANGLE_B5': 8.4503463618781, 'MEAN_INCIDENCE_AZIMUTH_ANGLE_B1': 102.509540628094, 'MEAN_INCIDENCE_ZENITH_ANGLE_B4': 8.42936874958265, 'MEAN_INCIDENCE_ZENITH_ANGLE_B3': 8.39975724271938, 'MEAN_INCIDENCE_ZENITH_ANGLE_B2': 8.38513939175962, 'MEAN_INCIDENCE_ZENITH_ANGLE_B9': 8.59525316469495, 'MEAN_INCIDENCE_ZENITH_ANGLE_B8': 8.39515661068746, 'MEAN_INCIDENCE_ZENITH_ANGLE_B7': 8.49689657531987, 'MEAN_INCIDENCE_ZENITH_ANGLE_B6': 8.47242766994218, 'MEAN_SOLAR_ZENITH_ANGLE': 52.5288710584069, 'MEAN_INCIDENCE_ZENITH_ANGLE_B8A': 8.52860770340278, 'MGRS_TILE': '36JTT', 'CLOUDY_PIXEL_PERCENTAGE': 0, 'PRODUCT_ID': 'S2A_MSIL1C_20230727T073621_N0509_R092_T36JTT_20230727T094011', 'MEAN_INCIDENCE_ZENITH_ANGLE_B10': 8.42108247809941, 'SOLAR_IRRADIANCE_B9': 812.92, 'DEGRADED_MSI_DATA_PERCENTAGE': 0.0145, 'MEAN_INCIDENCE_ZENITH_ANGLE_B11': 8.4479695012074, 'MEAN_INCIDENCE_ZENITH_ANGLE_B12': 8.50952250075892, 'SOLAR_IRRADIANCE_B6': 1287.61, 'MEAN_INCIDENCE_AZIMUTH_ANGLE_B10': 101.81713272803, 'SOLAR_IRRADIANCE_B5': 1424.64, 'MEAN_INCIDENCE_AZIMUTH_ANGLE_B11': 102.092925935794, 'SOLAR_IRRADIANCE_B8': 1041.63, 'MEAN_INCIDENCE_AZIMUTH_ANGLE_B12': 102.38406509117, 'SOLAR_IRRADIANCE_B7': 1162.08, 'SOLAR_IRRADIANCE_B2': 1959.66, 'SOLAR_IRRADIANCE_B1': 1884.69, 'SOLAR_IRRADIANCE_B4': 1512.06, 'GEOMETRIC_QUALITY': 'PASSED', 'SOLAR_IRRADIANCE_B3': 1823.24, 'system:asset_size': 973850913, 'system:index': '20230727T073621_20230727T075808_T36JTT'}}\n"
          ]
        }
      ],
      "source": [
        "# Define vegetation indices\n",
        "GI = image.expression('(GREEN)/(RED)', {\n",
        "    'GREEN': image.select('B3'),\n",
        "    'RED': image.select('B4'),\n",
        "}).rename('GI')\n",
        "\n",
        "IRG = image.expression('(RED-GREEN)', {\n",
        "    'RED': image.select('B4'),\n",
        "    'GREEN': image.select('B3'),\n",
        "}).rename('IRG')\n",
        "\n",
        "NGRDI = image.expression('(GREEN-RED)/(GREEN+RED)', {\n",
        "    'RED': image.select('B4'),\n",
        "    'GREEN': image.select('B3'),\n",
        "}).rename('NGRDI')\n",
        "\n",
        "VARI = image.expression('(GREEN-RED)/(GREEN+RED+BLUE)', {\n",
        "    'RED': image.select('B3'),\n",
        "    'GREEN': image.select('B4'),\n",
        "    'BLUE': image.select('B2'),\n",
        "}).rename('VARI')\n",
        "\n",
        "VDVI = image.expression('(2*GREEN-RED-BLUE)/(2*GREEN+RED+BLUE)', {\n",
        "    'RED': image.select('B4'),\n",
        "    'GREEN': image.select('B3'),\n",
        "    'BLUE': image.select('B2'),\n",
        "}).rename('VDVI')\n",
        "\n",
        "WBI = image.expression('(Blue - Red) / (Blue + Red)', {\n",
        "    'Blue': image.select('B2'),\n",
        "    'Red': image.select('B4'),\n",
        "}).rename('WBI')\n",
        "\n",
        "# Add computed variables as bands to the image_final\n",
        "image_final = image.addBands([GI, IRG, NGRDI, VARI, VDVI, WBI])\n",
        "# Print image bands\n",
        "print(image_final.getInfo())"
      ]
    },
    {
      "cell_type": "markdown",
      "source": [
        "**Load training data from google drive to google colab**"
      ],
      "metadata": {
        "id": "2HOZTejAJ_zl"
      }
    },
    {
      "cell_type": "code",
      "source": [
        "# Specify the Google Drive file ID of the shapefile\n",
        "file_id = '1iA9L6tn0dwVlABPngFAgjRxd8xXET1c4'\n",
        "output_path = '/content/drive/My Drive/Colab Notebooks/Data/TrainingSet_SabieCroc/Training_setSc.shp'\n",
        "url = f'https://drive.google.com/uc?id={file_id}'\n",
        "\n",
        "# Read the shapefile into a GeoDataFrame\n",
        "training_data = gpd.read_file(output_path)\n",
        "\n",
        "print (training_data)\n",
        "#cover shp file to geojson\n",
        "#training_set=training_data.to_file('training_set.geojson', driver='GeoJSON')\n",
        "\n",
        "# Display the GeoDataFrame\n",
        "#print(training_set)\n",
        "\n",
        "# Create an Earth Engine FeatureCollection from the list of dictionaries\n",
        "#training_data_dict = training_data.to_dict('records')\n",
        "\n",
        "# Print the type of training_data\n",
        "#print(type(training_data_dict))\n",
        "\n",
        "#convert geodataframe to a feature collection\n",
        "#training_subset = ee.FeatureCollection(training_set)"
      ],
      "metadata": {
        "colab": {
          "base_uri": "https://localhost:8080/",
          "height": 1000
        },
        "id": "450mQIzLqgDL",
        "outputId": "2da9d68c-83b8-414f-feaf-5e1e8fc3e31c"
      },
      "execution_count": 20,
      "outputs": [
        {
          "output_type": "display_data",
          "data": {
            "text/plain": [
              "<IPython.core.display.HTML object>"
            ],
            "text/html": [
              "\n",
              "            <style>\n",
              "                .geemap-dark {\n",
              "                    --jp-widgets-color: white;\n",
              "                    --jp-widgets-label-color: white;\n",
              "                    --jp-ui-font-color1: white;\n",
              "                    --jp-layout-color2: #454545;\n",
              "                    background-color: #383838;\n",
              "                }\n",
              "                    \n",
              "                .geemap-dark .jupyter-button {\n",
              "                    --jp-layout-color3: #383838;\n",
              "                }\n",
              "                \n",
              "                .geemap-colab {\n",
              "                    background-color: var(--colab-primary-surface-color, white);\n",
              "                }\n",
              "                    \n",
              "                .geemap-colab .jupyter-button {\n",
              "                    --jp-layout-color3: var(--colab-primary-surface-color, white);\n",
              "                }\n",
              "            </style>\n",
              "            "
            ]
          },
          "metadata": {}
        },
        {
          "output_type": "stream",
          "name": "stdout",
          "text": [
            "                                       Name  \\\n",
            "0     0e9fd6a4c5704984a97731f76c9fdc86.jpeg   \n",
            "1     104fe7223f3543ddbbb304faaac44eaf.jpeg   \n",
            "2     12c5a6fe83ed45d388722f623b9dfc7c.jpeg   \n",
            "3     158cb3a73f824c7da590cb5dacbfaa7c.jpeg   \n",
            "4     4105e29b7b9743539045ff4992cb673d.jpeg   \n",
            "...                                     ...   \n",
            "3124                                   4458   \n",
            "3125                                   4459   \n",
            "3126                                   4463   \n",
            "3127                                   4464   \n",
            "3128                                   4465   \n",
            "\n",
            "                                                   Path  GPS_ID    ID  \\\n",
            "0     C:\\Users\\Liam\\Desktop\\Sabie_Croc\\Day_10\\0e9fd6...    3773   2.0   \n",
            "1     C:\\Users\\Liam\\Desktop\\Sabie_Croc\\Day_10\\104fe7...    3656   2.0   \n",
            "2     C:\\Users\\Liam\\Desktop\\Sabie_Croc\\Day_10\\12c5a6...    3670   2.0   \n",
            "3     C:\\Users\\Liam\\Desktop\\Sabie_Croc\\Day_10\\158cb3...    3737   2.0   \n",
            "4     C:\\Users\\Liam\\Desktop\\Sabie_Croc\\Day_10\\4105e2...    3726   2.0   \n",
            "...                                                 ...     ...   ...   \n",
            "3124                                               None       0  10.0   \n",
            "3125                                               None       0  10.0   \n",
            "3126                                               None       0  10.0   \n",
            "3127                                               None       0  10.0   \n",
            "3128                                               None       0  10.0   \n",
            "\n",
            "     LULC_Class DIRECTION  Done  Distance_t  IAP_Age  IAP_Densit  ...  \\\n",
            "0     Alien_Gum        SW     Y         2.0     12.0         100  ...   \n",
            "1     Alien_Gum         N     Y        10.0     16.0         100  ...   \n",
            "2     Alien_Gum        SE     Y        10.0      0.0           0  ...   \n",
            "3     Alien_Gum        NW     Y        30.0     20.0         100  ...   \n",
            "4     Alien_Gum         S     Y        10.0     15.0         100  ...   \n",
            "...         ...       ...   ...         ...      ...         ...  ...   \n",
            "3124  Grassland      None  None         0.0      0.0           0  ...   \n",
            "3125  Grassland      None  None         0.0      0.0           0  ...   \n",
            "3126  Grassland      None  None         0.0      0.0           0  ...   \n",
            "3127  Grassland      None  None         0.0      0.0           0  ...   \n",
            "3128  Grassland      None  None         0.0      0.0           0  ...   \n",
            "\n",
            "     IAP_Dens_1  Notes_1  DateTime_1  Z_1  Val_id_1 coords_x1  coords_x2  \\\n",
            "0          None     None        None  0.0      None       0.0        0.0   \n",
            "1          None     None        None  0.0      None       0.0        0.0   \n",
            "2          None     None        None  0.0      None       0.0        0.0   \n",
            "3          None     None        None  0.0      None       0.0        0.0   \n",
            "4          None     None        None  0.0      None       0.0        0.0   \n",
            "...         ...      ...         ...  ...       ...       ...        ...   \n",
            "3124       None     None        None  0.0      None       0.0        0.0   \n",
            "3125       None     None        None  0.0      None       0.0        0.0   \n",
            "3126       None     None        None  0.0      None       0.0        0.0   \n",
            "3127       None     None        None  0.0      None       0.0        0.0   \n",
            "3128       None     None        None  0.0      None       0.0        0.0   \n",
            "\n",
            "     coords_x3 Validation                                   geometry  \n",
            "0          0.0        0.0   POINT Z (298394.866 7215154.499 962.041)  \n",
            "1          0.0        0.0   POINT Z (294164.876 7228314.577 804.488)  \n",
            "2          0.0        0.0   POINT Z (290375.013 7226715.538 856.426)  \n",
            "3          0.0        0.0  POINT Z (290635.151 7220184.592 1322.480)  \n",
            "4          0.0        0.0  POINT Z (293035.108 7217775.142 1179.720)  \n",
            "...        ...        ...                                        ...  \n",
            "3124       0.0        0.0     POINT Z (327345.037 7228975.135 0.000)  \n",
            "3125       0.0        0.0     POINT Z (328034.923 7228795.141 0.000)  \n",
            "3126       0.0        0.0     POINT Z (343724.656 7227904.884 0.000)  \n",
            "3127       0.0        0.0     POINT Z (343764.774 7227544.906 0.000)  \n",
            "3128       0.0        0.0     POINT Z (353424.868 7234455.210 0.000)  \n",
            "\n",
            "[3129 rows x 36 columns]\n"
          ]
        }
      ]
    },
    {
      "cell_type": "markdown",
      "source": [
        "**Sample regions from the image at training data locations**"
      ],
      "metadata": {
        "id": "RefjwJQjgpfu"
      }
    },
    {
      "cell_type": "code",
      "source": [
        "#select bands\n",
        "bands= ['B2', 'B3', 'B4', 'B5', 'B6', 'B7','B8','B8A', 'B9', 'B11', 'B12','GI', 'IRG', 'NGRDI', 'VARI', 'VDVI', 'WBI',];\n",
        "\n",
        "# Sample regions from the image at training feature locations\n",
        "training_data = image_final.select(bands).sampleRegions(\n",
        "    collection=training_data,\n",
        "    properties=['ID', 'LULC_Class'],\n",
        "    scale=10\n",
        ")"
      ],
      "metadata": {
        "colab": {
          "base_uri": "https://localhost:8080/",
          "height": 1000
        },
        "id": "i8571Vj0_4lQ",
        "outputId": "36b4249a-6837-4904-aabc-e402b127e71e"
      },
      "execution_count": 8,
      "outputs": [
        {
          "output_type": "display_data",
          "data": {
            "text/plain": [
              "<IPython.core.display.HTML object>"
            ],
            "text/html": [
              "\n",
              "            <style>\n",
              "                .geemap-dark {\n",
              "                    --jp-widgets-color: white;\n",
              "                    --jp-widgets-label-color: white;\n",
              "                    --jp-ui-font-color1: white;\n",
              "                    --jp-layout-color2: #454545;\n",
              "                    background-color: #383838;\n",
              "                }\n",
              "                    \n",
              "                .geemap-dark .jupyter-button {\n",
              "                    --jp-layout-color3: #383838;\n",
              "                }\n",
              "                \n",
              "                .geemap-colab {\n",
              "                    background-color: var(--colab-primary-surface-color, white);\n",
              "                }\n",
              "                    \n",
              "                .geemap-colab .jupyter-button {\n",
              "                    --jp-layout-color3: var(--colab-primary-surface-color, white);\n",
              "                }\n",
              "            </style>\n",
              "            "
            ]
          },
          "metadata": {}
        },
        {
          "output_type": "error",
          "ename": "EEException",
          "evalue": "Unrecognized argument type to convert to a FeatureCollection:                                        Name  \\\n0     0e9fd6a4c5704984a97731f76c9fdc86.jpeg   \n1     104fe7223f3543ddbbb304faaac44eaf.jpeg   \n2     12c5a6fe83ed45d388722f623b9dfc7c.jpeg   \n3     158cb3a73f824c7da590cb5dacbfaa7c.jpeg   \n4     4105e29b7b9743539045ff4992cb673d.jpeg   \n...                                     ...   \n3124                                   4458   \n3125                                   4459   \n3126                                   4463   \n3127                                   4464   \n3128                                   4465   \n\n                                                   Path  GPS_ID    ID  \\\n0     C:\\Users\\Liam\\Desktop\\Sabie_Croc\\Day_10\\0e9fd6...    3773   2.0   \n1     C:\\Users\\Liam\\Desktop\\Sabie_Croc\\Day_10\\104fe7...    3656   2.0   \n2     C:\\Users\\Liam\\Desktop\\Sabie_Croc\\Day_10\\12c5a6...    3670   2.0   \n3     C:\\Users\\Liam\\Desktop\\Sabie_Croc\\Day_10\\158cb3...    3737   2.0   \n4     C:\\Users\\Liam\\Desktop\\Sabie_Croc\\Day_10\\4105e2...    3726   2.0   \n...                                                 ...     ...   ...   \n3124                                               None       0  10.0   \n3125                                               None       0  10.0   \n3126                                               None       0  10.0   \n3127                                               None       0  10.0   \n3128                                               None       0  10.0   \n\n     LULC_Class DIRECTION  Done  Distance_t  IAP_Age  IAP_Densit  ...  \\\n0     Alien_Gum        SW     Y         2.0     12.0         100  ...   \n1     Alien_Gum         N     Y        10.0     16.0         100  ...   \n2     Alien_Gum        SE     Y        10.0      0.0           0  ...   \n3     Alien_Gum        NW     Y        30.0     20.0         100  ...   \n4     Alien_Gum         S     Y        10.0     15.0         100  ...   \n...         ...       ...   ...         ...      ...         ...  ...   \n3124  Grassland      None  None         0.0      0.0           0  ...   \n3125  Grassland      None  None         0.0      0.0           0  ...   \n3126  Grassland      None  None         0.0      0.0           0  ...   \n3127  Grassland      None  None         0.0      0.0           0  ...   \n3128  Grassland      None  None         0.0      0.0           0  ...   \n\n     IAP_Dens_1  Notes_1  DateTime_1  Z_1  Val_id_1 coords_x1  coords_x2  \\\n0          None     None        None  0.0      None       0.0        0.0   \n1          None     None        None  0.0      None       0.0        0.0   \n2          None     None        None  0.0      None       0.0        0.0   \n3          None     None        None  0.0      None       0.0        0.0   \n4          None     None        None  0.0      None       0.0        0.0   \n...         ...      ...         ...  ...       ...       ...        ...   \n3124       None     None        None  0.0      None       0.0        0.0   \n3125       None     None        None  0.0      None       0.0        0.0   \n3126       None     None        None  0.0      None       0.0        0.0   \n3127       None     None        None  0.0      None       0.0        0.0   \n3128       None     None        None  0.0      None       0.0        0.0   \n\n     coords_x3 Validation                                   geometry  \n0          0.0        0.0   POINT Z (298394.866 7215154.499 962.041)  \n1          0.0        0.0   POINT Z (294164.876 7228314.577 804.488)  \n2          0.0        0.0   POINT Z (290375.013 7226715.538 856.426)  \n3          0.0        0.0  POINT Z (290635.151 7220184.592 1322.480)  \n4          0.0        0.0  POINT Z (293035.108 7217775.142 1179.720)  \n...        ...        ...                                        ...  \n3124       0.0        0.0     POINT Z (327345.037 7228975.135 0.000)  \n3125       0.0        0.0     POINT Z (328034.923 7228795.141 0.000)  \n3126       0.0        0.0     POINT Z (343724.656 7227904.884 0.000)  \n3127       0.0        0.0     POINT Z (343764.774 7227544.906 0.000)  \n3128       0.0        0.0     POINT Z (353424.868 7234455.210 0.000)  \n\n[3129 rows x 36 columns]",
          "traceback": [
            "\u001b[0;31m---------------------------------------------------------------------------\u001b[0m",
            "\u001b[0;31mEEException\u001b[0m                               Traceback (most recent call last)",
            "\u001b[0;32m<ipython-input-8-9c5522353035>\u001b[0m in \u001b[0;36m<cell line: 5>\u001b[0;34m()\u001b[0m\n\u001b[1;32m      3\u001b[0m \u001b[0;34m\u001b[0m\u001b[0m\n\u001b[1;32m      4\u001b[0m \u001b[0;31m# Sample regions from the image at training feature locations\u001b[0m\u001b[0;34m\u001b[0m\u001b[0;34m\u001b[0m\u001b[0m\n\u001b[0;32m----> 5\u001b[0;31m training_data = image_final.select(bands).sampleRegions(\n\u001b[0m\u001b[1;32m      6\u001b[0m     \u001b[0mcollection\u001b[0m\u001b[0;34m=\u001b[0m\u001b[0mtraining_data\u001b[0m\u001b[0;34m,\u001b[0m\u001b[0;34m\u001b[0m\u001b[0;34m\u001b[0m\u001b[0m\n\u001b[1;32m      7\u001b[0m     \u001b[0mproperties\u001b[0m\u001b[0;34m=\u001b[0m\u001b[0;34m[\u001b[0m\u001b[0;34m'ID'\u001b[0m\u001b[0;34m,\u001b[0m \u001b[0;34m'LULC_Class'\u001b[0m\u001b[0;34m]\u001b[0m\u001b[0;34m,\u001b[0m\u001b[0;34m\u001b[0m\u001b[0;34m\u001b[0m\u001b[0m\n",
            "\u001b[0;32m/usr/local/lib/python3.10/dist-packages/ee/apifunction.py\u001b[0m in \u001b[0;36m<lambda>\u001b[0;34m(*args, **kwargs)\u001b[0m\n\u001b[1;32m    218\u001b[0m           \u001b[0;31m# We need the lambda to capture \"func\" from the enclosing scope.\u001b[0m\u001b[0;34m\u001b[0m\u001b[0;34m\u001b[0m\u001b[0m\n\u001b[1;32m    219\u001b[0m           \u001b[0;31m# pylint: disable-next=unnecessary-lambda\u001b[0m\u001b[0;34m\u001b[0m\u001b[0;34m\u001b[0m\u001b[0m\n\u001b[0;32m--> 220\u001b[0;31m           \u001b[0;32mreturn\u001b[0m \u001b[0;32mlambda\u001b[0m \u001b[0;34m*\u001b[0m\u001b[0margs\u001b[0m\u001b[0;34m,\u001b[0m \u001b[0;34m**\u001b[0m\u001b[0mkwargs\u001b[0m\u001b[0;34m:\u001b[0m \u001b[0mfunc\u001b[0m\u001b[0;34m.\u001b[0m\u001b[0mcall\u001b[0m\u001b[0;34m(\u001b[0m\u001b[0;34m*\u001b[0m\u001b[0margs\u001b[0m\u001b[0;34m,\u001b[0m \u001b[0;34m**\u001b[0m\u001b[0mkwargs\u001b[0m\u001b[0;34m)\u001b[0m\u001b[0;34m\u001b[0m\u001b[0;34m\u001b[0m\u001b[0m\n\u001b[0m\u001b[1;32m    221\u001b[0m         \u001b[0mbound_function\u001b[0m \u001b[0;34m=\u001b[0m \u001b[0mMakeBoundFunction\u001b[0m\u001b[0;34m(\u001b[0m\u001b[0mapi_func\u001b[0m\u001b[0;34m)\u001b[0m\u001b[0;34m\u001b[0m\u001b[0;34m\u001b[0m\u001b[0m\n\u001b[1;32m    222\u001b[0m \u001b[0;34m\u001b[0m\u001b[0m\n",
            "\u001b[0;32m/usr/local/lib/python3.10/dist-packages/ee/function.py\u001b[0m in \u001b[0;36mcall\u001b[0;34m(self, *args, **kwargs)\u001b[0m\n\u001b[1;32m     60\u001b[0m       \u001b[0mto\u001b[0m \u001b[0mthat\u001b[0m \u001b[0mtype\u001b[0m\u001b[0;34m.\u001b[0m\u001b[0;34m\u001b[0m\u001b[0;34m\u001b[0m\u001b[0m\n\u001b[1;32m     61\u001b[0m     \"\"\"\n\u001b[0;32m---> 62\u001b[0;31m     \u001b[0;32mreturn\u001b[0m \u001b[0mself\u001b[0m\u001b[0;34m.\u001b[0m\u001b[0mapply\u001b[0m\u001b[0;34m(\u001b[0m\u001b[0mself\u001b[0m\u001b[0;34m.\u001b[0m\u001b[0mnameArgs\u001b[0m\u001b[0;34m(\u001b[0m\u001b[0margs\u001b[0m\u001b[0;34m,\u001b[0m \u001b[0mkwargs\u001b[0m\u001b[0;34m)\u001b[0m\u001b[0;34m)\u001b[0m\u001b[0;34m\u001b[0m\u001b[0;34m\u001b[0m\u001b[0m\n\u001b[0m\u001b[1;32m     63\u001b[0m \u001b[0;34m\u001b[0m\u001b[0m\n\u001b[1;32m     64\u001b[0m   \u001b[0;32mdef\u001b[0m \u001b[0mapply\u001b[0m\u001b[0;34m(\u001b[0m\u001b[0mself\u001b[0m\u001b[0;34m,\u001b[0m \u001b[0mnamed_args\u001b[0m\u001b[0;34m)\u001b[0m\u001b[0;34m:\u001b[0m\u001b[0;34m\u001b[0m\u001b[0;34m\u001b[0m\u001b[0m\n",
            "\u001b[0;32m/usr/local/lib/python3.10/dist-packages/ee/function.py\u001b[0m in \u001b[0;36mapply\u001b[0;34m(self, named_args)\u001b[0m\n\u001b[1;32m     73\u001b[0m       \u001b[0mto\u001b[0m \u001b[0mthat\u001b[0m \u001b[0mtype\u001b[0m\u001b[0;34m.\u001b[0m\u001b[0;34m\u001b[0m\u001b[0;34m\u001b[0m\u001b[0m\n\u001b[1;32m     74\u001b[0m     \"\"\"\n\u001b[0;32m---> 75\u001b[0;31m     \u001b[0mresult\u001b[0m \u001b[0;34m=\u001b[0m \u001b[0mcomputedobject\u001b[0m\u001b[0;34m.\u001b[0m\u001b[0mComputedObject\u001b[0m\u001b[0;34m(\u001b[0m\u001b[0mself\u001b[0m\u001b[0;34m,\u001b[0m \u001b[0mself\u001b[0m\u001b[0;34m.\u001b[0m\u001b[0mpromoteArgs\u001b[0m\u001b[0;34m(\u001b[0m\u001b[0mnamed_args\u001b[0m\u001b[0;34m)\u001b[0m\u001b[0;34m)\u001b[0m\u001b[0;34m\u001b[0m\u001b[0;34m\u001b[0m\u001b[0m\n\u001b[0m\u001b[1;32m     76\u001b[0m     \u001b[0;32mreturn\u001b[0m \u001b[0mFunction\u001b[0m\u001b[0;34m.\u001b[0m\u001b[0m_promoter\u001b[0m\u001b[0;34m(\u001b[0m\u001b[0mresult\u001b[0m\u001b[0;34m,\u001b[0m \u001b[0mself\u001b[0m\u001b[0;34m.\u001b[0m\u001b[0mgetReturnType\u001b[0m\u001b[0;34m(\u001b[0m\u001b[0;34m)\u001b[0m\u001b[0;34m)\u001b[0m\u001b[0;34m\u001b[0m\u001b[0;34m\u001b[0m\u001b[0m\n\u001b[1;32m     77\u001b[0m \u001b[0;34m\u001b[0m\u001b[0m\n",
            "\u001b[0;32m/usr/local/lib/python3.10/dist-packages/ee/function.py\u001b[0m in \u001b[0;36mpromoteArgs\u001b[0;34m(self, args)\u001b[0m\n\u001b[1;32m    101\u001b[0m       \u001b[0mname\u001b[0m \u001b[0;34m=\u001b[0m \u001b[0marg_spec\u001b[0m\u001b[0;34m[\u001b[0m\u001b[0;34m'name'\u001b[0m\u001b[0;34m]\u001b[0m\u001b[0;34m\u001b[0m\u001b[0;34m\u001b[0m\u001b[0m\n\u001b[1;32m    102\u001b[0m       \u001b[0;32mif\u001b[0m \u001b[0mname\u001b[0m \u001b[0;32min\u001b[0m \u001b[0margs\u001b[0m\u001b[0;34m:\u001b[0m\u001b[0;34m\u001b[0m\u001b[0;34m\u001b[0m\u001b[0m\n\u001b[0;32m--> 103\u001b[0;31m         \u001b[0mpromoted_args\u001b[0m\u001b[0;34m[\u001b[0m\u001b[0mname\u001b[0m\u001b[0;34m]\u001b[0m \u001b[0;34m=\u001b[0m \u001b[0mFunction\u001b[0m\u001b[0;34m.\u001b[0m\u001b[0m_promoter\u001b[0m\u001b[0;34m(\u001b[0m\u001b[0margs\u001b[0m\u001b[0;34m[\u001b[0m\u001b[0mname\u001b[0m\u001b[0;34m]\u001b[0m\u001b[0;34m,\u001b[0m \u001b[0marg_spec\u001b[0m\u001b[0;34m[\u001b[0m\u001b[0;34m'type'\u001b[0m\u001b[0;34m]\u001b[0m\u001b[0;34m)\u001b[0m\u001b[0;34m\u001b[0m\u001b[0;34m\u001b[0m\u001b[0m\n\u001b[0m\u001b[1;32m    104\u001b[0m       \u001b[0;32melif\u001b[0m \u001b[0;32mnot\u001b[0m \u001b[0marg_spec\u001b[0m\u001b[0;34m.\u001b[0m\u001b[0mget\u001b[0m\u001b[0;34m(\u001b[0m\u001b[0;34m'optional'\u001b[0m\u001b[0;34m)\u001b[0m\u001b[0;34m:\u001b[0m\u001b[0;34m\u001b[0m\u001b[0;34m\u001b[0m\u001b[0m\n\u001b[1;32m    105\u001b[0m         raise ee_exception.EEException(\n",
            "\u001b[0;32m/usr/local/lib/python3.10/dist-packages/ee/__init__.py\u001b[0m in \u001b[0;36m_Promote\u001b[0;34m(arg, a_class)\u001b[0m\n\u001b[1;32m    305\u001b[0m       \u001b[0;32mreturn\u001b[0m \u001b[0marg\u001b[0m\u001b[0;34m\u001b[0m\u001b[0;34m\u001b[0m\u001b[0m\n\u001b[1;32m    306\u001b[0m     \u001b[0;32melse\u001b[0m\u001b[0;34m:\u001b[0m\u001b[0;34m\u001b[0m\u001b[0;34m\u001b[0m\u001b[0m\n\u001b[0;32m--> 307\u001b[0;31m       \u001b[0;32mreturn\u001b[0m \u001b[0mFeatureCollection\u001b[0m\u001b[0;34m(\u001b[0m\u001b[0marg\u001b[0m\u001b[0;34m)\u001b[0m\u001b[0;34m\u001b[0m\u001b[0;34m\u001b[0m\u001b[0m\n\u001b[0m\u001b[1;32m    308\u001b[0m   \u001b[0;32melif\u001b[0m \u001b[0ma_class\u001b[0m \u001b[0;34m==\u001b[0m \u001b[0;34m'ImageCollection'\u001b[0m\u001b[0;34m:\u001b[0m\u001b[0;34m\u001b[0m\u001b[0;34m\u001b[0m\u001b[0m\n\u001b[1;32m    309\u001b[0m     \u001b[0;32mreturn\u001b[0m \u001b[0mImageCollection\u001b[0m\u001b[0;34m(\u001b[0m\u001b[0marg\u001b[0m\u001b[0;34m)\u001b[0m\u001b[0;34m\u001b[0m\u001b[0;34m\u001b[0m\u001b[0m\n",
            "\u001b[0;32m/usr/local/lib/python3.10/dist-packages/ee/computedobject.py\u001b[0m in \u001b[0;36m__call__\u001b[0;34m(cls, *args, **kwargs)\u001b[0m\n\u001b[1;32m     26\u001b[0m       \u001b[0;32mreturn\u001b[0m \u001b[0margs\u001b[0m\u001b[0;34m[\u001b[0m\u001b[0;36m0\u001b[0m\u001b[0;34m]\u001b[0m\u001b[0;34m\u001b[0m\u001b[0;34m\u001b[0m\u001b[0m\n\u001b[1;32m     27\u001b[0m     \u001b[0;32melse\u001b[0m\u001b[0;34m:\u001b[0m\u001b[0;34m\u001b[0m\u001b[0;34m\u001b[0m\u001b[0m\n\u001b[0;32m---> 28\u001b[0;31m       \u001b[0;32mreturn\u001b[0m \u001b[0mtype\u001b[0m\u001b[0;34m.\u001b[0m\u001b[0m__call__\u001b[0m\u001b[0;34m(\u001b[0m\u001b[0mcls\u001b[0m\u001b[0;34m,\u001b[0m \u001b[0;34m*\u001b[0m\u001b[0margs\u001b[0m\u001b[0;34m,\u001b[0m \u001b[0;34m**\u001b[0m\u001b[0mkwargs\u001b[0m\u001b[0;34m)\u001b[0m\u001b[0;34m\u001b[0m\u001b[0;34m\u001b[0m\u001b[0m\n\u001b[0m\u001b[1;32m     29\u001b[0m \u001b[0;34m\u001b[0m\u001b[0m\n\u001b[1;32m     30\u001b[0m \u001b[0;34m\u001b[0m\u001b[0m\n",
            "\u001b[0;32m/usr/local/lib/python3.10/dist-packages/ee/_utils.py\u001b[0m in \u001b[0;36mwrapper\u001b[0;34m(*args, **kwargs)\u001b[0m\n\u001b[1;32m     36\u001b[0m           \u001b[0;32mif\u001b[0m \u001b[0mnew_key\u001b[0m \u001b[0;32mnot\u001b[0m \u001b[0;32min\u001b[0m \u001b[0mkwargs\u001b[0m\u001b[0;34m:\u001b[0m\u001b[0;34m\u001b[0m\u001b[0;34m\u001b[0m\u001b[0m\n\u001b[1;32m     37\u001b[0m             \u001b[0mkwargs\u001b[0m\u001b[0;34m[\u001b[0m\u001b[0mnew_key\u001b[0m\u001b[0;34m]\u001b[0m \u001b[0;34m=\u001b[0m \u001b[0mold_key_val\u001b[0m\u001b[0;34m\u001b[0m\u001b[0;34m\u001b[0m\u001b[0m\n\u001b[0;32m---> 38\u001b[0;31m       \u001b[0;32mreturn\u001b[0m \u001b[0mfunc\u001b[0m\u001b[0;34m(\u001b[0m\u001b[0;34m*\u001b[0m\u001b[0margs\u001b[0m\u001b[0;34m,\u001b[0m \u001b[0;34m**\u001b[0m\u001b[0mkwargs\u001b[0m\u001b[0;34m)\u001b[0m\u001b[0;34m\u001b[0m\u001b[0;34m\u001b[0m\u001b[0m\n\u001b[0m\u001b[1;32m     39\u001b[0m \u001b[0;34m\u001b[0m\u001b[0m\n\u001b[1;32m     40\u001b[0m     \u001b[0;32mreturn\u001b[0m \u001b[0mwrapper\u001b[0m\u001b[0;34m\u001b[0m\u001b[0;34m\u001b[0m\u001b[0m\n",
            "\u001b[0;32m/usr/local/lib/python3.10/dist-packages/ee/featurecollection.py\u001b[0m in \u001b[0;36m__init__\u001b[0;34m(self, args, column)\u001b[0m\n\u001b[1;32m     95\u001b[0m       \u001b[0msuper\u001b[0m\u001b[0;34m(\u001b[0m\u001b[0;34m)\u001b[0m\u001b[0;34m.\u001b[0m\u001b[0m__init__\u001b[0m\u001b[0;34m(\u001b[0m\u001b[0margs\u001b[0m\u001b[0;34m.\u001b[0m\u001b[0mfunc\u001b[0m\u001b[0;34m,\u001b[0m \u001b[0margs\u001b[0m\u001b[0;34m.\u001b[0m\u001b[0margs\u001b[0m\u001b[0;34m,\u001b[0m \u001b[0margs\u001b[0m\u001b[0;34m.\u001b[0m\u001b[0mvarName\u001b[0m\u001b[0;34m)\u001b[0m\u001b[0;34m\u001b[0m\u001b[0;34m\u001b[0m\u001b[0m\n\u001b[1;32m     96\u001b[0m     \u001b[0;32melse\u001b[0m\u001b[0;34m:\u001b[0m\u001b[0;34m\u001b[0m\u001b[0;34m\u001b[0m\u001b[0m\n\u001b[0;32m---> 97\u001b[0;31m       raise ee_exception.EEException(\n\u001b[0m\u001b[1;32m     98\u001b[0m           \u001b[0;34m'Unrecognized argument type to convert to a FeatureCollection: %s'\u001b[0m \u001b[0;34m%\u001b[0m\u001b[0;34m\u001b[0m\u001b[0;34m\u001b[0m\u001b[0m\n\u001b[1;32m     99\u001b[0m           args)\n",
            "\u001b[0;31mEEException\u001b[0m: Unrecognized argument type to convert to a FeatureCollection:                                        Name  \\\n0     0e9fd6a4c5704984a97731f76c9fdc86.jpeg   \n1     104fe7223f3543ddbbb304faaac44eaf.jpeg   \n2     12c5a6fe83ed45d388722f623b9dfc7c.jpeg   \n3     158cb3a73f824c7da590cb5dacbfaa7c.jpeg   \n4     4105e29b7b9743539045ff4992cb673d.jpeg   \n...                                     ...   \n3124                                   4458   \n3125                                   4459   \n3126                                   4463   \n3127                                   4464   \n3128                                   4465   \n\n                                                   Path  GPS_ID    ID  \\\n0     C:\\Users\\Liam\\Desktop\\Sabie_Croc\\Day_10\\0e9fd6...    3773   2.0   \n1     C:\\Users\\Liam\\Desktop\\Sabie_Croc\\Day_10\\104fe7...    3656   2.0   \n2     C:\\Users\\Liam\\Desktop\\Sabie_Croc\\Day_10\\12c5a6...    3670   2.0   \n3     C:\\Users\\Liam\\Desktop\\Sabie_Croc\\Day_10\\158cb3...    3737   2.0   \n4     C:\\Users\\Liam\\Desktop\\Sabie_Croc\\Day_10\\4105e2...    3726   2.0   \n...                                                 ...     ...   ...   \n3124                                               None       0  10.0   \n3125                                               None       0  10.0   \n3126                                               None       0  10.0   \n3127                                               None       0  10.0   \n3128                                               None       0  10.0   \n\n     LULC_Class DIRECTION  Done  Distance_t  IAP_Age  IAP_Densit  ...  \\\n0     Alien_Gum        SW     Y         2.0     12.0         100  ...   \n1     Alien_Gum         N     Y        10.0     16.0         100  ...   \n2     Alien_Gum        SE     Y        10.0      0.0           0  ...   \n3     Alien_Gum        NW     Y        30.0     20.0         100  ...   \n4     Alien_Gum         S     Y        10.0     15.0         100  ...   \n...         ...       ...   ...         ...      ...         ...  ...   \n3124  Grassland      None  None         0.0      0.0           0  ...   \n3125  Grassland      None  None         0.0      0.0           0  ...   \n3126  Grassland      None  None         0.0      0.0           0  ...   \n3127  Grassland      None  None         0.0      0.0           0  ...   \n3128  Grassland      None  None         0.0      0.0           0  ...   \n\n     IAP_Dens_1  Notes_1  DateTime_1  Z_1  Val_id_1 coords_x1  coords_x2  \\\n0          None     None        None  0.0      None       0.0        0.0   \n1          None     None        None  0.0      None       0.0        0.0   \n2          None     None        None  0.0      None       0.0        0.0   \n3          None     None        None  0.0      None       0.0        0.0   \n4          None     None        None  0.0      None       0.0        0.0   \n...         ...      ...         ...  ...       ...       ...        ...   \n3124       None     None        None  0.0      None       0.0        0.0   \n3125       None     None        None  0.0      None       0.0        0.0   \n3126       None     None        None  0.0      None       0.0        0.0   \n3127       None     None        None  0.0      None       0.0        0.0   \n3128       None     None        None  0.0      None       0.0        0.0   \n\n     coords_x3 Validation                                   geometry  \n0          0.0        0.0   POINT Z (298394.866 7215154.499 962.041)  \n1          0.0        0.0   POINT Z (294164.876 7228314.577 804.488)  \n2          0.0        0.0   POINT Z (290375.013 7226715.538 856.426)  \n3          0.0        0.0  POINT Z (290635.151 7220184.592 1322.480)  \n4          0.0        0.0  POINT Z (293035.108 7217775.142 1179.720)  \n...        ...        ...                                        ...  \n3124       0.0        0.0     POINT Z (327345.037 7228975.135 0.000)  \n3125       0.0        0.0     POINT Z (328034.923 7228795.141 0.000)  \n3126       0.0        0.0     POINT Z (343724.656 7227904.884 0.000)  \n3127       0.0        0.0     POINT Z (343764.774 7227544.906 0.000)  \n3128       0.0        0.0     POINT Z (353424.868 7234455.210 0.000)  \n\n[3129 rows x 36 columns]"
          ]
        }
      ]
    },
    {
      "cell_type": "markdown",
      "metadata": {
        "id": "pg9JEdLaWDAg"
      },
      "source": [
        "**Run the classification using random forest**"
      ]
    },
    {
      "cell_type": "code",
      "execution_count": null,
      "metadata": {
        "id": "mcFyxVKHjCTm"
      },
      "outputs": [],
      "source": [
        "#Classification\n",
        "classifier = ee.Classifier.smileRandomForest(100).train(\n",
        "    features=training_data,\n",
        "    classProperty='ID',\n",
        "    inputProperties=bands\n",
        ")\n",
        "classified = image_final.select(bands).classify(classifier)"
      ]
    },
    {
      "cell_type": "markdown",
      "metadata": {
        "id": "OnCOaAGEjFJ6"
      },
      "source": [
        "**Defining a colour palette for the classified map and viweing the map**"
      ]
    },
    {
      "cell_type": "code",
      "execution_count": null,
      "metadata": {
        "id": "yxYPV1JzjxQR"
      },
      "outputs": [],
      "source": [
        "# Define the palette\n",
        "SabieCrocPalette = [\n",
        "    '351C75', 'F91DF9', '980A7D', '741b47', 'fd0618', 'E06666', 'ffcc99', 'ffffff', '999999', 'a8a800',\n",
        "    '6aa84f', '14870e', 'DB992D', 'ff7f00', '000000', '0a14f9', '08f3e4'\n",
        "]\n",
        "\n",
        "# Visualization parameters\n",
        "viz = {\n",
        "    'min': 1,\n",
        "    'max': 17,\n",
        "    'palette': SabieCrocPalette\n",
        "}\n",
        "\n",
        "# Create a Map object using geemap\n",
        "m = geemap.Map(center=[20, 0], zoom=3)\n",
        "\n",
        "# Add the classified image to the map\n",
        "m.addLayer(classified, viz, 'Classification')\n",
        "m.centerObject(classified, zoom=10)\n",
        "\n",
        "# Display the legend\n",
        "m.add_legend(title='Classification', colors=SabieCrocPalette, labels=[str(i) for i in range(1, 18)])\n",
        "\n",
        "# Display the map\n",
        "m\n",
        "\n",
        "\n"
      ]
    }
  ],
  "metadata": {
    "colab": {
      "provenance": [],
      "authorship_tag": "ABX9TyNI24U41InwQLVGf7ih7R9d",
      "include_colab_link": true
    },
    "kernelspec": {
      "display_name": "Python 3",
      "name": "python3"
    },
    "language_info": {
      "name": "python"
    }
  },
  "nbformat": 4,
  "nbformat_minor": 0
}