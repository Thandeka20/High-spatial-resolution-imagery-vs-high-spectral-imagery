{
  "nbformat": 4,
  "nbformat_minor": 0,
  "metadata": {
    "colab": {
      "provenance": [],
      "authorship_tag": "ABX9TyPBm6C+CBTV+LK8Nyli2Ox/",
      "include_colab_link": true
    },
    "kernelspec": {
      "name": "python3",
      "display_name": "Python 3"
    },
    "language_info": {
      "name": "python"
    }
  },
  "cells": [
    {
      "cell_type": "markdown",
      "metadata": {
        "id": "view-in-github",
        "colab_type": "text"
      },
      "source": [
        "<a href=\"https://colab.research.google.com/github/Thandeka20/High-spatial-resolution-imagery-vs-high-spectral-imagery/blob/main/Code/SPOT_7.ipynb\" target=\"_parent\"><img src=\"https://colab.research.google.com/assets/colab-badge.svg\" alt=\"Open In Colab\"/></a>"
      ]
    },
    {
      "cell_type": "code",
      "execution_count": 1,
      "metadata": {
        "colab": {
          "base_uri": "https://localhost:8080/",
          "height": 327
        },
        "id": "CB3c_00ysyzX",
        "outputId": "e803b56e-c8c6-4f27-bd41-64bd94129fc5"
      },
      "outputs": [
        {
          "output_type": "stream",
          "name": "stdout",
          "text": [
            "Collecting rasterio\n",
            "  Downloading rasterio-1.3.9-cp310-cp310-manylinux2014_x86_64.whl (20.6 MB)\n",
            "\u001b[2K     \u001b[90m━━━━━━━━━━━━━━━━━━━━━━━━━━━━━━━━━━━━━━━━\u001b[0m \u001b[32m20.6/20.6 MB\u001b[0m \u001b[31m31.1 MB/s\u001b[0m eta \u001b[36m0:00:00\u001b[0m\n",
            "\u001b[?25hCollecting affine (from rasterio)\n",
            "  Downloading affine-2.4.0-py3-none-any.whl (15 kB)\n",
            "Requirement already satisfied: attrs in /usr/local/lib/python3.10/dist-packages (from rasterio) (23.2.0)\n",
            "Requirement already satisfied: certifi in /usr/local/lib/python3.10/dist-packages (from rasterio) (2023.11.17)\n",
            "Requirement already satisfied: click>=4.0 in /usr/local/lib/python3.10/dist-packages (from rasterio) (8.1.7)\n",
            "Requirement already satisfied: cligj>=0.5 in /usr/local/lib/python3.10/dist-packages (from rasterio) (0.7.2)\n",
            "Requirement already satisfied: numpy in /usr/local/lib/python3.10/dist-packages (from rasterio) (1.23.5)\n",
            "Collecting snuggs>=1.4.1 (from rasterio)\n",
            "  Downloading snuggs-1.4.7-py3-none-any.whl (5.4 kB)\n",
            "Requirement already satisfied: click-plugins in /usr/local/lib/python3.10/dist-packages (from rasterio) (1.1.1)\n",
            "Requirement already satisfied: setuptools in /usr/local/lib/python3.10/dist-packages (from rasterio) (67.7.2)\n",
            "Requirement already satisfied: pyparsing>=2.1.6 in /usr/local/lib/python3.10/dist-packages (from snuggs>=1.4.1->rasterio) (3.1.1)\n",
            "Installing collected packages: snuggs, affine, rasterio\n",
            "Successfully installed affine-2.4.0 rasterio-1.3.9 snuggs-1.4.7\n"
          ]
        }
      ],
      "source": [
        "#import modules\n",
        "!pip install rasterio\n",
        "import rasterio\n",
        "import ee\n",
        "import folium\n",
        "import numpy as np\n",
        "import pandas as pd\n",
        "import geopandas as gpd\n",
        "import geemap\n",
        "import re\n",
        "import os\n",
        "from IPython.display import Image, display\n",
        "from google.colab import drive"
      ]
    },
    {
      "cell_type": "code",
      "execution_count": 4,
      "metadata": {
        "colab": {
          "base_uri": "https://localhost:8080/",
          "height": 17
        },
        "id": "NMp9Ei9b0XXL",
        "outputId": "1e11021a-fd0f-49a9-cb59-16fd13643280"
      },
      "outputs": [
        {
          "output_type": "display_data",
          "data": {
            "text/plain": [
              "<IPython.core.display.HTML object>"
            ],
            "text/html": [
              "\n",
              "            <style>\n",
              "                .geemap-dark {\n",
              "                    --jp-widgets-color: white;\n",
              "                    --jp-widgets-label-color: white;\n",
              "                    --jp-ui-font-color1: white;\n",
              "                    --jp-layout-color2: #454545;\n",
              "                    background-color: #383838;\n",
              "                }\n",
              "                    \n",
              "                .geemap-dark .jupyter-button {\n",
              "                    --jp-layout-color3: #383838;\n",
              "                }\n",
              "                \n",
              "                .geemap-colab {\n",
              "                    background-color: var(--colab-primary-surface-color, white);\n",
              "                }\n",
              "                    \n",
              "                .geemap-colab .jupyter-button {\n",
              "                    --jp-layout-color3: var(--colab-primary-surface-color, white);\n",
              "                }\n",
              "            </style>\n",
              "            "
            ]
          },
          "metadata": {}
        }
      ],
      "source": [
        "# Trigger the authentication flow.\n",
        "ee.Authenticate()\n",
        "\n",
        "# Initialize the library.\n",
        "ee.Initialize(project='thandeka-skosana')"
      ]
    },
    {
      "cell_type": "code",
      "execution_count": 5,
      "metadata": {
        "colab": {
          "base_uri": "https://localhost:8080/",
          "height": 17
        },
        "id": "_S9T9MPoO4iO",
        "outputId": "604a2fd9-bc53-427a-a41b-1ff08e0c29fb"
      },
      "outputs": [
        {
          "output_type": "display_data",
          "data": {
            "text/plain": [
              "<IPython.core.display.HTML object>"
            ],
            "text/html": [
              "\n",
              "            <style>\n",
              "                .geemap-dark {\n",
              "                    --jp-widgets-color: white;\n",
              "                    --jp-widgets-label-color: white;\n",
              "                    --jp-ui-font-color1: white;\n",
              "                    --jp-layout-color2: #454545;\n",
              "                    background-color: #383838;\n",
              "                }\n",
              "                    \n",
              "                .geemap-dark .jupyter-button {\n",
              "                    --jp-layout-color3: #383838;\n",
              "                }\n",
              "                \n",
              "                .geemap-colab {\n",
              "                    background-color: var(--colab-primary-surface-color, white);\n",
              "                }\n",
              "                    \n",
              "                .geemap-colab .jupyter-button {\n",
              "                    --jp-layout-color3: var(--colab-primary-surface-color, white);\n",
              "                }\n",
              "            </style>\n",
              "            "
            ]
          },
          "metadata": {}
        }
      ],
      "source": [
        "\n",
        "\n",
        "def save_df_to_drive(df, file_path_in_drive):\n",
        "    \"\"\"\n",
        "    Function that saves a Pandas DataFrame as a csv file to a Google Drive folder specified by a Google Drive file path\n",
        "\n",
        "    parameters:\n",
        "      df (pd.DataFrame): The Pandas DataFrame needing to be saved\n",
        "      file_path_in_drive (str): Google Drive folder file path that will store the CSV file\n",
        "    \"\"\"\n",
        "    try:\n",
        "        # Ensure the destination directory exists\n",
        "        drive.mount('/content/drive')  # Mount Google Drive to access files\n",
        "\n",
        "        # Get the absolute path in Google Drive\n",
        "        absolute_path_in_drive = os.path.join('/content/drive/My Drive', file_path_in_drive)\n",
        "\n",
        "        # Ensure the destination directory exists in Google Drive\n",
        "        os.makedirs(os.path.dirname(absolute_path_in_drive), exist_ok=True)\n",
        "\n",
        "        # Save the DataFrame to the specified file path in Google Drive\n",
        "        df.to_csv(absolute_path_in_drive, index=False)\n",
        "\n",
        "        print(f\"DataFrame saved to Google Drive at '{absolute_path_in_drive}'\")\n",
        "\n",
        "    except Exception as e:\n",
        "        print(\"An error occurred:\", str(e))\n",
        "\n",
        "# Example usage:\n",
        "# Assuming your file_path_in_drive is 'YourFolder/YourFile.csv'\n",
        "# Make sure to change it according to your actual folder structure\n",
        "#save_df_to_drive(your_dataframe, 'YourFolder/YourFile.csv')\n"
      ]
    },
    {
      "cell_type": "markdown",
      "source": [
        "Get SPOT-7 Image from GEE"
      ],
      "metadata": {
        "id": "hJ9NeqAh4K2K"
      }
    },
    {
      "cell_type": "code",
      "source": [
        "# Define the image\n",
        "#image = ee.Image('projects/mapwaps-sabiecroc/assets/SPOT7')"
      ],
      "metadata": {
        "id": "6fZQbLUl2F8F",
        "colab": {
          "base_uri": "https://localhost:8080/",
          "height": 17
        },
        "outputId": "85644a77-2dc7-422d-8870-0a22abada2d3"
      },
      "execution_count": null,
      "outputs": [
        {
          "output_type": "display_data",
          "data": {
            "text/plain": [
              "<IPython.core.display.HTML object>"
            ],
            "text/html": [
              "\n",
              "            <style>\n",
              "                .geemap-dark {\n",
              "                    --jp-widgets-color: white;\n",
              "                    --jp-widgets-label-color: white;\n",
              "                    --jp-ui-font-color1: white;\n",
              "                    --jp-layout-color2: #454545;\n",
              "                    background-color: #383838;\n",
              "                }\n",
              "                    \n",
              "                .geemap-dark .jupyter-button {\n",
              "                    --jp-layout-color3: #383838;\n",
              "                }\n",
              "                \n",
              "                .geemap-colab {\n",
              "                    background-color: var(--colab-primary-surface-color, white);\n",
              "                }\n",
              "                    \n",
              "                .geemap-colab .jupyter-button {\n",
              "                    --jp-layout-color3: var(--colab-primary-surface-color, white);\n",
              "                }\n",
              "            </style>\n",
              "            "
            ]
          },
          "metadata": {}
        }
      ]
    },
    {
      "cell_type": "code",
      "execution_count": 6,
      "metadata": {
        "colab": {
          "base_uri": "https://localhost:8080/",
          "height": 521
        },
        "id": "_O0uI5FZD_uZ",
        "outputId": "c3e34af7-fdf2-4ea5-b271-0778ae383857"
      },
      "outputs": [
        {
          "output_type": "display_data",
          "data": {
            "text/plain": [
              "<IPython.core.display.HTML object>"
            ],
            "text/html": [
              "\n",
              "            <style>\n",
              "                .geemap-dark {\n",
              "                    --jp-widgets-color: white;\n",
              "                    --jp-widgets-label-color: white;\n",
              "                    --jp-ui-font-color1: white;\n",
              "                    --jp-layout-color2: #454545;\n",
              "                    background-color: #383838;\n",
              "                }\n",
              "                    \n",
              "                .geemap-dark .jupyter-button {\n",
              "                    --jp-layout-color3: #383838;\n",
              "                }\n",
              "                \n",
              "                .geemap-colab {\n",
              "                    background-color: var(--colab-primary-surface-color, white);\n",
              "                }\n",
              "                    \n",
              "                .geemap-colab .jupyter-button {\n",
              "                    --jp-layout-color3: var(--colab-primary-surface-color, white);\n",
              "                }\n",
              "            </style>\n",
              "            "
            ]
          },
          "metadata": {}
        },
        {
          "output_type": "display_data",
          "data": {
            "text/html": [
              "<img src=\"https://earthengine.googleapis.com/v1/projects/thandeka-skosana/thumbnails/c3ad87f921636f8f0a991a7b15331d48-699d135026ef7a63adb310949880f164:getPixels\"/>"
            ],
            "text/plain": [
              "<IPython.core.display.Image object>"
            ]
          },
          "metadata": {}
        }
      ],
      "source": [
        "#visualize the SPOT-7 scene\n",
        "# Define the bands to use for visualization\n",
        "bands = ee.List([\"B4\", \"B3\", \"B2\"])\n",
        "\n",
        "# Define visualization parameters\n",
        "vis_params = {\n",
        "    'bands': ['b1', 'b2', 'b3'],\n",
        "    'min': 0,\n",
        "    'max': 3200,\n",
        "}\n",
        "\n",
        "# Example: Display an image using the defined visualization parameters\n",
        "image = ee.Image('projects/mapwaps-sabiecroc/assets/SPOT7')\n",
        "display_image = Image(url=image.visualize(**vis_params).getThumbURL({'dimensions': '500x500'}))\n",
        "display(display_image)"
      ]
    },
    {
      "cell_type": "markdown",
      "source": [
        "Extracting SPOT 7 bands"
      ],
      "metadata": {
        "id": "uo0yh6UK4Rm5"
      }
    },
    {
      "cell_type": "code",
      "source": [
        "\n",
        "def get_SPOT_7_bands(image_id, latitude, longitude):\n",
        "    \"\"\"\n",
        "    Function that extracts the spectral bands from a SPOT 7 satellite image of a specified location.\n",
        "\n",
        "    Parameters:\n",
        "        image_id (str): Unique SPOT 7 image ID.\n",
        "        latitude (float): Latitude coordinate of the desired location.\n",
        "        longitude (float): Longitude coordinate of the desired location.\n",
        "\n",
        "    Returns:\n",
        "        band_dict (dict): Dictionary of multispectral band values for a specified location with labels b1-b4.\n",
        "    \"\"\"\n",
        "    try:\n",
        "        # Load the SPOT 7 image by its ID\n",
        "        spot7_image = ee.Image(image_id)\n",
        "\n",
        "        # Define a point geometry for the specified latitude and longitude\n",
        "        point_geometry = ee.Geometry.Point([longitude, latitude])\n",
        "\n",
        "        # Use the .sample() method to extract pixel values at the specified geometry\n",
        "        # This will create a feature collection containing the pixel values\n",
        "        pixel_values = spot7_image.sample(point_geometry, 6)  # Adjust scale as needed\n",
        "\n",
        "        # Extract band values from the feature collection and add them to the dictionary\n",
        "        band_dict = {}\n",
        "        band_names = spot7_image.bandNames().getInfo()\n",
        "\n",
        "        for band_name in band_names:\n",
        "            band_value = pixel_values.first().get(band_name)\n",
        "            band_dict[band_name] = ee.Number(band_value).getInfo()\n",
        "\n",
        "        return band_dict\n",
        "\n",
        "    except ee.EEException as e:\n",
        "        return {\"error\": \"An Earth Engine exception occurred: \" + str(e)}\n",
        "    except Exception as e:\n",
        "        return {\"error\": \"An unexpected error occurred: \" + str(e)}\n",
        "\n",
        "# -----------------------------------------------------------------------------------------------------------------\n",
        "# Example usage:\n",
        "spot7_image_id = 'projects/mapwaps-sabiecroc/assets/SPOT7'\n",
        "latitude = -25.12\n",
        "longitude = 30.88\n",
        "\n",
        "band_data = get_SPOT_7_bands(spot7_image_id, latitude, longitude)\n",
        "print(band_data)\n"
      ],
      "metadata": {
        "colab": {
          "base_uri": "https://localhost:8080/",
          "height": 35
        },
        "id": "UGS4O9eEKb5W",
        "outputId": "cb5cae0c-fb90-4944-ff55-ffe7c676f2bf"
      },
      "execution_count": 9,
      "outputs": [
        {
          "output_type": "display_data",
          "data": {
            "text/plain": [
              "<IPython.core.display.HTML object>"
            ],
            "text/html": [
              "\n",
              "            <style>\n",
              "                .geemap-dark {\n",
              "                    --jp-widgets-color: white;\n",
              "                    --jp-widgets-label-color: white;\n",
              "                    --jp-ui-font-color1: white;\n",
              "                    --jp-layout-color2: #454545;\n",
              "                    background-color: #383838;\n",
              "                }\n",
              "                    \n",
              "                .geemap-dark .jupyter-button {\n",
              "                    --jp-layout-color3: #383838;\n",
              "                }\n",
              "                \n",
              "                .geemap-colab {\n",
              "                    background-color: var(--colab-primary-surface-color, white);\n",
              "                }\n",
              "                    \n",
              "                .geemap-colab .jupyter-button {\n",
              "                    --jp-layout-color3: var(--colab-primary-surface-color, white);\n",
              "                }\n",
              "            </style>\n",
              "            "
            ]
          },
          "metadata": {}
        },
        {
          "output_type": "stream",
          "name": "stdout",
          "text": [
            "{'error': \"An Earth Engine exception occurred: Element.get: Parameter 'object' is required.\"}\n"
          ]
        }
      ]
    }
  ]
}